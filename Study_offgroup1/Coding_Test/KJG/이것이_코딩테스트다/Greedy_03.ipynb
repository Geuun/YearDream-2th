{
 "cells": [
  {
   "cell_type": "markdown",
   "metadata": {},
   "source": [
    "# <1이 될 때까지> p111\n",
    "\n",
    "- 어떠한 수 N이 1이 될 때까지 다음의 두 과정 중 하니를· 반복적으로 선택하여 수행하려고 한다. 단, 두 번째 연산은 N이 K로 나누어떨어질 때만 선택할 수 있다.\n",
    "1. N에서 1을뺀다.  \n",
    "2. N을 K로나눈다.  \n",
    "- 예를 들어 N이 17, K가 4라고 가정하자. 이때 1번의 과정을 한 번 수행하면 N은 16이 된다. 이후 에 2번의 과정을 두 번 수행하면 N은 1이 된다. 결과적으로 이 경우 전체 과정을 실행한 횟수는 3이 된다. 이는 N을 1로 만드는 최소 횟수이다.  \n",
    "N과 K가 주어질 때 N이 1이 될 때까지 1번 혹은 2번의 과정을 수행해야 하는 최소 횟수를 구하는 프로그램을 작성하시오.  \n",
    "\n",
    "![이미지입니당](/Users/krc/Desktop/Geun/Github/YearDream-2th/Study_offgroup1/Coding_Test/KJG/이것이_코딩테스트다/imag/Greedy_03_1이될때까지.png)"
   ]
  },
  {
   "cell_type": "markdown",
   "metadata": {},
   "source": [
    "## 내 해석\n",
    "\n",
    "- input : N , K\n",
    "1. (1) : N - 1 을 실행한다.\n",
    "2. (2) : N 이 K 로 나누어 떨어질 때  \n",
    "    = N % K = 0 일 때  \n",
    "    -> N / K 를 실행한다.\n",
    "3. (1), (2) 과정을 반복하다 N이 1 이 되었을 때 위 과정을 실행한 횟수를 구한다."
   ]
  },
  {
   "cell_type": "code",
   "execution_count": 21,
   "metadata": {},
   "outputs": [],
   "source": [
    "N, K = map(int, input().split())"
   ]
  },
  {
   "cell_type": "code",
   "execution_count": 16,
   "metadata": {},
   "outputs": [
    {
     "ename": "NameError",
     "evalue": "name 'X' is not defined",
     "output_type": "error",
     "traceback": [
      "\u001b[0;31m---------------------------------------------------------------------------\u001b[0m",
      "\u001b[0;31mNameError\u001b[0m                                 Traceback (most recent call last)",
      "\u001b[1;32m/Users/krc/Desktop/Geun/Github/YearDream-2th/Study_offgroup1/Coding_Test/KJG/이것이_코딩테스트다/Greedy_03.ipynb Cell 4'\u001b[0m in \u001b[0;36m<cell line: 1>\u001b[0;34m()\u001b[0m\n\u001b[0;32m----> <a href='vscode-notebook-cell:/Users/krc/Desktop/Geun/Github/YearDream-2th/Study_offgroup1/Coding_Test/KJG/%EC%9D%B4%EA%B2%83%EC%9D%B4_%EC%BD%94%EB%94%A9%ED%85%8C%EC%8A%A4%ED%8A%B8%EB%8B%A4/Greedy_03.ipynb#ch0000003?line=0'>1</a>\u001b[0m \u001b[39mfor\u001b[39;00m i \u001b[39min\u001b[39;00m X :\n\u001b[1;32m      <a href='vscode-notebook-cell:/Users/krc/Desktop/Geun/Github/YearDream-2th/Study_offgroup1/Coding_Test/KJG/%EC%9D%B4%EA%B2%83%EC%9D%B4_%EC%BD%94%EB%94%A9%ED%85%8C%EC%8A%A4%ED%8A%B8%EB%8B%A4/Greedy_03.ipynb#ch0000003?line=1'>2</a>\u001b[0m     \n\u001b[1;32m      <a href='vscode-notebook-cell:/Users/krc/Desktop/Geun/Github/YearDream-2th/Study_offgroup1/Coding_Test/KJG/%EC%9D%B4%EA%B2%83%EC%9D%B4_%EC%BD%94%EB%94%A9%ED%85%8C%EC%8A%A4%ED%8A%B8%EB%8B%A4/Greedy_03.ipynb#ch0000003?line=2'>3</a>\u001b[0m     \n\u001b[1;32m      <a href='vscode-notebook-cell:/Users/krc/Desktop/Geun/Github/YearDream-2th/Study_offgroup1/Coding_Test/KJG/%EC%9D%B4%EA%B2%83%EC%9D%B4_%EC%BD%94%EB%94%A9%ED%85%8C%EC%8A%A4%ED%8A%B8%EB%8B%A4/Greedy_03.ipynb#ch0000003?line=3'>4</a>\u001b[0m \n\u001b[1;32m      <a href='vscode-notebook-cell:/Users/krc/Desktop/Geun/Github/YearDream-2th/Study_offgroup1/Coding_Test/KJG/%EC%9D%B4%EA%B2%83%EC%9D%B4_%EC%BD%94%EB%94%A9%ED%85%8C%EC%8A%A4%ED%8A%B8%EB%8B%A4/Greedy_03.ipynb#ch0000003?line=4'>5</a>\u001b[0m     \u001b[39m# 조건을 통해 N을 K로 나눈 나머지가 0이면 N // K 연산\u001b[39;00m\n\u001b[1;32m      <a href='vscode-notebook-cell:/Users/krc/Desktop/Geun/Github/YearDream-2th/Study_offgroup1/Coding_Test/KJG/%EC%9D%B4%EA%B2%83%EC%9D%B4_%EC%BD%94%EB%94%A9%ED%85%8C%EC%8A%A4%ED%8A%B8%EB%8B%A4/Greedy_03.ipynb#ch0000003?line=5'>6</a>\u001b[0m     \u001b[39m# 이외에는 N - 1 연산\u001b[39;00m\n\u001b[1;32m      <a href='vscode-notebook-cell:/Users/krc/Desktop/Geun/Github/YearDream-2th/Study_offgroup1/Coding_Test/KJG/%EC%9D%B4%EA%B2%83%EC%9D%B4_%EC%BD%94%EB%94%A9%ED%85%8C%EC%8A%A4%ED%8A%B8%EB%8B%A4/Greedy_03.ipynb#ch0000003?line=6'>7</a>\u001b[0m     \u001b[39mif\u001b[39;00m N \u001b[39m%\u001b[39m K \u001b[39m==\u001b[39m \u001b[39m0\u001b[39m :\n\u001b[1;32m      <a href='vscode-notebook-cell:/Users/krc/Desktop/Geun/Github/YearDream-2th/Study_offgroup1/Coding_Test/KJG/%EC%9D%B4%EA%B2%83%EC%9D%B4_%EC%BD%94%EB%94%A9%ED%85%8C%EC%8A%A4%ED%8A%B8%EB%8B%A4/Greedy_03.ipynb#ch0000003?line=7'>8</a>\u001b[0m         N \u001b[39m=\u001b[39m \u001b[39mint\u001b[39m(N \u001b[39m/\u001b[39m\u001b[39m/\u001b[39m K)\n",
      "\u001b[0;31mNameError\u001b[0m: name 'X' is not defined"
     ]
    }
   ],
   "source": [
    "for i in X :\n",
    "    \n",
    "    \n",
    "\n",
    "    # 조건을 통해 N을 K로 나눈 나머지가 0이면 N // K 연산\n",
    "    # 이외에는 N - 1 연산\n",
    "    if N % K == 0 :\n",
    "        N = int(N // K)\n",
    "\n",
    "    elif N > 1 :\n",
    "        N = int(N - 1)\n",
    "\n",
    "    else :\n",
    "        result = print(int( 1 ))\n",
    "\n",
    "    N = input(N)\n",
    "print(N)"
   ]
  },
  {
   "cell_type": "code",
   "execution_count": null,
   "metadata": {},
   "outputs": [
    {
     "data": {
      "text/plain": [
       "5"
      ]
     },
     "execution_count": 7,
     "metadata": {},
     "output_type": "execute_result"
    }
   ],
   "source": [
    "N"
   ]
  },
  {
   "cell_type": "code",
   "execution_count": 42,
   "metadata": {},
   "outputs": [],
   "source": [
    "N, K = map(int, input().split())\n",
    "\n",
    "def counter(result) :\n",
    "\n",
    "    for i in result :\n",
    "    \n",
    "        if N % K == 0 :\n",
    "            N = int(N // K)\n",
    "\n",
    "        elif N > 1 :\n",
    "            N = int(N - 1)\n",
    "\n",
    "        result = result + 1\n"
   ]
  },
  {
   "cell_type": "code",
   "execution_count": 43,
   "metadata": {},
   "outputs": [
    {
     "name": "stdout",
     "output_type": "stream",
     "text": [
      "25\n",
      "0\n"
     ]
    }
   ],
   "source": [
    "print(N)\n",
    "print(result)"
   ]
  },
  {
   "cell_type": "code",
   "execution_count": 46,
   "metadata": {},
   "outputs": [
    {
     "ename": "TypeError",
     "evalue": "'int' object is not iterable",
     "output_type": "error",
     "traceback": [
      "\u001b[0;31m---------------------------------------------------------------------------\u001b[0m",
      "\u001b[0;31mTypeError\u001b[0m                                 Traceback (most recent call last)",
      "\u001b[1;32m/Users/krc/Desktop/Geun/Github/YearDream-2th/Study_offgroup1/Coding_Test/KJG/이것이_코딩테스트다/Greedy_03.ipynb Cell 9'\u001b[0m in \u001b[0;36m<cell line: 5>\u001b[0;34m()\u001b[0m\n\u001b[1;32m      <a href='vscode-notebook-cell:/Users/krc/Desktop/Geun/Github/YearDream-2th/Study_offgroup1/Coding_Test/KJG/%EC%9D%B4%EA%B2%83%EC%9D%B4_%EC%BD%94%EB%94%A9%ED%85%8C%EC%8A%A4%ED%8A%B8%EB%8B%A4/Greedy_03.ipynb#ch0000010?line=0'>1</a>\u001b[0m N, K \u001b[39m=\u001b[39m \u001b[39mmap\u001b[39m(\u001b[39mint\u001b[39m, \u001b[39minput\u001b[39m()\u001b[39m.\u001b[39msplit())\n\u001b[1;32m      <a href='vscode-notebook-cell:/Users/krc/Desktop/Geun/Github/YearDream-2th/Study_offgroup1/Coding_Test/KJG/%EC%9D%B4%EA%B2%83%EC%9D%B4_%EC%BD%94%EB%94%A9%ED%85%8C%EC%8A%A4%ED%8A%B8%EB%8B%A4/Greedy_03.ipynb#ch0000010?line=2'>3</a>\u001b[0m result \u001b[39m=\u001b[39m \u001b[39m0\u001b[39m\n\u001b[0;32m----> <a href='vscode-notebook-cell:/Users/krc/Desktop/Geun/Github/YearDream-2th/Study_offgroup1/Coding_Test/KJG/%EC%9D%B4%EA%B2%83%EC%9D%B4_%EC%BD%94%EB%94%A9%ED%85%8C%EC%8A%A4%ED%8A%B8%EB%8B%A4/Greedy_03.ipynb#ch0000010?line=4'>5</a>\u001b[0m \u001b[39mfor\u001b[39;00m i \u001b[39min\u001b[39;00m result :\n\u001b[1;32m      <a href='vscode-notebook-cell:/Users/krc/Desktop/Geun/Github/YearDream-2th/Study_offgroup1/Coding_Test/KJG/%EC%9D%B4%EA%B2%83%EC%9D%B4_%EC%BD%94%EB%94%A9%ED%85%8C%EC%8A%A4%ED%8A%B8%EB%8B%A4/Greedy_03.ipynb#ch0000010?line=6'>7</a>\u001b[0m     \u001b[39mif\u001b[39;00m N \u001b[39m%\u001b[39m K \u001b[39m==\u001b[39m \u001b[39m0\u001b[39m :\n\u001b[1;32m      <a href='vscode-notebook-cell:/Users/krc/Desktop/Geun/Github/YearDream-2th/Study_offgroup1/Coding_Test/KJG/%EC%9D%B4%EA%B2%83%EC%9D%B4_%EC%BD%94%EB%94%A9%ED%85%8C%EC%8A%A4%ED%8A%B8%EB%8B%A4/Greedy_03.ipynb#ch0000010?line=7'>8</a>\u001b[0m         N \u001b[39m=\u001b[39m \u001b[39mint\u001b[39m(N \u001b[39m/\u001b[39m\u001b[39m/\u001b[39m K)\n",
      "\u001b[0;31mTypeError\u001b[0m: 'int' object is not iterable"
     ]
    }
   ],
   "source": [
    "N, K = map(int, input().split())\n",
    "\n",
    "result = 0\n",
    "\n",
    "for i in result :\n",
    "\n",
    "    if N % K == 0 :\n",
    "        N = int(N // K)\n",
    "\n",
    "    elif N > 1 :\n",
    "        N = int(N - 1)\n",
    "        \n",
    "    result = result + 1"
   ]
  },
  {
   "cell_type": "code",
   "execution_count": 4,
   "metadata": {},
   "outputs": [],
   "source": [
    "N, K = map(int, input().split())\n",
    "\n",
    "result = 0\n",
    "\n",
    "while N == 1 :\n",
    "\n",
    "    if N % K == 0 :\n",
    "        N = int(N // K)\n",
    "\n",
    "    else :\n",
    "        N = int(N - 1)\n",
    "\n",
    "    result = result + 1"
   ]
  },
  {
   "cell_type": "code",
   "execution_count": 5,
   "metadata": {},
   "outputs": [
    {
     "name": "stdout",
     "output_type": "stream",
     "text": [
      "0\n"
     ]
    }
   ],
   "source": [
    "print(result)"
   ]
  },
  {
   "cell_type": "code",
   "execution_count": 26,
   "metadata": {},
   "outputs": [
    {
     "name": "stdout",
     "output_type": "stream",
     "text": [
      "1\n",
      "2\n"
     ]
    }
   ],
   "source": [
    "N, K = map(int, input().split())\n",
    "\n",
    "count = 0\n",
    "\n",
    "while True :\n",
    "\n",
    "    \n",
    "\n",
    "    if N != 1:\n",
    "        count = count + 1\n",
    "\n",
    "        if N % K == 0 :\n",
    "            N = int(N // K)\n",
    "\n",
    "        elif N % K != 0 :\n",
    "            N = int(N - 1)\n",
    "\n",
    "    else:\n",
    "        break \n",
    "\n",
    "print(N)\n",
    "print(count)"
   ]
  },
  {
   "cell_type": "code",
   "execution_count": 28,
   "metadata": {},
   "outputs": [
    {
     "name": "stdout",
     "output_type": "stream",
     "text": [
      "1\n",
      "2\n"
     ]
    }
   ],
   "source": [
    "N, K = map(int, input().split())\n",
    "\n",
    "count = 0\n",
    "\n",
    "while True :\n",
    "\n",
    "    if N != 1 :\n",
    "        count = count + 1\n",
    "\n",
    "        if N % K == 0 :\n",
    "            N = int(N // K)\n",
    "\n",
    "        elif N % K != 0 :\n",
    "            N = int(N - 1)\n",
    "\n",
    "    else:\n",
    "        break \n",
    "\n",
    "print(N)\n",
    "print(count)"
   ]
  }
 ],
 "metadata": {
  "interpreter": {
   "hash": "19381dae11859029849bf77a2bf763c10e0e1b48ddfabe634499c3aa535e0678"
  },
  "kernelspec": {
   "display_name": "Python 3.9.10 ('base')",
   "language": "python",
   "name": "python3"
  },
  "language_info": {
   "codemirror_mode": {
    "name": "ipython",
    "version": 3
   },
   "file_extension": ".py",
   "mimetype": "text/x-python",
   "name": "python",
   "nbconvert_exporter": "python",
   "pygments_lexer": "ipython3",
   "version": "3.9.10"
  },
  "orig_nbformat": 4
 },
 "nbformat": 4,
 "nbformat_minor": 2
}
