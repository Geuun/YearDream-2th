{
 "cells": [
  {
   "cell_type": "markdown",
   "metadata": {
    "slideshow": {
     "slide_type": "slide"
    }
   },
   "source": [
    "# 데이터 크롤링"
   ]
  },
  {
   "cell_type": "markdown",
   "metadata": {
    "slideshow": {
     "slide_type": "slide"
    }
   },
   "source": [
    "## selenium(셀레니움)\n",
    "    \n",
    "> 웹 어플리케이션 테스트를 위한 프레임워크.  \n",
    "다양한 브라우저 작동을 지원하며 크롤링에도 활용가능.  \n",
    "정적, 동적페이지 크롤링으로도 접근이 불가능한 데이터에 접근할 때 유용하게 사용  \n",
    "현존하는 거의 모든 웹브라우저를 다양한 언어를 통해 제어 가능"
   ]
  },
  {
   "cell_type": "markdown",
   "metadata": {
    "slideshow": {
     "slide_type": "slide"
    }
   },
   "source": [
    "## selenium Setting\n",
    "\n",
    "> 사용해야 하는 브라우저의 웹드라이버 다운 필요  \n",
    "크롬 환경설정 -> 크롬 정보로 크롬 버전 확인 필요  \n",
    "    \n",
    ">> 크롬 드라이버 다운로드  \n",
    "https://chromedriver.chromium.org/downloads\n",
    "    \n",
    "셀레니움은 이 웹 드라이버 API를 제어하는 파이썬 패키지입니다."
   ]
  },
  {
   "cell_type": "code",
   "execution_count": 2,
   "metadata": {
    "ExecuteTime": {
     "end_time": "2022-04-28T10:11:01.425157Z",
     "start_time": "2022-04-28T10:11:01.293539Z"
    }
   },
   "outputs": [],
   "source": [
    "# M1 사용자분들\n",
    "# 다운로드 받은 chromedriver 위치한 경로에서 아래 명령어 실행\n",
    "!xattr -d com.apple.quarantine chromedriver"
   ]
  },
  {
   "cell_type": "code",
   "execution_count": null,
   "metadata": {
    "ExecuteTime": {
     "end_time": "2022-04-28T10:13:11.736734Z",
     "start_time": "2022-04-28T10:13:10.718495Z"
    },
    "scrolled": true,
    "slideshow": {
     "slide_type": "slide"
    }
   },
   "outputs": [],
   "source": [
    "# 셀레니움 설치\n",
    "!pip uninstall selenium"
   ]
  },
  {
   "cell_type": "code",
   "execution_count": 4,
   "metadata": {
    "ExecuteTime": {
     "end_time": "2022-04-28T10:15:35.222756Z",
     "start_time": "2022-04-28T10:15:35.173241Z"
    }
   },
   "outputs": [],
   "source": [
    "# 셀레니움 import\n",
    "from selenium import webdriver"
   ]
  },
  {
   "cell_type": "code",
   "execution_count": 16,
   "metadata": {
    "ExecuteTime": {
     "end_time": "2022-04-28T10:45:55.127659Z",
     "start_time": "2022-04-28T10:45:55.123509Z"
    }
   },
   "outputs": [],
   "source": [
    "from mykey import MyKey # 강사 개인키"
   ]
  },
  {
   "cell_type": "code",
   "execution_count": 94,
   "metadata": {
    "ExecuteTime": {
     "end_time": "2022-04-28T12:36:08.667051Z",
     "start_time": "2022-04-28T12:36:07.645749Z"
    }
   },
   "outputs": [
    {
     "name": "stdout",
     "output_type": "stream",
     "text": [
      "Requirement already satisfied: webdriver-manager in /Users/byun/miniforge3/envs/main/lib/python3.8/site-packages (3.5.4)\n",
      "Requirement already satisfied: requests in /Users/byun/miniforge3/envs/main/lib/python3.8/site-packages (from webdriver-manager) (2.27.1)\n",
      "Requirement already satisfied: charset-normalizer~=2.0.0 in /Users/byun/miniforge3/envs/main/lib/python3.8/site-packages (from requests->webdriver-manager) (2.0.10)\n",
      "Requirement already satisfied: idna<4,>=2.5 in /Users/byun/miniforge3/envs/main/lib/python3.8/site-packages (from requests->webdriver-manager) (3.3)\n",
      "Requirement already satisfied: certifi>=2017.4.17 in /Users/byun/miniforge3/envs/main/lib/python3.8/site-packages (from requests->webdriver-manager) (2021.10.8)\n",
      "Requirement already satisfied: urllib3<1.27,>=1.21.1 in /Users/byun/miniforge3/envs/main/lib/python3.8/site-packages (from requests->webdriver-manager) (1.26.8)\n"
     ]
    }
   ],
   "source": [
    "# M1 제외 사용자분들 환경설정\n",
    "!pip install webdriver-manager\n",
    "from selenium.webdriver.chrome.service import Service\n",
    "from webdriver_manager.chrome import ChromeDriverManager\n",
    "\n",
    "def set_chrome_driver():\n",
    "    chrome_options = webdriver.ChromeOptions()\n",
    "    driver = webdriver.Chrome(service=Service(ChromeDriverManager().install()), options=chrome_options)\n",
    "    return driver"
   ]
  },
  {
   "cell_type": "code",
   "execution_count": 95,
   "metadata": {
    "ExecuteTime": {
     "end_time": "2022-04-28T12:36:21.598330Z",
     "start_time": "2022-04-28T12:36:19.969553Z"
    }
   },
   "outputs": [
    {
     "name": "stderr",
     "output_type": "stream",
     "text": [
      "\n",
      "\n",
      "====== WebDriver manager ======\n",
      "Current google-chrome version is 101.0.4951\n",
      "Get LATEST chromedriver version for 101.0.4951 google-chrome\n",
      "Driver [/Users/byun/.wdm/drivers/chromedriver/mac64_m1/101.0.4951.41/chromedriver] found in cache\n"
     ]
    }
   ],
   "source": [
    "driver = set_chrome_driver()"
   ]
  },
  {
   "cell_type": "code",
   "execution_count": 6,
   "metadata": {
    "ExecuteTime": {
     "end_time": "2022-04-28T10:18:57.677299Z",
     "start_time": "2022-04-28T10:18:57.670511Z"
    }
   },
   "outputs": [
    {
     "data": {
      "text/plain": [
       "'/Users/byun/0_lecture/이어드림스쿨/advance 보강'"
      ]
     },
     "execution_count": 6,
     "metadata": {},
     "output_type": "execute_result"
    }
   ],
   "source": [
    "import os\n",
    "os.getcwd()"
   ]
  },
  {
   "cell_type": "code",
   "execution_count": 5,
   "metadata": {
    "ExecuteTime": {
     "end_time": "2022-04-28T10:18:48.731266Z",
     "start_time": "2022-04-28T10:18:48.723092Z"
    }
   },
   "outputs": [
    {
     "data": {
      "text/plain": [
       "'/Users/byun/0_lecture/이어드림스쿨/advance 보강'"
      ]
     },
     "execution_count": 5,
     "metadata": {},
     "output_type": "execute_result"
    }
   ],
   "source": [
    "pwd"
   ]
  },
  {
   "cell_type": "markdown",
   "metadata": {
    "slideshow": {
     "slide_type": "slide"
    }
   },
   "source": [
    "## 간단한 브라우저 컨트롤로 기본 개념잡기"
   ]
  },
  {
   "cell_type": "code",
   "execution_count": 25,
   "metadata": {
    "ExecuteTime": {
     "end_time": "2022-04-28T11:09:12.260822Z",
     "start_time": "2022-04-28T11:09:12.254008Z"
    }
   },
   "outputs": [],
   "source": [
    "import time"
   ]
  },
  {
   "cell_type": "code",
   "execution_count": 26,
   "metadata": {
    "ExecuteTime": {
     "end_time": "2022-04-28T11:09:23.535357Z",
     "start_time": "2022-04-28T11:09:18.177529Z"
    }
   },
   "outputs": [
    {
     "name": "stderr",
     "output_type": "stream",
     "text": [
      "/var/folders/6j/f828g8hs1bj6c6tlyxt103q00000gn/T/ipykernel_78609/1902490369.py:3: DeprecationWarning: executable_path has been deprecated, please pass in a Service object\n",
      "  driver = webdriver.Chrome('./chromedriver')\n",
      "/var/folders/6j/f828g8hs1bj6c6tlyxt103q00000gn/T/ipykernel_78609/1902490369.py:14: DeprecationWarning: find_element_by_* commands are deprecated. Please use find_element() instead\n",
      "  driver.find_element_by_xpath('//*[@id=\"query\"]').send_keys('홍대맛집\\n')\n"
     ]
    }
   ],
   "source": [
    "# 크롬창 열기\n",
    "from selenium import webdriver\n",
    "driver = webdriver.Chrome('./chromedriver')\n",
    "# 윈도우 사용자분들\n",
    "# driver = webdriver.Chrome('./chromedriver.exe')\n",
    "\n",
    "# 설정한 url로 데이터 get함수로 요청\n",
    "url = 'https://naver.com'\n",
    "driver.get(url)\n",
    "\n",
    "time.sleep(2)\n",
    "\n",
    "# 키워드를 입력받아 검색창의 xpath에 send_keys 함수로 키워드 입력 \n",
    "driver.find_element_by_xpath('//*[@id=\"query\"]').send_keys('홍대맛집\\n')"
   ]
  },
  {
   "cell_type": "code",
   "execution_count": 13,
   "metadata": {
    "ExecuteTime": {
     "end_time": "2022-04-28T10:40:57.333232Z",
     "start_time": "2022-04-28T10:40:56.094691Z"
    }
   },
   "outputs": [
    {
     "name": "stderr",
     "output_type": "stream",
     "text": [
      "/var/folders/6j/f828g8hs1bj6c6tlyxt103q00000gn/T/ipykernel_78609/3836619332.py:2: DeprecationWarning: find_element_by_* commands are deprecated. Please use find_element() instead\n",
      "  driver.find_element_by_xpath('//*[@id=\"search_btn\"]').click()\n"
     ]
    }
   ],
   "source": [
    "# 검색결과의 news 탭 클릭\n",
    "driver.find_element_by_xpath('//*[@id=\"search_btn\"]').click()"
   ]
  },
  {
   "cell_type": "code",
   "execution_count": 14,
   "metadata": {
    "ExecuteTime": {
     "end_time": "2022-04-28T10:43:52.923547Z",
     "start_time": "2022-04-28T10:43:52.646732Z"
    }
   },
   "outputs": [],
   "source": [
    "url = 'https://naver.com'\n",
    "driver.get(url)"
   ]
  },
  {
   "cell_type": "code",
   "execution_count": 15,
   "metadata": {
    "ExecuteTime": {
     "end_time": "2022-04-28T10:44:50.054917Z",
     "start_time": "2022-04-28T10:44:49.819667Z"
    }
   },
   "outputs": [
    {
     "name": "stderr",
     "output_type": "stream",
     "text": [
      "/var/folders/6j/f828g8hs1bj6c6tlyxt103q00000gn/T/ipykernel_78609/3871658940.py:1: DeprecationWarning: find_element_by_* commands are deprecated. Please use find_element() instead\n",
      "  driver.find_element_by_xpath('//*[@id=\"account\"]/a').click()\n"
     ]
    }
   ],
   "source": [
    "driver.find_element_by_xpath('//*[@id=\"account\"]/a').click()"
   ]
  },
  {
   "cell_type": "code",
   "execution_count": 19,
   "metadata": {
    "ExecuteTime": {
     "end_time": "2022-04-28T10:46:39.210178Z",
     "start_time": "2022-04-28T10:46:39.165305Z"
    }
   },
   "outputs": [
    {
     "name": "stderr",
     "output_type": "stream",
     "text": [
      "/var/folders/6j/f828g8hs1bj6c6tlyxt103q00000gn/T/ipykernel_78609/727108670.py:1: DeprecationWarning: find_element_by_* commands are deprecated. Please use find_element() instead\n",
      "  driver.find_element_by_xpath('//*[@id=\"id\"]').send_keys(key.naver_id)\n"
     ]
    }
   ],
   "source": [
    "driver.find_element_by_xpath('//*[@id=\"id\"]').send_keys(key.naver_id)"
   ]
  },
  {
   "cell_type": "markdown",
   "metadata": {},
   "source": [
    "## 인스타그램 크롤링"
   ]
  },
  {
   "cell_type": "code",
   "execution_count": 35,
   "metadata": {
    "ExecuteTime": {
     "end_time": "2022-04-28T11:22:49.720028Z",
     "start_time": "2022-04-28T11:22:48.216290Z"
    },
    "scrolled": true
   },
   "outputs": [
    {
     "name": "stderr",
     "output_type": "stream",
     "text": [
      "/var/folders/6j/f828g8hs1bj6c6tlyxt103q00000gn/T/ipykernel_78609/1745215592.py:2: DeprecationWarning: executable_path has been deprecated, please pass in a Service object\n",
      "  driver = webdriver.Chrome('./chromedriver')\n"
     ]
    }
   ],
   "source": [
    "# 컨트롤 할 크롬 브라우저 생성\n",
    "driver = webdriver.Chrome('./chromedriver')\n",
    "\n",
    "# url 페이지 이동\n",
    "url = 'http://instargram.com'\n",
    "driver.get(url)\n",
    "\n",
    "time.sleep(1)\n",
    "# 페이스북 로그인 불가\n",
    "# 페이스북 로그인 정보 입력 후 로그인 버튼 클릭\n",
    "driver.find_element_by_xpath('//*[@id=\"loginForm\"]/div/div[1]/div/label/input').send_keys('byun0419')\n",
    "driver.find_element_by_xpath('//*[@id=\"loginForm\"]/div/div[2]/div/label/input').send_keys(insta_pw + '\\n')"
   ]
  },
  {
   "cell_type": "code",
   "execution_count": 38,
   "metadata": {
    "ExecuteTime": {
     "end_time": "2022-04-28T11:26:29.237096Z",
     "start_time": "2022-04-28T11:26:25.340673Z"
    },
    "scrolled": true
   },
   "outputs": [
    {
     "name": "stderr",
     "output_type": "stream",
     "text": [
      "/var/folders/6j/f828g8hs1bj6c6tlyxt103q00000gn/T/ipykernel_78609/2414886005.py:2: DeprecationWarning: find_element_by_* commands are deprecated. Please use find_element() instead\n",
      "  driver.find_element_by_xpath('//*[@id=\"react-root\"]/section/main/div/div/div/div/button').click()\n"
     ]
    }
   ],
   "source": [
    "# 알림설정 팝업창 나중에 하기 클릭\n",
    "driver.find_element_by_xpath('//*[@id=\"react-root\"]/section/main/div/div/div/div/button').click()"
   ]
  },
  {
   "cell_type": "code",
   "execution_count": 39,
   "metadata": {
    "ExecuteTime": {
     "end_time": "2022-04-28T11:27:23.348099Z",
     "start_time": "2022-04-28T11:27:23.298880Z"
    }
   },
   "outputs": [
    {
     "name": "stderr",
     "output_type": "stream",
     "text": [
      "/var/folders/6j/f828g8hs1bj6c6tlyxt103q00000gn/T/ipykernel_78609/1287588659.py:2: DeprecationWarning: find_element_by_* commands are deprecated. Please use find_element() instead\n",
      "  driver.find_element_by_xpath('/html/body/div[6]/div/div/div/div[3]/button[2]').click()\n"
     ]
    }
   ],
   "source": [
    "# 로그인 알림 나중에 하기 클릭\n",
    "driver.find_element_by_xpath('/html/body/div[6]/div/div/div/div[3]/button[2]').click()"
   ]
  },
  {
   "cell_type": "code",
   "execution_count": 42,
   "metadata": {
    "ExecuteTime": {
     "end_time": "2022-04-28T11:31:13.108326Z",
     "start_time": "2022-04-28T11:31:13.036969Z"
    }
   },
   "outputs": [
    {
     "name": "stderr",
     "output_type": "stream",
     "text": [
      "/var/folders/6j/f828g8hs1bj6c6tlyxt103q00000gn/T/ipykernel_78609/2952313980.py:2: DeprecationWarning: find_element_by_* commands are deprecated. Please use find_element() instead\n",
      "  driver.find_element_by_xpath('//*[@id=\"react-root\"]/section/nav/div[2]/div/div/div[2]/input').send_keys('해방촌')\n"
     ]
    }
   ],
   "source": [
    "# 검색 키워드로 크롤링을 하기 위해 검색어 입력\n",
    "driver.find_element_by_xpath('//*[@id=\"react-root\"]/section/nav/div[2]/div/div/div[2]/input').send_keys('해방촌')"
   ]
  },
  {
   "cell_type": "code",
   "execution_count": 43,
   "metadata": {
    "ExecuteTime": {
     "end_time": "2022-04-28T11:33:00.431866Z",
     "start_time": "2022-04-28T11:33:00.338590Z"
    }
   },
   "outputs": [
    {
     "name": "stderr",
     "output_type": "stream",
     "text": [
      "/var/folders/6j/f828g8hs1bj6c6tlyxt103q00000gn/T/ipykernel_78609/1572342606.py:2: DeprecationWarning: find_element_by_* commands are deprecated. Please use find_element() instead\n",
      "  driver.find_element_by_xpath('//*[@id=\"react-root\"]/section/nav/div[2]/div/div/div[2]/div[3]/div/div[2]/div/div[1]/a/div').click()\n"
     ]
    }
   ],
   "source": [
    "# 첫번째 항목 접근\n",
    "driver.find_element_by_xpath('//*[@id=\"react-root\"]/section/nav/div[2]/div/div/div[2]/div[3]/div/div[2]/div/div[1]/a/div').click()"
   ]
  },
  {
   "cell_type": "code",
   "execution_count": 44,
   "metadata": {
    "ExecuteTime": {
     "end_time": "2022-04-28T11:34:27.896390Z",
     "start_time": "2022-04-28T11:34:27.834536Z"
    }
   },
   "outputs": [
    {
     "name": "stderr",
     "output_type": "stream",
     "text": [
      "/var/folders/6j/f828g8hs1bj6c6tlyxt103q00000gn/T/ipykernel_78609/3227392403.py:2: DeprecationWarning: find_element_by_* commands are deprecated. Please use find_element() instead\n",
      "  driver.find_element_by_xpath('//*[@id=\"react-root\"]/section/main/article/div[1]/div/div/div[1]/div[1]/a/div[1]/div[2]').click()\n"
     ]
    }
   ],
   "source": [
    "# 첫번째 포스팅 클릭\n",
    "driver.find_element_by_xpath('//*[@id=\"react-root\"]/section/main/article/div[1]/div/div/div[1]/div[1]/a/div[1]/div[2]').click()"
   ]
  },
  {
   "cell_type": "code",
   "execution_count": 51,
   "metadata": {
    "ExecuteTime": {
     "end_time": "2022-04-28T11:38:56.777678Z",
     "start_time": "2022-04-28T11:38:56.699420Z"
    }
   },
   "outputs": [
    {
     "name": "stderr",
     "output_type": "stream",
     "text": [
      "/var/folders/6j/f828g8hs1bj6c6tlyxt103q00000gn/T/ipykernel_78609/3957526305.py:2: DeprecationWarning: find_element_by_* commands are deprecated. Please use find_element() instead\n",
      "  driver.find_element_by_xpath('/html/body/div[6]/div[3]/div/article/div/div[2]/div/div/div[2]/section[1]/span[1]/button').click()\n"
     ]
    }
   ],
   "source": [
    "# 좋아요 누르기\n",
    "driver.find_element_by_xpath('/html/body/div[6]/div[3]/div/article/div/div[2]/div/div/div[2]/section[1]/span[1]/button').click()"
   ]
  },
  {
   "cell_type": "code",
   "execution_count": 50,
   "metadata": {
    "ExecuteTime": {
     "end_time": "2022-04-28T11:38:32.598901Z",
     "start_time": "2022-04-28T11:38:32.530028Z"
    }
   },
   "outputs": [
    {
     "name": "stderr",
     "output_type": "stream",
     "text": [
      "/var/folders/6j/f828g8hs1bj6c6tlyxt103q00000gn/T/ipykernel_78609/2929938060.py:2: DeprecationWarning: find_element_by_* commands are deprecated. Please use find_element() instead\n",
      "  driver.find_element_by_xpath('/html/body/div[6]/div[3]/div/article/div/div[2]/div/div/div[2]/section[3]/div/form/textarea').send_keys('잘 보고갑니다. 소통해요~')\n"
     ]
    }
   ],
   "source": [
    "# 댓글 달기\n",
    "driver.find_element_by_xpath('/html/body/div[6]/div[3]/div/article/div/div[2]/div/div/div[2]/section[3]/div/form/textarea').send_keys('잘 보고갑니다. 소통해요~')"
   ]
  },
  {
   "cell_type": "code",
   "execution_count": 52,
   "metadata": {
    "ExecuteTime": {
     "end_time": "2022-04-28T11:43:37.312602Z",
     "start_time": "2022-04-28T11:43:37.302581Z"
    }
   },
   "outputs": [
    {
     "name": "stderr",
     "output_type": "stream",
     "text": [
      "/var/folders/6j/f828g8hs1bj6c6tlyxt103q00000gn/T/ipykernel_78609/935858321.py:2: DeprecationWarning: find_element_by_* commands are deprecated. Please use find_element() instead\n",
      "  image = driver.find_element_by_css_selector('img.FFVAD')\n"
     ]
    }
   ],
   "source": [
    "# 포스팅 image url 따오기\n",
    "image = driver.find_element_by_css_selector('img.FFVAD')"
   ]
  },
  {
   "cell_type": "code",
   "execution_count": 55,
   "metadata": {
    "ExecuteTime": {
     "end_time": "2022-04-28T11:44:19.855868Z",
     "start_time": "2022-04-28T11:44:19.846057Z"
    }
   },
   "outputs": [],
   "source": [
    "# image 변수에서 src 속성에 접근\n",
    "img_url = image.get_attribute('src')"
   ]
  },
  {
   "cell_type": "code",
   "execution_count": 57,
   "metadata": {
    "ExecuteTime": {
     "end_time": "2022-04-28T11:44:41.140875Z",
     "start_time": "2022-04-28T11:44:41.137038Z"
    }
   },
   "outputs": [
    {
     "data": {
      "text/plain": [
       "'https://scontent-gmp1-1.cdninstagram.com/v/t51.2885-15/278920010_690113785401804_5186492769966826155_n.jpg?stp=dst-jpg_e35&_nc_ht=scontent-gmp1-1.cdninstagram.com&_nc_cat=100&_nc_ohc=AUBmFn8OwPYAX92ke18&tn=Frh4zcLEI8pG21mV&edm=ALQROFkBAAAA&ccb=7-4&ig_cache_key=MjgyMjcwODQwMDg0OTUwOTQ0NA%3D%3D.2-ccb7-4&oh=00_AT8C4TRH6_bmPuQK8Q2I_mBLus3nxqyExA_xouakK0n_Vw&oe=62718D1B&_nc_sid=30a2ef'"
      ]
     },
     "execution_count": 57,
     "metadata": {},
     "output_type": "execute_result"
    }
   ],
   "source": [
    "img_url"
   ]
  },
  {
   "cell_type": "code",
   "execution_count": 59,
   "metadata": {
    "ExecuteTime": {
     "end_time": "2022-04-28T11:46:07.775389Z",
     "start_time": "2022-04-28T11:46:07.695072Z"
    }
   },
   "outputs": [
    {
     "data": {
      "text/plain": [
       "('./save_test.jpg', <http.client.HTTPMessage at 0x11a621a90>)"
      ]
     },
     "execution_count": 59,
     "metadata": {},
     "output_type": "execute_result"
    }
   ],
   "source": [
    "# 이미지 저장을 위한 패키지\n",
    "import urllib\n",
    "# 이미지 저장\n",
    "urllib.request.urlretrieve(img_url, './save_test.jpg')"
   ]
  },
  {
   "cell_type": "code",
   "execution_count": 88,
   "metadata": {
    "ExecuteTime": {
     "end_time": "2022-04-28T12:25:03.220059Z",
     "start_time": "2022-04-28T12:25:03.197597Z"
    }
   },
   "outputs": [],
   "source": [
    "# 접근한 페이지의 소스 코드 페이지 html 가져오기\n",
    "page_text = driver.page_source"
   ]
  },
  {
   "cell_type": "code",
   "execution_count": 62,
   "metadata": {
    "ExecuteTime": {
     "end_time": "2022-04-28T12:07:38.012796Z",
     "start_time": "2022-04-28T12:07:38.010956Z"
    }
   },
   "outputs": [],
   "source": [
    "from bs4 import BeautifulSoup"
   ]
  },
  {
   "cell_type": "code",
   "execution_count": 89,
   "metadata": {
    "ExecuteTime": {
     "end_time": "2022-04-28T12:25:05.216835Z",
     "start_time": "2022-04-28T12:25:05.182769Z"
    }
   },
   "outputs": [],
   "source": [
    "html = BeautifulSoup(page_text, 'html.parser')"
   ]
  },
  {
   "cell_type": "code",
   "execution_count": 66,
   "metadata": {
    "ExecuteTime": {
     "end_time": "2022-04-28T12:09:18.677767Z",
     "start_time": "2022-04-28T12:09:18.673078Z"
    }
   },
   "outputs": [
    {
     "name": "stdout",
     "output_type": "stream",
     "text": [
      "#윤주당\n",
      "#해방촌\n",
      "#남산아래주막\n"
     ]
    }
   ],
   "source": [
    "for tag in html.select('a.xil3i'):\n",
    "    print(tag.text)"
   ]
  },
  {
   "cell_type": "code",
   "execution_count": 68,
   "metadata": {
    "ExecuteTime": {
     "end_time": "2022-04-28T12:11:03.066585Z",
     "start_time": "2022-04-28T12:11:03.060696Z"
    }
   },
   "outputs": [
    {
     "data": {
      "text/plain": [
       "'yunjudang'"
      ]
     },
     "execution_count": 68,
     "metadata": {},
     "output_type": "execute_result"
    }
   ],
   "source": [
    "# id 가져오기\n",
    "html.select('a.sqdOP')[0].text # sqdOP yWX7d     _8A5w5   ZIAjV"
   ]
  },
  {
   "cell_type": "code",
   "execution_count": 71,
   "metadata": {
    "ExecuteTime": {
     "end_time": "2022-04-28T12:13:30.325367Z",
     "start_time": "2022-04-28T12:13:30.318390Z"
    }
   },
   "outputs": [
    {
     "data": {
      "text/plain": [
       "'-윤주당 오픈합니다~🌝덥고 습한날씨가 계속 되네요❕시원한 막걸리 한잔으로 꿉꿉한 기분 날려버리자구요~💛제주 막창순대에  지리산 꽃잠 조합을 강력히 추천합니다~👍ㅎㅎ 오늘도 해방촌 언덕에서 뵐게요~✨-윤주당 영업안내매주 (월) 휴무 / 매달 첫째주 (월,화) 휴무18:00 - 23:00 / 📞070-8151-5765-예약하시는 방법본관🌷 프로필링크👉캐치테이블(오후 6시, 한팀 4인까지)별관🌷@yunjudang_namsan DM (3인까지 입장)-예약하시는 방법본관🌷 프로필링크👉캐치테이블(오후 6시, 한팀 4인까지)별관🌷@yunjudang_namsan DM (3인까지 입장)...#윤주당 #해방촌 #남산아래주막'"
      ]
     },
     "execution_count": 71,
     "metadata": {},
     "output_type": "execute_result"
    }
   ],
   "source": [
    "# 포스팅 텍스트 가져오기\n",
    "html.select('div.MOdxS')[0].text"
   ]
  },
  {
   "cell_type": "code",
   "execution_count": 91,
   "metadata": {
    "ExecuteTime": {
     "end_time": "2022-04-28T12:25:19.495397Z",
     "start_time": "2022-04-28T12:25:19.482939Z"
    }
   },
   "outputs": [
    {
     "data": {
      "text/plain": [
       "[]"
      ]
     },
     "execution_count": 91,
     "metadata": {},
     "output_type": "execute_result"
    }
   ],
   "source": [
    "# 좋아요 갯수 크롤링\n",
    "html.select('div.fDxYl span') # _7UhW9   xLCgt        qyrsm KV-D4               fDxYl    T0kll "
   ]
  },
  {
   "cell_type": "code",
   "execution_count": 93,
   "metadata": {
    "ExecuteTime": {
     "end_time": "2022-04-28T12:27:02.137955Z",
     "start_time": "2022-04-28T12:26:51.509946Z"
    }
   },
   "outputs": [
    {
     "name": "stderr",
     "output_type": "stream",
     "text": [
      "/var/folders/6j/f828g8hs1bj6c6tlyxt103q00000gn/T/ipykernel_78609/1000425338.py:5: DeprecationWarning: find_element_by_* commands are deprecated. Please use find_element() instead\n",
      "  driver.find_element_by_xpath('/html/body/div[6]/div[2]/div/div[2]/button').click()\n"
     ]
    },
    {
     "name": "stdout",
     "output_type": "stream",
     "text": [
      "좋아요 1,331\n",
      "2번째 태그: #이태원\n",
      "2번째 태그: #해방촌\n",
      "2번째 태그: #이태원와인바\n",
      "2번째 태그: #해방촌와인바\n",
      "2번째 태그: #오리\n",
      "2번째 태그: #와인바오리\n",
      "2번째 태그: #해방촌오리\n",
      "2번째 태그: #ori\n",
      "2번째 태그: #와인바\n",
      "2번째 태그: #해방촌맛집\n",
      "2번째 태그: #해방촌카페\n",
      "좋아요 1,044\n",
      "3번째 태그: #파운즈\n",
      "여러명이 좋아합니다.\n",
      "4번째 태그: #해방촌\n",
      "4번째 태그: #해방촌카페\n",
      "4번째 태그: #코티워모\n",
      "4번째 태그: #kottiuomo\n",
      "4번째 태그: #운동하는남자\n",
      "4번째 태그: #운동하는여자\n",
      "4번째 태그: #workout\n",
      "4번째 태그: #classic\n",
      "4번째 태그: #클래식\n",
      "4번째 태그: #fitness\n",
      "4번째 태그: #menswear\n",
      "4번째 태그: #menslook\n",
      "4번째 태그: #mensfashion\n",
      "4번째 태그: #menstyle\n",
      "4번째 태그: #수트\n",
      "4번째 태그: #suitup\n",
      "좋아요 385\n",
      "좋아요 234\n"
     ]
    }
   ],
   "source": [
    "# 반복문으로 페이지 넘기면서 태그 좋아요 갯수 출력\n",
    "# 2번째 페이지 부터 넘기면 코드 깔끔\n",
    "for i in range(5):\n",
    "    time.sleep(2)\n",
    "    driver.find_element_by_xpath('/html/body/div[6]/div[2]/div/div[2]/button').click()\n",
    "    page_text = driver.page_source\n",
    "    html = BeautifulSoup(page_text, 'html.parser')\n",
    "    for tag in html.select('a.xil3i'):\n",
    "        print(f'{i+1}번째 태그:', tag.text)\n",
    "    if html.select('div.fDxYl span') == []:\n",
    "        print('여러명이 좋아합니다.')\n",
    "    else:\n",
    "        print('좋아요', html.select('div.fDxYl span')[0].text)"
   ]
  },
  {
   "cell_type": "code",
   "execution_count": null,
   "metadata": {
    "ExecuteTime": {
     "end_time": "2021-08-29T08:17:07.255494Z",
     "start_time": "2021-08-29T08:17:07.231584Z"
    },
    "scrolled": true
   },
   "outputs": [],
   "source": [
    "# 앞 포스팅으로 이동하는 꺽쇠 버튼(첫 포스팅은 작동을 뒤로합니다.)\n",
    "\n",
    "# 뒤 포스팅으로 이동하는 꺾쇠 버튼\n"
   ]
  },
  {
   "cell_type": "markdown",
   "metadata": {},
   "source": [
    "## 크롤링 참고용 추가 코드"
   ]
  },
  {
   "cell_type": "code",
   "execution_count": null,
   "metadata": {},
   "outputs": [],
   "source": [
    "# 스크립트 형태로 전달\n",
    "driver.execute_script('document.getElementById(\"id\").value = \"\"')\n",
    "driver.execute_script('document.getElementById(\"pw\").value = \"\"'')\n",
    "\n",
    "# 스크롤다운\n",
    "driver.execute_script(\"window.scrollTo(0, document.body.scrollHeight);\")"
   ]
  }
 ],
 "metadata": {
  "kernelspec": {
   "display_name": "Python 3 (ipykernel)",
   "language": "python",
   "name": "python3"
  },
  "language_info": {
   "codemirror_mode": {
    "name": "ipython",
    "version": 3
   },
   "file_extension": ".py",
   "mimetype": "text/x-python",
   "name": "python",
   "nbconvert_exporter": "python",
   "pygments_lexer": "ipython3",
   "version": "3.8.12"
  },
  "toc": {
   "base_numbering": 1,
   "nav_menu": {},
   "number_sections": true,
   "sideBar": true,
   "skip_h1_title": true,
   "title_cell": "Table of Contents",
   "title_sidebar": "Contents",
   "toc_cell": false,
   "toc_position": {},
   "toc_section_display": true,
   "toc_window_display": false
  },
  "varInspector": {
   "cols": {
    "lenName": 16,
    "lenType": 16,
    "lenVar": 40
   },
   "kernels_config": {
    "python": {
     "delete_cmd_postfix": "",
     "delete_cmd_prefix": "del ",
     "library": "var_list.py",
     "varRefreshCmd": "print(var_dic_list())"
    },
    "r": {
     "delete_cmd_postfix": ") ",
     "delete_cmd_prefix": "rm(",
     "library": "var_list.r",
     "varRefreshCmd": "cat(var_dic_list()) "
    }
   },
   "types_to_exclude": [
    "module",
    "function",
    "builtin_function_or_method",
    "instance",
    "_Feature"
   ],
   "window_display": false
  }
 },
 "nbformat": 4,
 "nbformat_minor": 2
}
