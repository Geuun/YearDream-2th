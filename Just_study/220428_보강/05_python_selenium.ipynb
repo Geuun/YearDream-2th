{
 "cells": [
  {
   "cell_type": "markdown",
   "metadata": {
    "slideshow": {
     "slide_type": "slide"
    }
   },
   "source": [
    "# 데이터 크롤링"
   ]
  },
  {
   "cell_type": "markdown",
   "metadata": {
    "slideshow": {
     "slide_type": "slide"
    }
   },
   "source": [
    "## selenium(셀레니움)\n",
    "    \n",
    "> 웹 어플리케이션 테스트를 위한 프레임워크.  \n",
    "다양한 브라우저 작동을 지원하며 크롤링에도 활용가능.  \n",
    "정적, 동적페이지 크롤링으로도 접근이 불가능한 데이터에 접근할 때 유용하게 사용  \n",
    "현존하는 거의 모든 웹브라우저를 다양한 언어를 통해 제어 가능"
   ]
  },
  {
   "cell_type": "markdown",
   "metadata": {
    "slideshow": {
     "slide_type": "slide"
    }
   },
   "source": [
    "## selenium Setting\n",
    "\n",
    "> 사용해야 하는 브라우저의 웹드라이버 다운 필요  \n",
    "크롬 환경설정 -> 크롬 정보로 크롬 버전 확인 필요  \n",
    "    \n",
    ">> 크롬 드라이버 다운로드  \n",
    "https://chromedriver.chromium.org/downloads\n",
    "    \n",
    "셀레니움은 이 웹 드라이버 API를 제어하는 파이썬 패키지입니다."
   ]
  },
  {
   "cell_type": "code",
   "execution_count": null,
   "metadata": {},
   "outputs": [],
   "source": [
    "# M1 사용자분들\n",
    "# 다운로드 받은 chromedriver 위치한 경로에서 아래 명령어 실행\n",
    "!xattr -d com.apple.quarantine chromedriver"
   ]
  },
  {
   "cell_type": "code",
   "execution_count": null,
   "metadata": {
    "ExecuteTime": {
     "end_time": "2021-02-03T08:06:04.903769Z",
     "start_time": "2021-02-03T08:06:02.586156Z"
    },
    "scrolled": true,
    "slideshow": {
     "slide_type": "slide"
    }
   },
   "outputs": [],
   "source": [
    "# 셀레니움 설치\n",
    "!pip install selenium"
   ]
  },
  {
   "cell_type": "code",
   "execution_count": null,
   "metadata": {
    "ExecuteTime": {
     "end_time": "2022-04-28T08:30:40.705905Z",
     "start_time": "2022-04-28T08:30:40.531091Z"
    }
   },
   "outputs": [],
   "source": [
    "# 필요모듈 import\n"
   ]
  },
  {
   "cell_type": "code",
   "execution_count": null,
   "metadata": {
    "ExecuteTime": {
     "end_time": "2022-04-28T08:30:41.201925Z",
     "start_time": "2022-04-28T08:30:41.166678Z"
    },
    "slideshow": {
     "slide_type": "fragment"
    }
   },
   "outputs": [],
   "source": [
    "# 셀레니움 import\n"
   ]
  },
  {
   "cell_type": "code",
   "execution_count": null,
   "metadata": {},
   "outputs": [],
   "source": [
    "# M1 제외 사용자분들 환경설정\n"
   ]
  },
  {
   "cell_type": "markdown",
   "metadata": {
    "slideshow": {
     "slide_type": "slide"
    }
   },
   "source": [
    "## 간단한 브라우저 컨트롤로 기본 개념잡기"
   ]
  },
  {
   "cell_type": "code",
   "execution_count": null,
   "metadata": {
    "ExecuteTime": {
     "end_time": "2022-04-28T08:31:03.080343Z",
     "start_time": "2022-04-28T08:31:01.694931Z"
    }
   },
   "outputs": [],
   "source": [
    "# 크롬창 열기\n",
    "\n",
    "# 윈도우 사용자분들\n",
    "# driver = webdriver.Chrome('./chromedriver.exe')"
   ]
  },
  {
   "cell_type": "code",
   "execution_count": null,
   "metadata": {
    "ExecuteTime": {
     "end_time": "2022-04-28T08:36:20.892593Z",
     "start_time": "2022-04-28T08:36:20.670537Z"
    }
   },
   "outputs": [],
   "source": [
    "# 설정한 url로 데이터 get함수로 요청\n"
   ]
  },
  {
   "cell_type": "code",
   "execution_count": null,
   "metadata": {
    "ExecuteTime": {
     "end_time": "2022-04-28T08:41:17.746145Z",
     "start_time": "2022-04-28T08:41:17.682047Z"
    }
   },
   "outputs": [],
   "source": [
    "# 키워드를 입력받아 검색창의 xpath에 send_keys 함수로 키워드 입력 \n"
   ]
  },
  {
   "cell_type": "code",
   "execution_count": null,
   "metadata": {
    "ExecuteTime": {
     "end_time": "2021-08-29T07:51:10.129293Z",
     "start_time": "2021-08-29T07:51:10.015673Z"
    }
   },
   "outputs": [],
   "source": [
    "# 검색결과의 news 탭 클릭\n"
   ]
  },
  {
   "cell_type": "markdown",
   "metadata": {},
   "source": [
    "## 인스타그램 크롤링"
   ]
  },
  {
   "cell_type": "code",
   "execution_count": null,
   "metadata": {},
   "outputs": [],
   "source": [
    "# 컨트롤 할 크롬 브라우저 생성\n"
   ]
  },
  {
   "cell_type": "code",
   "execution_count": null,
   "metadata": {
    "ExecuteTime": {
     "end_time": "2022-04-28T08:43:26.409681Z",
     "start_time": "2022-04-28T08:43:25.338359Z"
    }
   },
   "outputs": [],
   "source": [
    "# url 페이지 이동\n"
   ]
  },
  {
   "cell_type": "code",
   "execution_count": null,
   "metadata": {
    "ExecuteTime": {
     "end_time": "2021-08-29T08:02:47.560209Z",
     "start_time": "2021-08-29T08:02:46.127149Z"
    }
   },
   "outputs": [],
   "source": [
    "# 페이스북 로그인 클릭\n"
   ]
  },
  {
   "cell_type": "code",
   "execution_count": null,
   "metadata": {
    "ExecuteTime": {
     "end_time": "2021-08-29T08:03:41.423876Z",
     "start_time": "2021-08-29T08:03:37.308062Z"
    }
   },
   "outputs": [],
   "source": [
    "# 페이스북 로그인 정보 입력 후 로그인 버튼 클릭\n",
    "\n",
    "# 페이지 로딩에 약간의 시간이 필요하면\n"
   ]
  },
  {
   "cell_type": "code",
   "execution_count": null,
   "metadata": {
    "ExecuteTime": {
     "end_time": "2021-08-29T08:04:08.901678Z",
     "start_time": "2021-08-29T08:04:08.875140Z"
    },
    "scrolled": true
   },
   "outputs": [],
   "source": [
    "# 알림설정 팝업창 나중에 하기 클릭\n"
   ]
  },
  {
   "cell_type": "code",
   "execution_count": null,
   "metadata": {
    "ExecuteTime": {
     "end_time": "2021-08-29T08:05:28.450988Z",
     "start_time": "2021-08-29T08:05:28.362781Z"
    }
   },
   "outputs": [],
   "source": [
    "# 검색 키워드로 크롤링을 하기 위해 검색어 입력\n"
   ]
  },
  {
   "cell_type": "code",
   "execution_count": null,
   "metadata": {
    "ExecuteTime": {
     "end_time": "2021-08-29T08:06:23.562381Z",
     "start_time": "2021-08-29T08:06:23.393928Z"
    }
   },
   "outputs": [],
   "source": [
    "# 첫번째 항목 접근\n"
   ]
  },
  {
   "cell_type": "code",
   "execution_count": null,
   "metadata": {
    "ExecuteTime": {
     "end_time": "2021-08-29T08:09:25.756252Z",
     "start_time": "2021-08-29T08:09:25.579883Z"
    }
   },
   "outputs": [],
   "source": [
    "# 첫번째 포스팅 클릭\n"
   ]
  },
  {
   "cell_type": "code",
   "execution_count": null,
   "metadata": {
    "ExecuteTime": {
     "end_time": "2021-08-29T08:07:30.668999Z",
     "start_time": "2021-08-29T08:07:30.543155Z"
    }
   },
   "outputs": [],
   "source": [
    "# 좋아요 누르기\n"
   ]
  },
  {
   "cell_type": "code",
   "execution_count": null,
   "metadata": {
    "ExecuteTime": {
     "end_time": "2021-08-29T08:10:11.523588Z",
     "start_time": "2021-08-29T08:10:11.424659Z"
    }
   },
   "outputs": [],
   "source": [
    "# 댓글 달기\n"
   ]
  },
  {
   "cell_type": "code",
   "execution_count": null,
   "metadata": {
    "ExecuteTime": {
     "end_time": "2021-08-29T08:14:08.690078Z",
     "start_time": "2021-08-29T08:14:08.677508Z"
    }
   },
   "outputs": [],
   "source": [
    "# 포스팅 image url 따오기\n"
   ]
  },
  {
   "cell_type": "code",
   "execution_count": null,
   "metadata": {
    "ExecuteTime": {
     "end_time": "2021-08-29T08:14:10.116152Z",
     "start_time": "2021-08-29T08:14:10.111434Z"
    }
   },
   "outputs": [],
   "source": [
    "image"
   ]
  },
  {
   "cell_type": "code",
   "execution_count": null,
   "metadata": {
    "ExecuteTime": {
     "end_time": "2021-08-29T08:14:13.104989Z",
     "start_time": "2021-08-29T08:14:13.095106Z"
    }
   },
   "outputs": [],
   "source": [
    "# image 변수에서 src 속성에 접근\n"
   ]
  },
  {
   "cell_type": "code",
   "execution_count": null,
   "metadata": {
    "ExecuteTime": {
     "end_time": "2021-08-29T08:14:13.544593Z",
     "start_time": "2021-08-29T08:14:13.541008Z"
    }
   },
   "outputs": [],
   "source": [
    "image_url"
   ]
  },
  {
   "cell_type": "code",
   "execution_count": null,
   "metadata": {
    "ExecuteTime": {
     "end_time": "2021-08-29T08:14:25.576208Z",
     "start_time": "2021-08-29T08:14:25.429695Z"
    }
   },
   "outputs": [],
   "source": [
    "# 이미지 저장을 위한 패키지\n",
    "import urllib\n",
    "# 이미지 저장\n"
   ]
  },
  {
   "cell_type": "code",
   "execution_count": null,
   "metadata": {
    "ExecuteTime": {
     "end_time": "2021-08-29T08:17:07.255494Z",
     "start_time": "2021-08-29T08:17:07.231584Z"
    },
    "scrolled": true
   },
   "outputs": [],
   "source": [
    "# 앞 포스팅으로 이동하는 꺽쇠 버튼(첫 포스팅은 작동을 뒤로합니다.)\n",
    "\n",
    "# 뒤 포스팅으로 이동하는 꺾쇠 버튼\n"
   ]
  },
  {
   "cell_type": "markdown",
   "metadata": {},
   "source": [
    "## 크롤링 참고용 추가 코드"
   ]
  },
  {
   "cell_type": "code",
   "execution_count": null,
   "metadata": {},
   "outputs": [],
   "source": [
    "# 스크립트 형태로 전달\n",
    "driver.execute_script('document.getElementById(\"id\").value = \"\"')\n",
    "driver.execute_script('document.getElementById(\"pw\").value = \"\"'')\n",
    "\n",
    "# 스크롤다운\n",
    "driver.execute_script(\"window.scrollTo(0, document.body.scrollHeight);\")"
   ]
  }
 ],
 "metadata": {
  "kernelspec": {
   "display_name": "Python 3 (ipykernel)",
   "language": "python",
   "name": "python3"
  },
  "language_info": {
   "codemirror_mode": {
    "name": "ipython",
    "version": 3
   },
   "file_extension": ".py",
   "mimetype": "text/x-python",
   "name": "python",
   "nbconvert_exporter": "python",
   "pygments_lexer": "ipython3",
   "version": "3.8.12"
  },
  "toc": {
   "base_numbering": 1,
   "nav_menu": {},
   "number_sections": true,
   "sideBar": true,
   "skip_h1_title": true,
   "title_cell": "Table of Contents",
   "title_sidebar": "Contents",
   "toc_cell": false,
   "toc_position": {},
   "toc_section_display": true,
   "toc_window_display": false
  },
  "varInspector": {
   "cols": {
    "lenName": 16,
    "lenType": 16,
    "lenVar": 40
   },
   "kernels_config": {
    "python": {
     "delete_cmd_postfix": "",
     "delete_cmd_prefix": "del ",
     "library": "var_list.py",
     "varRefreshCmd": "print(var_dic_list())"
    },
    "r": {
     "delete_cmd_postfix": ") ",
     "delete_cmd_prefix": "rm(",
     "library": "var_list.r",
     "varRefreshCmd": "cat(var_dic_list()) "
    }
   },
   "types_to_exclude": [
    "module",
    "function",
    "builtin_function_or_method",
    "instance",
    "_Feature"
   ],
   "window_display": false
  }
 },
 "nbformat": 4,
 "nbformat_minor": 2
}
