{
 "cells": [
  {
   "cell_type": "markdown",
   "metadata": {
    "slideshow": {
     "slide_type": "slide"
    }
   },
   "source": [
    "# 데이터 크롤링"
   ]
  },
  {
   "cell_type": "markdown",
   "metadata": {
    "slideshow": {
     "slide_type": "slide"
    }
   },
   "source": [
    "## selenium(셀레니움)\n",
    "    \n",
    "> 웹 어플리케이션 테스트를 위한 프레임워크.  \n",
    "다양한 브라우저 작동을 지원하며 크롤링에도 활용가능.  \n",
    "정적, 동적페이지 크롤링으로도 접근이 불가능한 데이터에 접근할 때 유용하게 사용  \n",
    "현존하는 거의 모든 웹브라우저를 다양한 언어를 통해 제어 가능"
   ]
  },
  {
   "cell_type": "markdown",
   "metadata": {
    "slideshow": {
     "slide_type": "slide"
    }
   },
   "source": [
    "## selenium Setting\n",
    "\n",
    "> 사용해야 하는 브라우저의 웹드라이버 다운 필요  \n",
    "크롬 환경설정 -> 크롬 정보로 크롬 버전 확인 필요  \n",
    "    \n",
    ">> 크롬 드라이버 다운로드  \n",
    "https://chromedriver.chromium.org/downloads\n",
    "    \n",
    "셀레니움은 이 웹 드라이버 API를 제어하는 파이썬 패키지입니다."
   ]
  },
  {
   "cell_type": "code",
   "execution_count": 1,
   "metadata": {},
   "outputs": [
    {
     "data": {
      "text/plain": [
       "'/Users/geun/Desktop/Geun/GitHub/YearDream-2th/Just_study/220428 보강'"
      ]
     },
     "execution_count": 1,
     "metadata": {},
     "output_type": "execute_result"
    }
   ],
   "source": [
    "pwd"
   ]
  },
  {
   "cell_type": "code",
   "execution_count": 2,
   "metadata": {},
   "outputs": [
    {
     "name": "stdout",
     "output_type": "stream",
     "text": [
      "xattr: chromedriver: No such xattr: com.apple.quarantine\n"
     ]
    }
   ],
   "source": [
    "# M1 사용자분들\n",
    "# 다운로드 받은 chromedriver 위치한 경로에서 아래 명령어 실행\n",
    "!xattr -d com.apple.quarantine chromedriver"
   ]
  },
  {
   "cell_type": "code",
   "execution_count": 3,
   "metadata": {
    "ExecuteTime": {
     "end_time": "2021-02-03T08:06:04.903769Z",
     "start_time": "2021-02-03T08:06:02.586156Z"
    },
    "scrolled": true,
    "slideshow": {
     "slide_type": "slide"
    }
   },
   "outputs": [
    {
     "name": "stdout",
     "output_type": "stream",
     "text": [
      "Requirement already satisfied: selenium in /Users/geun/miniforge3/lib/python3.9/site-packages (4.1.3)\n",
      "Requirement already satisfied: urllib3[secure,socks]~=1.26 in /Users/geun/miniforge3/lib/python3.9/site-packages (from selenium) (1.26.9)\n",
      "Requirement already satisfied: trio~=0.17 in /Users/geun/miniforge3/lib/python3.9/site-packages (from selenium) (0.20.0)\n",
      "Requirement already satisfied: trio-websocket~=0.9 in /Users/geun/miniforge3/lib/python3.9/site-packages (from selenium) (0.9.2)\n",
      "Requirement already satisfied: sortedcontainers in /Users/geun/miniforge3/lib/python3.9/site-packages (from trio~=0.17->selenium) (2.4.0)\n",
      "Requirement already satisfied: attrs>=19.2.0 in /Users/geun/miniforge3/lib/python3.9/site-packages (from trio~=0.17->selenium) (21.4.0)\n",
      "Requirement already satisfied: idna in /Users/geun/miniforge3/lib/python3.9/site-packages (from trio~=0.17->selenium) (3.3)\n",
      "Requirement already satisfied: outcome in /Users/geun/miniforge3/lib/python3.9/site-packages (from trio~=0.17->selenium) (1.1.0)\n",
      "Requirement already satisfied: async-generator>=1.9 in /Users/geun/miniforge3/lib/python3.9/site-packages (from trio~=0.17->selenium) (1.10)\n",
      "Requirement already satisfied: sniffio in /Users/geun/miniforge3/lib/python3.9/site-packages (from trio~=0.17->selenium) (1.2.0)\n",
      "Requirement already satisfied: wsproto>=0.14 in /Users/geun/miniforge3/lib/python3.9/site-packages (from trio-websocket~=0.9->selenium) (1.1.0)\n",
      "Requirement already satisfied: PySocks!=1.5.7,<2.0,>=1.5.6 in /Users/geun/miniforge3/lib/python3.9/site-packages (from urllib3[secure,socks]~=1.26->selenium) (1.7.1)\n",
      "Requirement already satisfied: certifi in /Users/geun/miniforge3/lib/python3.9/site-packages (from urllib3[secure,socks]~=1.26->selenium) (2021.10.8)\n",
      "Requirement already satisfied: cryptography>=1.3.4 in /Users/geun/miniforge3/lib/python3.9/site-packages (from urllib3[secure,socks]~=1.26->selenium) (36.0.2)\n",
      "Requirement already satisfied: pyOpenSSL>=0.14 in /Users/geun/miniforge3/lib/python3.9/site-packages (from urllib3[secure,socks]~=1.26->selenium) (22.0.0)\n",
      "Requirement already satisfied: cffi>=1.12 in /Users/geun/miniforge3/lib/python3.9/site-packages (from cryptography>=1.3.4->urllib3[secure,socks]~=1.26->selenium) (1.15.0)\n",
      "Requirement already satisfied: h11<1,>=0.9.0 in /Users/geun/miniforge3/lib/python3.9/site-packages (from wsproto>=0.14->trio-websocket~=0.9->selenium) (0.13.0)\n",
      "Requirement already satisfied: pycparser in /Users/geun/miniforge3/lib/python3.9/site-packages (from cffi>=1.12->cryptography>=1.3.4->urllib3[secure,socks]~=1.26->selenium) (2.21)\n"
     ]
    }
   ],
   "source": [
    "# 셀레니움 설치\n",
    "!pip install selenium"
   ]
  },
  {
   "cell_type": "code",
   "execution_count": 22,
   "metadata": {
    "ExecuteTime": {
     "end_time": "2022-04-28T08:30:40.705905Z",
     "start_time": "2022-04-28T08:30:40.531091Z"
    }
   },
   "outputs": [],
   "source": [
    "# 필요모듈 import\n",
    "import time"
   ]
  },
  {
   "cell_type": "code",
   "execution_count": null,
   "metadata": {
    "ExecuteTime": {
     "end_time": "2022-04-28T08:30:41.201925Z",
     "start_time": "2022-04-28T08:30:41.166678Z"
    },
    "slideshow": {
     "slide_type": "fragment"
    }
   },
   "outputs": [],
   "source": [
    "# 셀레니움 import\n"
   ]
  },
  {
   "cell_type": "code",
   "execution_count": null,
   "metadata": {},
   "outputs": [],
   "source": [
    "# M1 제외 사용자분들 환경설정\n",
    "#!pip install webdriver-manager\n",
    "#from selenium.webdriver.chrome.service import Service\n",
    "#from webdriver_manager.chrome import ChromeDriverManager\n",
    "\n",
    "#def set_chrome_driver():\n",
    "#    chrome_options = webdriver.ChromeOptions()\n",
    "#    driver = webdriver.Chrome(service=Service(ChromeDriverManager().install()), options=chrome_options)\n",
    "#    return driver"
   ]
  },
  {
   "cell_type": "code",
   "execution_count": 5,
   "metadata": {},
   "outputs": [
    {
     "data": {
      "text/plain": [
       "'/Users/geun/Desktop/Geun/GitHub/YearDream-2th/Just_study/220428 보강'"
      ]
     },
     "execution_count": 5,
     "metadata": {},
     "output_type": "execute_result"
    }
   ],
   "source": [
    "import os\n",
    "os.getcwd()"
   ]
  },
  {
   "cell_type": "code",
   "execution_count": 6,
   "metadata": {},
   "outputs": [
    {
     "data": {
      "text/plain": [
       "'/Users/geun/Desktop/Geun/GitHub/YearDream-2th/Just_study/220428 보강'"
      ]
     },
     "execution_count": 6,
     "metadata": {},
     "output_type": "execute_result"
    }
   ],
   "source": [
    "pwd"
   ]
  },
  {
   "cell_type": "markdown",
   "metadata": {
    "slideshow": {
     "slide_type": "slide"
    }
   },
   "source": [
    "## 간단한 브라우저 컨트롤로 기본 개념잡기"
   ]
  },
  {
   "cell_type": "code",
   "execution_count": null,
   "metadata": {},
   "outputs": [],
   "source": [
    "# 크롬창 열기\n",
    "from selenium import webdriver\n",
    "driver = webdriver.Chrome('./chromedriver')\n",
    "# 윈도우 사용자분들\n",
    "# driver = webdriver.Chrome('./chromedriver.exe')\n",
    "\n",
    "# 설정한 url로 데이터 get함수로 요청\n",
    "url = 'https://naver.com'\n",
    "driver.get(url)\n",
    "time.sleep(2)\n",
    "\n",
    "driver.find_element_by_xpath('//*[@id=\"query\"]').send_keys('홍대맛집')"
   ]
  },
  {
   "cell_type": "code",
   "execution_count": 8,
   "metadata": {
    "ExecuteTime": {
     "end_time": "2022-04-28T08:31:03.080343Z",
     "start_time": "2022-04-28T08:31:01.694931Z"
    }
   },
   "outputs": [
    {
     "name": "stderr",
     "output_type": "stream",
     "text": [
      "/var/folders/lm/n8nzmr_n7vgg9l0b5737gqrm0000gn/T/ipykernel_12216/1683032974.py:3: DeprecationWarning: executable_path has been deprecated, please pass in a Service object\n",
      "  driver = webdriver.Chrome('./chromedriver')\n"
     ]
    }
   ],
   "source": [
    "# 크롬창 열기\n",
    "from selenium import webdriver\n",
    "driver = webdriver.Chrome('./chromedriver')\n",
    "# 윈도우 사용자분들\n",
    "# driver = webdriver.Chrome('./chromedriver.exe')"
   ]
  },
  {
   "cell_type": "code",
   "execution_count": null,
   "metadata": {},
   "outputs": [],
   "source": [
    "# 설정한 url로 데이터 get함수로 요청\n",
    "url = 'https://naver.com'\n",
    "driver.get(url)"
   ]
  },
  {
   "cell_type": "code",
   "execution_count": 10,
   "metadata": {
    "ExecuteTime": {
     "end_time": "2022-04-28T08:41:17.746145Z",
     "start_time": "2022-04-28T08:41:17.682047Z"
    }
   },
   "outputs": [
    {
     "name": "stderr",
     "output_type": "stream",
     "text": [
      "/var/folders/lm/n8nzmr_n7vgg9l0b5737gqrm0000gn/T/ipykernel_12216/1496500398.py:2: DeprecationWarning: find_element_by_xpath is deprecated. Please use find_element(by=By.XPATH, value=xpath) instead\n",
      "  driver.find_element_by_xpath('//*[@id=\"query\"]').send_keys('홍대맛집')\n"
     ]
    }
   ],
   "source": [
    "# 키워드를 입력받아 검색창의 xpath에 send_keys 함수로 키워드 입력 \n",
    "driver.find_element_by_xpath('//*[@id=\"query\"]').send_keys('홍대맛집')\n",
    "# 검색 초기화 driver.find_element_by_xpath('//*[@id=\"query\"]').clear"
   ]
  },
  {
   "cell_type": "code",
   "execution_count": 12,
   "metadata": {
    "ExecuteTime": {
     "end_time": "2021-08-29T07:51:10.129293Z",
     "start_time": "2021-08-29T07:51:10.015673Z"
    }
   },
   "outputs": [
    {
     "name": "stderr",
     "output_type": "stream",
     "text": [
      "/var/folders/lm/n8nzmr_n7vgg9l0b5737gqrm0000gn/T/ipykernel_12216/1087345539.py:2: DeprecationWarning: find_element_by_xpath is deprecated. Please use find_element(by=By.XPATH, value=xpath) instead\n",
      "  driver.find_element_by_xpath('//*[@id=\"search_btn\"]/span[2]').click()\n"
     ]
    }
   ],
   "source": [
    "# 검색결과의 news 탭 클릭\n",
    "driver.find_element_by_xpath('//*[@id=\"search_btn\"]/span[2]').click()"
   ]
  },
  {
   "cell_type": "code",
   "execution_count": 13,
   "metadata": {},
   "outputs": [],
   "source": [
    "url = 'https://naver.com'\n",
    "driver.get(url)"
   ]
  },
  {
   "cell_type": "code",
   "execution_count": 14,
   "metadata": {},
   "outputs": [
    {
     "name": "stderr",
     "output_type": "stream",
     "text": [
      "/var/folders/lm/n8nzmr_n7vgg9l0b5737gqrm0000gn/T/ipykernel_12216/3871658940.py:1: DeprecationWarning: find_element_by_xpath is deprecated. Please use find_element(by=By.XPATH, value=xpath) instead\n",
      "  driver.find_element_by_xpath('//*[@id=\"account\"]/a').click()\n"
     ]
    }
   ],
   "source": [
    "driver.find_element_by_xpath('//*[@id=\"account\"]/a').click()"
   ]
  },
  {
   "cell_type": "code",
   "execution_count": 16,
   "metadata": {},
   "outputs": [
    {
     "name": "stderr",
     "output_type": "stream",
     "text": [
      "/var/folders/lm/n8nzmr_n7vgg9l0b5737gqrm0000gn/T/ipykernel_12216/4033567450.py:1: DeprecationWarning: find_element_by_xpath is deprecated. Please use find_element(by=By.XPATH, value=xpath) instead\n",
      "  driver.find_element_by_xpath('//*[@id=\"id\"]').send_keys('jgk9612')\n"
     ]
    }
   ],
   "source": [
    "driver.find_element_by_xpath('//*[@id=\"id\"]').send_keys('jgk9612')"
   ]
  },
  {
   "cell_type": "code",
   "execution_count": 17,
   "metadata": {},
   "outputs": [
    {
     "name": "stderr",
     "output_type": "stream",
     "text": [
      "/var/folders/lm/n8nzmr_n7vgg9l0b5737gqrm0000gn/T/ipykernel_12216/1327567006.py:1: DeprecationWarning: find_element_by_xpath is deprecated. Please use find_element(by=By.XPATH, value=xpath) instead\n",
      "  driver.find_element_by_xpath('//*[@id=\"pw\"]').send_keys('rlaworms9864!')\n"
     ]
    }
   ],
   "source": [
    "driver.find_element_by_xpath('//*[@id=\"pw\"]').send_keys('rlaworms9864!')"
   ]
  },
  {
   "cell_type": "code",
   "execution_count": 18,
   "metadata": {},
   "outputs": [
    {
     "name": "stderr",
     "output_type": "stream",
     "text": [
      "/var/folders/lm/n8nzmr_n7vgg9l0b5737gqrm0000gn/T/ipykernel_12216/3173487952.py:1: DeprecationWarning: find_element_by_xpath is deprecated. Please use find_element(by=By.XPATH, value=xpath) instead\n",
      "  driver.find_element_by_xpath('//*[@id=\"log.login\"]/span').click()\n"
     ]
    }
   ],
   "source": [
    "driver.find_element_by_xpath('//*[@id=\"log.login\"]/span').click()"
   ]
  },
  {
   "cell_type": "code",
   "execution_count": 19,
   "metadata": {},
   "outputs": [
    {
     "name": "stderr",
     "output_type": "stream",
     "text": [
      "/var/folders/lm/n8nzmr_n7vgg9l0b5737gqrm0000gn/T/ipykernel_12216/3874641399.py:1: DeprecationWarning: find_element_by_xpath is deprecated. Please use find_element(by=By.XPATH, value=xpath) instead\n",
      "  driver.find_element_by_xpath('//*[@id=\"captcha\"]').send_keys('유기축산 양고기')\n"
     ]
    }
   ],
   "source": [
    "driver.find_element_by_xpath('//*[@id=\"captcha\"]').send_keys('유기축산 양고기')"
   ]
  },
  {
   "cell_type": "code",
   "execution_count": 21,
   "metadata": {},
   "outputs": [
    {
     "name": "stderr",
     "output_type": "stream",
     "text": [
      "/var/folders/lm/n8nzmr_n7vgg9l0b5737gqrm0000gn/T/ipykernel_12216/4181219324.py:1: DeprecationWarning: find_element_by_xpath is deprecated. Please use find_element(by=By.XPATH, value=xpath) instead\n",
      "  driver.find_element_by_xpath('//*[@id=\"pw\"]').send_keys('rlaworms9864!')\n",
      "/var/folders/lm/n8nzmr_n7vgg9l0b5737gqrm0000gn/T/ipykernel_12216/4181219324.py:2: DeprecationWarning: find_element_by_xpath is deprecated. Please use find_element(by=By.XPATH, value=xpath) instead\n",
      "  driver.find_element_by_xpath('//*[@id=\"log.login\"]/span').click()\n"
     ]
    }
   ],
   "source": [
    "driver.find_element_by_xpath('//*[@id=\"pw\"]').send_keys('rlaworms9864!')\n",
    "driver.find_element_by_xpath('//*[@id=\"log.login\"]/span').click()"
   ]
  },
  {
   "cell_type": "markdown",
   "metadata": {},
   "source": [
    "## 인스타그램 크롤링"
   ]
  },
  {
   "cell_type": "code",
   "execution_count": 52,
   "metadata": {},
   "outputs": [
    {
     "name": "stderr",
     "output_type": "stream",
     "text": [
      "/var/folders/lm/n8nzmr_n7vgg9l0b5737gqrm0000gn/T/ipykernel_12216/1745215592.py:2: DeprecationWarning: executable_path has been deprecated, please pass in a Service object\n",
      "  driver = webdriver.Chrome('./chromedriver')\n"
     ]
    }
   ],
   "source": [
    "# 컨트롤 할 크롬 브라우저 생성\n",
    "driver = webdriver.Chrome('./chromedriver')"
   ]
  },
  {
   "cell_type": "code",
   "execution_count": 53,
   "metadata": {
    "ExecuteTime": {
     "end_time": "2022-04-28T08:43:26.409681Z",
     "start_time": "2022-04-28T08:43:25.338359Z"
    }
   },
   "outputs": [],
   "source": [
    "# url 페이지 이동\n",
    "url = 'https://instagram.com'\n",
    "driver.get( url )"
   ]
  },
  {
   "cell_type": "code",
   "execution_count": 47,
   "metadata": {
    "ExecuteTime": {
     "end_time": "2021-08-29T08:02:47.560209Z",
     "start_time": "2021-08-29T08:02:46.127149Z"
    }
   },
   "outputs": [],
   "source": [
    "# 페이스북 로그인 클릭 (안됨 페북에서 막음)\n",
    "#driver.find_element_by_xpath('//*[@id=\"loginForm\"]/div/div[5]/button').click()"
   ]
  },
  {
   "cell_type": "code",
   "execution_count": 54,
   "metadata": {
    "ExecuteTime": {
     "end_time": "2021-08-29T08:03:41.423876Z",
     "start_time": "2021-08-29T08:03:37.308062Z"
    }
   },
   "outputs": [
    {
     "name": "stderr",
     "output_type": "stream",
     "text": [
      "/var/folders/lm/n8nzmr_n7vgg9l0b5737gqrm0000gn/T/ipykernel_12216/1547842757.py:2: DeprecationWarning: find_element_by_xpath is deprecated. Please use find_element(by=By.XPATH, value=xpath) instead\n",
      "  driver.find_element_by_xpath('//*[@id=\"loginForm\"]/div/div[1]/div/label/input').send_keys('geuuuuuun')\n",
      "/var/folders/lm/n8nzmr_n7vgg9l0b5737gqrm0000gn/T/ipykernel_12216/1547842757.py:3: DeprecationWarning: find_element_by_xpath is deprecated. Please use find_element(by=By.XPATH, value=xpath) instead\n",
      "  driver.find_element_by_xpath('//*[@id=\"loginForm\"]/div/div[2]/div/label/input').send_keys('rkawk9864..\\n')\n"
     ]
    }
   ],
   "source": [
    "# 페이스북 로그인 정보 입력 후 로그인 버튼 클릭\n",
    "driver.find_element_by_xpath('//*[@id=\"loginForm\"]/div/div[1]/div/label/input').send_keys('geuuuuuun')\n",
    "driver.find_element_by_xpath('//*[@id=\"loginForm\"]/div/div[2]/div/label/input').send_keys('rkawk9864..\\n')\n",
    "# 페이지 로딩에 약간의 시간이 필요하면\n"
   ]
  },
  {
   "cell_type": "code",
   "execution_count": 55,
   "metadata": {},
   "outputs": [
    {
     "name": "stderr",
     "output_type": "stream",
     "text": [
      "/var/folders/lm/n8nzmr_n7vgg9l0b5737gqrm0000gn/T/ipykernel_12216/841376577.py:2: DeprecationWarning: find_element_by_xpath is deprecated. Please use find_element(by=By.XPATH, value=xpath) instead\n",
      "  driver.find_element_by_xpath('//*[@id=\"react-root\"]/section/main/div/div/div/div/button').click()\n"
     ]
    }
   ],
   "source": [
    "# //*[@id=\"react-root\"]/section/main/div/div/div/div/button\n",
    "driver.find_element_by_xpath('//*[@id=\"react-root\"]/section/main/div/div/div/div/button').click()"
   ]
  },
  {
   "cell_type": "code",
   "execution_count": 56,
   "metadata": {
    "ExecuteTime": {
     "end_time": "2021-08-29T08:04:08.901678Z",
     "start_time": "2021-08-29T08:04:08.875140Z"
    },
    "scrolled": true
   },
   "outputs": [
    {
     "name": "stderr",
     "output_type": "stream",
     "text": [
      "/var/folders/lm/n8nzmr_n7vgg9l0b5737gqrm0000gn/T/ipykernel_12216/2167778046.py:3: DeprecationWarning: find_element_by_xpath is deprecated. Please use find_element(by=By.XPATH, value=xpath) instead\n",
      "  driver.find_element_by_xpath('/html/body/div[6]/div/div/div/div[3]/button[2]').click()\n"
     ]
    }
   ],
   "source": [
    "# 알림설정 팝업창 나중에 하기 클릭\n",
    "# /html/body/div[6]/div/div/div/div[3]/button[2]\n",
    "driver.find_element_by_xpath('/html/body/div[6]/div/div/div/div[3]/button[2]').click()"
   ]
  },
  {
   "cell_type": "code",
   "execution_count": 65,
   "metadata": {
    "ExecuteTime": {
     "end_time": "2021-08-29T08:05:28.450988Z",
     "start_time": "2021-08-29T08:05:28.362781Z"
    }
   },
   "outputs": [
    {
     "name": "stderr",
     "output_type": "stream",
     "text": [
      "/var/folders/lm/n8nzmr_n7vgg9l0b5737gqrm0000gn/T/ipykernel_12216/3893291704.py:3: DeprecationWarning: find_element_by_xpath is deprecated. Please use find_element(by=By.XPATH, value=xpath) instead\n",
      "  driver.find_element_by_xpath('//*[@id=\"react-root\"]/section/nav/div[2]/div/div/div[2]/input').send_keys('나이키 덩크')\n"
     ]
    }
   ],
   "source": [
    "# 검색 키워드로 크롤링을 하기 위해 검색어 입력\n",
    "# //*[@id=\"react-root\"]/section/nav/div[2]/div/div/div[2]/input\n",
    "driver.find_element_by_xpath('//*[@id=\"react-root\"]/section/nav/div[2]/div/div/div[2]/input').send_keys('나이키 덩크')"
   ]
  },
  {
   "cell_type": "code",
   "execution_count": 67,
   "metadata": {
    "ExecuteTime": {
     "end_time": "2021-08-29T08:06:23.562381Z",
     "start_time": "2021-08-29T08:06:23.393928Z"
    }
   },
   "outputs": [
    {
     "name": "stderr",
     "output_type": "stream",
     "text": [
      "/var/folders/lm/n8nzmr_n7vgg9l0b5737gqrm0000gn/T/ipykernel_12216/2871761141.py:3: DeprecationWarning: find_element_by_xpath is deprecated. Please use find_element(by=By.XPATH, value=xpath) instead\n",
      "  driver.find_element_by_xpath('//*[@id=\"f2fe73cbc9867c\"]/div/div').click()\n"
     ]
    }
   ],
   "source": [
    "# 첫번째 항목 접근\n",
    "\n",
    "driver.find_element_by_xpath('//*[@id=\"f2fe73cbc9867c\"]/div/div').click()"
   ]
  },
  {
   "cell_type": "code",
   "execution_count": 69,
   "metadata": {
    "ExecuteTime": {
     "end_time": "2021-08-29T08:09:25.756252Z",
     "start_time": "2021-08-29T08:09:25.579883Z"
    }
   },
   "outputs": [
    {
     "name": "stderr",
     "output_type": "stream",
     "text": [
      "/var/folders/lm/n8nzmr_n7vgg9l0b5737gqrm0000gn/T/ipykernel_12216/2422550544.py:2: DeprecationWarning: find_element_by_xpath is deprecated. Please use find_element(by=By.XPATH, value=xpath) instead\n",
      "  driver.find_element_by_xpath('//*[@id=\"react-root\"]/section/main/article/div[1]/div/div/div[2]/div[2]/a/div').click()\n"
     ]
    }
   ],
   "source": [
    "# 첫번째 포스팅 클릭\n",
    "driver.find_element_by_xpath('//*[@id=\"react-root\"]/section/main/article/div[1]/div/div/div[2]/div[2]/a/div').click()"
   ]
  },
  {
   "cell_type": "code",
   "execution_count": 70,
   "metadata": {
    "ExecuteTime": {
     "end_time": "2021-08-29T08:07:30.668999Z",
     "start_time": "2021-08-29T08:07:30.543155Z"
    }
   },
   "outputs": [
    {
     "name": "stderr",
     "output_type": "stream",
     "text": [
      "/var/folders/lm/n8nzmr_n7vgg9l0b5737gqrm0000gn/T/ipykernel_12216/4225031671.py:2: DeprecationWarning: find_element_by_xpath is deprecated. Please use find_element(by=By.XPATH, value=xpath) instead\n",
      "  driver.find_element_by_xpath('/html/body/div[6]/div[3]/div/article/div/div[3]/div/div/section[1]/span[1]/button').click()\n"
     ]
    }
   ],
   "source": [
    "# 좋아요 누르기\n",
    "driver.find_element_by_xpath('/html/body/div[6]/div[3]/div/article/div/div[3]/div/div/section[1]/span[1]/button').click()"
   ]
  },
  {
   "cell_type": "code",
   "execution_count": null,
   "metadata": {
    "ExecuteTime": {
     "end_time": "2021-08-29T08:10:11.523588Z",
     "start_time": "2021-08-29T08:10:11.424659Z"
    }
   },
   "outputs": [],
   "source": [
    "# 댓글 달기\n"
   ]
  },
  {
   "cell_type": "code",
   "execution_count": 76,
   "metadata": {
    "ExecuteTime": {
     "end_time": "2021-08-29T08:14:08.690078Z",
     "start_time": "2021-08-29T08:14:08.677508Z"
    }
   },
   "outputs": [
    {
     "name": "stderr",
     "output_type": "stream",
     "text": [
      "/var/folders/lm/n8nzmr_n7vgg9l0b5737gqrm0000gn/T/ipykernel_12216/935858321.py:2: DeprecationWarning: find_element_by_css_selector is deprecated. Please use find_element(by=By.CSS_SELECTOR, value=css_selector) instead\n",
      "  image = driver.find_element_by_css_selector('img.FFVAD')\n"
     ]
    }
   ],
   "source": [
    "# 포스팅 image url 따오기\n",
    "image = driver.find_element_by_css_selector('img.FFVAD')"
   ]
  },
  {
   "cell_type": "code",
   "execution_count": 77,
   "metadata": {
    "ExecuteTime": {
     "end_time": "2021-08-29T08:14:10.116152Z",
     "start_time": "2021-08-29T08:14:10.111434Z"
    }
   },
   "outputs": [
    {
     "data": {
      "text/plain": [
       "<selenium.webdriver.remote.webelement.WebElement (session=\"13a1cc0eb3960a2bd13c60896d45abef\", element=\"40621258-9780-444b-9216-b073ec64e74b\")>"
      ]
     },
     "execution_count": 77,
     "metadata": {},
     "output_type": "execute_result"
    }
   ],
   "source": [
    "image"
   ]
  },
  {
   "cell_type": "code",
   "execution_count": 78,
   "metadata": {
    "ExecuteTime": {
     "end_time": "2021-08-29T08:14:13.104989Z",
     "start_time": "2021-08-29T08:14:13.095106Z"
    }
   },
   "outputs": [],
   "source": [
    "# image 변수에서 src 속성에 접근\n",
    "img_url = image.get_attribute('src')"
   ]
  },
  {
   "cell_type": "code",
   "execution_count": 80,
   "metadata": {
    "ExecuteTime": {
     "end_time": "2021-08-29T08:14:13.544593Z",
     "start_time": "2021-08-29T08:14:13.541008Z"
    }
   },
   "outputs": [
    {
     "data": {
      "text/plain": [
       "'https://scontent-ssn1-1.cdninstagram.com/v/t51.2885-15/279212939_374781697894418_7616734041980415695_n.jpg?stp=dst-jpg_e15_fr_s1080x1080&_nc_ht=scontent-ssn1-1.cdninstagram.com&_nc_cat=102&_nc_ohc=SSk7zYNZfLEAX8ejdM2&edm=ABZsPhsBAAAA&ccb=7-4&ig_cache_key=MjgyNTYxMTMyNjI0NDg0MTY3Mg%3D%3D.2-ccb7-4&oh=00_AT-yO2kBfyKyHzU7jtK_RuLwM7kt4vLVljLhULppzCMTaw&oe=627098F8&_nc_sid=4efc9f'"
      ]
     },
     "execution_count": 80,
     "metadata": {},
     "output_type": "execute_result"
    }
   ],
   "source": [
    "img_url"
   ]
  },
  {
   "cell_type": "code",
   "execution_count": 82,
   "metadata": {
    "ExecuteTime": {
     "end_time": "2021-08-29T08:14:25.576208Z",
     "start_time": "2021-08-29T08:14:25.429695Z"
    }
   },
   "outputs": [
    {
     "data": {
      "text/plain": [
       "('./save_test.jpg', <http.client.HTTPMessage at 0x106463e20>)"
      ]
     },
     "execution_count": 82,
     "metadata": {},
     "output_type": "execute_result"
    }
   ],
   "source": [
    "# 이미지 저장을 위한 패키지\n",
    "import urllib\n",
    "# 이미지 저장\n",
    "urllib.request.urlretrieve(img_url, './save_test.jpg')\n"
   ]
  },
  {
   "cell_type": "code",
   "execution_count": 84,
   "metadata": {},
   "outputs": [],
   "source": [
    "# 접근한 페이지의 소스 코드 페이지 html 가져오기\n",
    "page_text = driver.page_source"
   ]
  },
  {
   "cell_type": "code",
   "execution_count": 85,
   "metadata": {},
   "outputs": [],
   "source": [
    "from bs4 import BeautifulSoup"
   ]
  },
  {
   "cell_type": "code",
   "execution_count": 87,
   "metadata": {},
   "outputs": [],
   "source": [
    "html = BeautifulSoup(page_text, 'html.parser')"
   ]
  },
  {
   "cell_type": "code",
   "execution_count": null,
   "metadata": {},
   "outputs": [],
   "source": [
    "html.select('')"
   ]
  },
  {
   "cell_type": "code",
   "execution_count": null,
   "metadata": {},
   "outputs": [],
   "source": [
    "for tag in html.html.select('') :\n",
    "    print(tag.text)"
   ]
  },
  {
   "cell_type": "code",
   "execution_count": 93,
   "metadata": {},
   "outputs": [
    {
     "name": "stdout",
     "output_type": "stream",
     "text": [
      "_ryneee_\n",
      "_ryneee_\n",
      "_ryneee_\n",
      "ss0_ngmi\n",
      "mac7_seven\n",
      "jiyeol.ahn\n"
     ]
    }
   ],
   "source": [
    "# id 가져오기\n",
    "# class=\"sqdOP yWX7d     _8A5w5   ZIAjV \"\n",
    "html.select('a.sqdOP yWX7d _8A5w5 ZIAjV ')\n",
    "\n",
    "for id in html.html.select('a.sqdOP') :\n",
    "    print(id.text)"
   ]
  },
  {
   "cell_type": "code",
   "execution_count": 97,
   "metadata": {},
   "outputs": [
    {
     "data": {
      "text/plain": [
       "'으속쓰려'"
      ]
     },
     "execution_count": 97,
     "metadata": {},
     "output_type": "execute_result"
    }
   ],
   "source": [
    "# 포스팅 텍스트 가져오기\n",
    "#_7UhW9   xLCgt      MMzan   KV-D4            se6yk       T0kll \n",
    "html.select('div.MOdxS ')[0].text\n",
    "\n",
    "#print posting_text in html.html.select('div.MOdxS )"
   ]
  },
  {
   "cell_type": "code",
   "execution_count": 95,
   "metadata": {},
   "outputs": [
    {
     "data": {
      "text/plain": [
       "'141'"
      ]
     },
     "execution_count": 95,
     "metadata": {},
     "output_type": "execute_result"
    }
   ],
   "source": [
    "# 좋아요 갯수 크롤링\n",
    "html.select('div.fDxYl span')[0].text"
   ]
  },
  {
   "cell_type": "code",
   "execution_count": 100,
   "metadata": {},
   "outputs": [
    {
     "name": "stderr",
     "output_type": "stream",
     "text": [
      "/var/folders/lm/n8nzmr_n7vgg9l0b5737gqrm0000gn/T/ipykernel_12216/294129077.py:5: DeprecationWarning: find_element_by_xpath is deprecated. Please use find_element(by=By.XPATH, value=xpath) instead\n",
      "  driver.find_element_by_xpath('/html/body/div[6]/div[2]/div/div[2]/button').click()\n"
     ]
    },
    {
     "name": "stdout",
     "output_type": "stream",
     "text": [
      "1번째 태그:  #덩크로우\n",
      "1번째 태그:  #조던1미드\n",
      "1번째 태그:  #조던1하이\n",
      "1번째 태그:  #덩크로우범고래\n",
      "1번째 태그:  #조던1\n",
      "1번째 태그:  #조던1로우\n",
      "1번째 태그:  #나이키덩크로우\n",
      "1번째 태그:  #나이키덩크\n",
      "1번째 태그:  #에어포스\n",
      "1번째 태그:  #에어맥스\n",
      "1번째 태그:  #카페투어\n",
      "1번째 태그:  #흑호랑이띠맘\n",
      "좋아요 122\n",
      "2번째 태그:  #덩크로우\n",
      "2번째 태그:  #조던1\n",
      "2번째 태그:  #조던1로우\n",
      "2번째 태그:  #조던1미드\n",
      "2번째 태그:  #조던1하이\n",
      "2번째 태그:  #덩크로우범고래\n",
      "2번째 태그:  #나이키덩크로우\n",
      "2번째 태그:  #나이키덩크\n",
      "2번째 태그:  #에어포스\n",
      "2번째 태그:  #에어맥스\n",
      "2번째 태그:  #부산핫플\n",
      "2번째 태그:  #운동하자\n",
      "좋아요 122\n",
      "3번째 태그:  #또고래\n",
      "3번째 태그:  #범고래\n",
      "3번째 태그:  #범고래덩크\n",
      "3번째 태그:  #덩크로우\n",
      "3번째 태그:  #덩크\n",
      "3번째 태그:  #나이키\n",
      "3번째 태그:  #나이키운동화\n",
      "3번째 태그:  #나이키매니아\n",
      "3번째 태그:  #나매\n",
      "3번째 태그:  #나매인\n",
      "3번째 태그:  #나이키신발\n",
      "3번째 태그:  #나이키덩크로우\n",
      "3번째 태그:  #신세계백화점\n",
      "3번째 태그:  #현대백화점\n",
      "좋아요 10\n",
      "4번째 태그:  #나이키\n",
      "4번째 태그:  #나이키운동화추천\n",
      "4번째 태그:  #카시나\n",
      "4번째 태그:  #카시나덩크\n",
      "4번째 태그:  #나이키카시나덩크로우\n",
      "4번째 태그:  #나이키덩크로우\n",
      "4번째 태그:  #나이키덩크\n",
      "4번째 태그:  #덩크로우\n",
      "4번째 태그:  #카시나블루\n",
      "4번째 태그:  #여름운동화\n",
      "4번째 태그:  #커플운동화\n",
      "4번째 태그:  #여자운동화\n"
     ]
    },
    {
     "ename": "IndexError",
     "evalue": "list index out of range",
     "output_type": "error",
     "traceback": [
      "\u001b[0;31m---------------------------------------------------------------------------\u001b[0m",
      "\u001b[0;31mIndexError\u001b[0m                                Traceback (most recent call last)",
      "\u001b[1;32m/Users/geun/Desktop/Geun/GitHub/YearDream-2th/Just_study/220428 보강/05_python_selenium.ipynb Cell 50'\u001b[0m in \u001b[0;36m<cell line: 3>\u001b[0;34m()\u001b[0m\n\u001b[1;32m      <a href='vscode-notebook-cell:/Users/geun/Desktop/Geun/GitHub/YearDream-2th/Just_study/220428%20%EB%B3%B4%EA%B0%95/05_python_selenium.ipynb#ch0000057?line=7'>8</a>\u001b[0m \u001b[39mfor\u001b[39;00m tag \u001b[39min\u001b[39;00m html\u001b[39m.\u001b[39mselect(\u001b[39m'\u001b[39m\u001b[39ma.xil3i\u001b[39m\u001b[39m'\u001b[39m):\n\u001b[1;32m      <a href='vscode-notebook-cell:/Users/geun/Desktop/Geun/GitHub/YearDream-2th/Just_study/220428%20%EB%B3%B4%EA%B0%95/05_python_selenium.ipynb#ch0000057?line=8'>9</a>\u001b[0m     \u001b[39mprint\u001b[39m(\u001b[39mf\u001b[39m\u001b[39m'\u001b[39m\u001b[39m{\u001b[39;00mi\u001b[39m+\u001b[39m\u001b[39m1\u001b[39m\u001b[39m}\u001b[39;00m\u001b[39m번째 태그: \u001b[39m\u001b[39m'\u001b[39m, tag\u001b[39m.\u001b[39mtext)\n\u001b[0;32m---> <a href='vscode-notebook-cell:/Users/geun/Desktop/Geun/GitHub/YearDream-2th/Just_study/220428%20%EB%B3%B4%EA%B0%95/05_python_selenium.ipynb#ch0000057?line=9'>10</a>\u001b[0m \u001b[39mprint\u001b[39m(\u001b[39m'\u001b[39m\u001b[39m좋아요\u001b[39m\u001b[39m'\u001b[39m, html\u001b[39m.\u001b[39;49mselect(\u001b[39m'\u001b[39;49m\u001b[39mdiv.fDxYl span\u001b[39;49m\u001b[39m'\u001b[39;49m)[\u001b[39m0\u001b[39;49m]\u001b[39m.\u001b[39mtext)\n",
      "\u001b[0;31mIndexError\u001b[0m: list index out of range"
     ]
    }
   ],
   "source": [
    "# 반복문으로 페이지 넘기면ㅅ ㅓ태그 좋아요 갯수 출력\n",
    "# Tip 2번째 페이지 부터 넘기면 코드 깔끔\n",
    "for i in range(5) :\n",
    "    time.sleep(2)\n",
    "    driver.find_element_by_xpath('/html/body/div[6]/div[2]/div/div[2]/button').click()\n",
    "    page_text = driver.page_source\n",
    "    html = BeautifulSoup(page_text, 'html.parser')\n",
    "    for tag in html.select('a.xil3i'):\n",
    "        print(f'{i+1}번째 태그: ', tag.text)\n",
    "    print('좋아요', html.select('div.fDxYl span')[0].text)\n",
    "    "
   ]
  },
  {
   "cell_type": "code",
   "execution_count": null,
   "metadata": {
    "ExecuteTime": {
     "end_time": "2021-08-29T08:17:07.255494Z",
     "start_time": "2021-08-29T08:17:07.231584Z"
    },
    "scrolled": true
   },
   "outputs": [],
   "source": [
    "# 앞 포스팅으로 이동하는 꺽쇠 버튼(첫 포스팅은 작동을 뒤로합니다.)\n",
    "\n",
    "# 뒤 포스팅으로 이동하는 꺾쇠 버튼\n"
   ]
  },
  {
   "cell_type": "markdown",
   "metadata": {},
   "source": [
    "## 크롤링 참고용 추가 코드"
   ]
  },
  {
   "cell_type": "code",
   "execution_count": null,
   "metadata": {},
   "outputs": [],
   "source": [
    "# 스크립트 형태로 전달\n",
    "driver.execute_script('document.getElementById(\"id\").value = \"\"')\n",
    "driver.execute_script('document.getElementById(\"pw\").value = \"\"'')\n",
    "\n",
    "# 스크롤다운\n",
    "driver.execute_script(\"window.scrollTo(0, document.body.scrollHeight);\")"
   ]
  }
 ],
 "metadata": {
  "kernelspec": {
   "display_name": "Python 3 (ipykernel)",
   "language": "python",
   "name": "python3"
  },
  "language_info": {
   "codemirror_mode": {
    "name": "ipython",
    "version": 3
   },
   "file_extension": ".py",
   "mimetype": "text/x-python",
   "name": "python",
   "nbconvert_exporter": "python",
   "pygments_lexer": "ipython3",
   "version": "3.9.10"
  },
  "toc": {
   "base_numbering": 1,
   "nav_menu": {},
   "number_sections": true,
   "sideBar": true,
   "skip_h1_title": true,
   "title_cell": "Table of Contents",
   "title_sidebar": "Contents",
   "toc_cell": false,
   "toc_position": {},
   "toc_section_display": true,
   "toc_window_display": false
  },
  "varInspector": {
   "cols": {
    "lenName": 16,
    "lenType": 16,
    "lenVar": 40
   },
   "kernels_config": {
    "python": {
     "delete_cmd_postfix": "",
     "delete_cmd_prefix": "del ",
     "library": "var_list.py",
     "varRefreshCmd": "print(var_dic_list())"
    },
    "r": {
     "delete_cmd_postfix": ") ",
     "delete_cmd_prefix": "rm(",
     "library": "var_list.r",
     "varRefreshCmd": "cat(var_dic_list()) "
    }
   },
   "types_to_exclude": [
    "module",
    "function",
    "builtin_function_or_method",
    "instance",
    "_Feature"
   ],
   "window_display": false
  }
 },
 "nbformat": 4,
 "nbformat_minor": 2
}
