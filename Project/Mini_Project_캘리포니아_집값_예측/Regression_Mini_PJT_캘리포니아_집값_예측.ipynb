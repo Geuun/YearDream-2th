{
 "cells": [
  {
   "cell_type": "markdown",
   "metadata": {
    "id": "9vs-4eWA5PQr"
   },
   "source": [
    "\n",
    "## Mini PJT\n",
    "\n",
    "- `California Housing` 데이터셋을 이용하여 선형회귀 문제를 풀어봅니다.\n",
    "\n",
    "(Source : https://scikit-learn.org/stable/datasets/real_world.html#california-housing-dataset)\n",
    "\n",
    "\n",
    "- 단순 선형회귀를 통해 각 Feature들을 이용하여 집값을 예측해봅니다.\n",
    "\n",
    "\n",
    "- 20640개의 row, 8개의 column으로 구성되어 있습니다.\n",
    "\n",
    "\n",
    "- 각 feature별 영향력을 알아보고, 테스트 해봅니다."
   ]
  },
  {
   "cell_type": "markdown",
   "metadata": {
    "id": "V9L6E677nwBF"
   },
   "source": [
    "### 1. 데이터 및 라이브러리 불러오기"
   ]
  },
  {
   "cell_type": "code",
   "execution_count": 1,
   "metadata": {
    "ExecuteTime": {
     "end_time": "2022-06-03T01:36:21.228051Z",
     "start_time": "2022-06-03T01:36:20.461657Z"
    },
    "id": "g-mMxRu05PQr"
   },
   "outputs": [],
   "source": [
    "# 라이브러리 불러오기\n",
    "import numpy as np\n",
    "import pandas as pd\n",
    "import matplotlib.pyplot as plt\n",
    "import seaborn as sns"
   ]
  },
  {
   "cell_type": "code",
   "execution_count": 2,
   "metadata": {
    "ExecuteTime": {
     "end_time": "2022-06-03T01:36:21.321777Z",
     "start_time": "2022-06-03T01:36:21.229264Z"
    },
    "id": "oXs_Nbkk5PQs"
   },
   "outputs": [
    {
     "data": {
      "text/plain": [
       "{'data': array([[   8.3252    ,   41.        ,    6.98412698, ...,    2.55555556,\n",
       "           37.88      , -122.23      ],\n",
       "        [   8.3014    ,   21.        ,    6.23813708, ...,    2.10984183,\n",
       "           37.86      , -122.22      ],\n",
       "        [   7.2574    ,   52.        ,    8.28813559, ...,    2.80225989,\n",
       "           37.85      , -122.24      ],\n",
       "        ...,\n",
       "        [   1.7       ,   17.        ,    5.20554273, ...,    2.3256351 ,\n",
       "           39.43      , -121.22      ],\n",
       "        [   1.8672    ,   18.        ,    5.32951289, ...,    2.12320917,\n",
       "           39.43      , -121.32      ],\n",
       "        [   2.3886    ,   16.        ,    5.25471698, ...,    2.61698113,\n",
       "           39.37      , -121.24      ]]),\n",
       " 'target': array([4.526, 3.585, 3.521, ..., 0.923, 0.847, 0.894]),\n",
       " 'frame': None,\n",
       " 'target_names': ['MedHouseVal'],\n",
       " 'feature_names': ['MedInc',\n",
       "  'HouseAge',\n",
       "  'AveRooms',\n",
       "  'AveBedrms',\n",
       "  'Population',\n",
       "  'AveOccup',\n",
       "  'Latitude',\n",
       "  'Longitude'],\n",
       " 'DESCR': '.. _california_housing_dataset:\\n\\nCalifornia Housing dataset\\n--------------------------\\n\\n**Data Set Characteristics:**\\n\\n    :Number of Instances: 20640\\n\\n    :Number of Attributes: 8 numeric, predictive attributes and the target\\n\\n    :Attribute Information:\\n        - MedInc        median income in block group\\n        - HouseAge      median house age in block group\\n        - AveRooms      average number of rooms per household\\n        - AveBedrms     average number of bedrooms per household\\n        - Population    block group population\\n        - AveOccup      average number of household members\\n        - Latitude      block group latitude\\n        - Longitude     block group longitude\\n\\n    :Missing Attribute Values: None\\n\\nThis dataset was obtained from the StatLib repository.\\nhttps://www.dcc.fc.up.pt/~ltorgo/Regression/cal_housing.html\\n\\nThe target variable is the median house value for California districts,\\nexpressed in hundreds of thousands of dollars ($100,000).\\n\\nThis dataset was derived from the 1990 U.S. census, using one row per census\\nblock group. A block group is the smallest geographical unit for which the U.S.\\nCensus Bureau publishes sample data (a block group typically has a population\\nof 600 to 3,000 people).\\n\\nAn household is a group of people residing within a home. Since the average\\nnumber of rooms and bedrooms in this dataset are provided per household, these\\ncolumns may take surpinsingly large values for block groups with few households\\nand many empty houses, such as vacation resorts.\\n\\nIt can be downloaded/loaded using the\\n:func:`sklearn.datasets.fetch_california_housing` function.\\n\\n.. topic:: References\\n\\n    - Pace, R. Kelley and Ronald Barry, Sparse Spatial Autoregressions,\\n      Statistics and Probability Letters, 33 (1997) 291-297\\n'}"
      ]
     },
     "execution_count": 2,
     "metadata": {},
     "output_type": "execute_result"
    }
   ],
   "source": [
    "# California 데이터 불러오기\n",
    "from sklearn.datasets import fetch_california_housing\n",
    "\n",
    "data = fetch_california_housing()\n",
    "data"
   ]
  },
  {
   "cell_type": "code",
   "execution_count": 3,
   "metadata": {
    "ExecuteTime": {
     "end_time": "2022-06-03T01:36:21.342821Z",
     "start_time": "2022-06-03T01:36:21.322650Z"
    }
   },
   "outputs": [
    {
     "data": {
      "text/html": [
       "<div>\n",
       "<style scoped>\n",
       "    .dataframe tbody tr th:only-of-type {\n",
       "        vertical-align: middle;\n",
       "    }\n",
       "\n",
       "    .dataframe tbody tr th {\n",
       "        vertical-align: top;\n",
       "    }\n",
       "\n",
       "    .dataframe thead th {\n",
       "        text-align: right;\n",
       "    }\n",
       "</style>\n",
       "<table border=\"1\" class=\"dataframe\">\n",
       "  <thead>\n",
       "    <tr style=\"text-align: right;\">\n",
       "      <th></th>\n",
       "      <th>MedInc</th>\n",
       "      <th>HouseAge</th>\n",
       "      <th>AveRooms</th>\n",
       "      <th>AveBedrms</th>\n",
       "      <th>Population</th>\n",
       "      <th>AveOccup</th>\n",
       "      <th>Latitude</th>\n",
       "      <th>Longitude</th>\n",
       "    </tr>\n",
       "  </thead>\n",
       "  <tbody>\n",
       "    <tr>\n",
       "      <th>0</th>\n",
       "      <td>8.3252</td>\n",
       "      <td>41.0</td>\n",
       "      <td>6.984127</td>\n",
       "      <td>1.023810</td>\n",
       "      <td>322.0</td>\n",
       "      <td>2.555556</td>\n",
       "      <td>37.88</td>\n",
       "      <td>-122.23</td>\n",
       "    </tr>\n",
       "    <tr>\n",
       "      <th>1</th>\n",
       "      <td>8.3014</td>\n",
       "      <td>21.0</td>\n",
       "      <td>6.238137</td>\n",
       "      <td>0.971880</td>\n",
       "      <td>2401.0</td>\n",
       "      <td>2.109842</td>\n",
       "      <td>37.86</td>\n",
       "      <td>-122.22</td>\n",
       "    </tr>\n",
       "    <tr>\n",
       "      <th>2</th>\n",
       "      <td>7.2574</td>\n",
       "      <td>52.0</td>\n",
       "      <td>8.288136</td>\n",
       "      <td>1.073446</td>\n",
       "      <td>496.0</td>\n",
       "      <td>2.802260</td>\n",
       "      <td>37.85</td>\n",
       "      <td>-122.24</td>\n",
       "    </tr>\n",
       "    <tr>\n",
       "      <th>3</th>\n",
       "      <td>5.6431</td>\n",
       "      <td>52.0</td>\n",
       "      <td>5.817352</td>\n",
       "      <td>1.073059</td>\n",
       "      <td>558.0</td>\n",
       "      <td>2.547945</td>\n",
       "      <td>37.85</td>\n",
       "      <td>-122.25</td>\n",
       "    </tr>\n",
       "    <tr>\n",
       "      <th>4</th>\n",
       "      <td>3.8462</td>\n",
       "      <td>52.0</td>\n",
       "      <td>6.281853</td>\n",
       "      <td>1.081081</td>\n",
       "      <td>565.0</td>\n",
       "      <td>2.181467</td>\n",
       "      <td>37.85</td>\n",
       "      <td>-122.25</td>\n",
       "    </tr>\n",
       "    <tr>\n",
       "      <th>...</th>\n",
       "      <td>...</td>\n",
       "      <td>...</td>\n",
       "      <td>...</td>\n",
       "      <td>...</td>\n",
       "      <td>...</td>\n",
       "      <td>...</td>\n",
       "      <td>...</td>\n",
       "      <td>...</td>\n",
       "    </tr>\n",
       "    <tr>\n",
       "      <th>20635</th>\n",
       "      <td>1.5603</td>\n",
       "      <td>25.0</td>\n",
       "      <td>5.045455</td>\n",
       "      <td>1.133333</td>\n",
       "      <td>845.0</td>\n",
       "      <td>2.560606</td>\n",
       "      <td>39.48</td>\n",
       "      <td>-121.09</td>\n",
       "    </tr>\n",
       "    <tr>\n",
       "      <th>20636</th>\n",
       "      <td>2.5568</td>\n",
       "      <td>18.0</td>\n",
       "      <td>6.114035</td>\n",
       "      <td>1.315789</td>\n",
       "      <td>356.0</td>\n",
       "      <td>3.122807</td>\n",
       "      <td>39.49</td>\n",
       "      <td>-121.21</td>\n",
       "    </tr>\n",
       "    <tr>\n",
       "      <th>20637</th>\n",
       "      <td>1.7000</td>\n",
       "      <td>17.0</td>\n",
       "      <td>5.205543</td>\n",
       "      <td>1.120092</td>\n",
       "      <td>1007.0</td>\n",
       "      <td>2.325635</td>\n",
       "      <td>39.43</td>\n",
       "      <td>-121.22</td>\n",
       "    </tr>\n",
       "    <tr>\n",
       "      <th>20638</th>\n",
       "      <td>1.8672</td>\n",
       "      <td>18.0</td>\n",
       "      <td>5.329513</td>\n",
       "      <td>1.171920</td>\n",
       "      <td>741.0</td>\n",
       "      <td>2.123209</td>\n",
       "      <td>39.43</td>\n",
       "      <td>-121.32</td>\n",
       "    </tr>\n",
       "    <tr>\n",
       "      <th>20639</th>\n",
       "      <td>2.3886</td>\n",
       "      <td>16.0</td>\n",
       "      <td>5.254717</td>\n",
       "      <td>1.162264</td>\n",
       "      <td>1387.0</td>\n",
       "      <td>2.616981</td>\n",
       "      <td>39.37</td>\n",
       "      <td>-121.24</td>\n",
       "    </tr>\n",
       "  </tbody>\n",
       "</table>\n",
       "<p>20640 rows × 8 columns</p>\n",
       "</div>"
      ],
      "text/plain": [
       "       MedInc  HouseAge  AveRooms  AveBedrms  Population  AveOccup  Latitude  \\\n",
       "0      8.3252      41.0  6.984127   1.023810       322.0  2.555556     37.88   \n",
       "1      8.3014      21.0  6.238137   0.971880      2401.0  2.109842     37.86   \n",
       "2      7.2574      52.0  8.288136   1.073446       496.0  2.802260     37.85   \n",
       "3      5.6431      52.0  5.817352   1.073059       558.0  2.547945     37.85   \n",
       "4      3.8462      52.0  6.281853   1.081081       565.0  2.181467     37.85   \n",
       "...       ...       ...       ...        ...         ...       ...       ...   \n",
       "20635  1.5603      25.0  5.045455   1.133333       845.0  2.560606     39.48   \n",
       "20636  2.5568      18.0  6.114035   1.315789       356.0  3.122807     39.49   \n",
       "20637  1.7000      17.0  5.205543   1.120092      1007.0  2.325635     39.43   \n",
       "20638  1.8672      18.0  5.329513   1.171920       741.0  2.123209     39.43   \n",
       "20639  2.3886      16.0  5.254717   1.162264      1387.0  2.616981     39.37   \n",
       "\n",
       "       Longitude  \n",
       "0        -122.23  \n",
       "1        -122.22  \n",
       "2        -122.24  \n",
       "3        -122.25  \n",
       "4        -122.25  \n",
       "...          ...  \n",
       "20635    -121.09  \n",
       "20636    -121.21  \n",
       "20637    -121.22  \n",
       "20638    -121.32  \n",
       "20639    -121.24  \n",
       "\n",
       "[20640 rows x 8 columns]"
      ]
     },
     "metadata": {},
     "output_type": "display_data"
    },
    {
     "data": {
      "text/plain": [
       "0        4.526\n",
       "1        3.585\n",
       "2        3.521\n",
       "3        3.413\n",
       "4        3.422\n",
       "         ...  \n",
       "20635    0.781\n",
       "20636    0.771\n",
       "20637    0.923\n",
       "20638    0.847\n",
       "20639    0.894\n",
       "Name: MedHouseVal, Length: 20640, dtype: float64"
      ]
     },
     "metadata": {},
     "output_type": "display_data"
    }
   ],
   "source": [
    "data = fetch_california_housing(as_frame=True)['data']\n",
    "target = fetch_california_housing(as_frame=True)['target']\n",
    "\n",
    "display(data)\n",
    "display(target)"
   ]
  },
  {
   "cell_type": "code",
   "execution_count": 4,
   "metadata": {
    "ExecuteTime": {
     "end_time": "2022-06-03T01:36:21.375209Z",
     "start_time": "2022-06-03T01:36:21.349606Z"
    }
   },
   "outputs": [
    {
     "data": {
      "text/html": [
       "<div>\n",
       "<style scoped>\n",
       "    .dataframe tbody tr th:only-of-type {\n",
       "        vertical-align: middle;\n",
       "    }\n",
       "\n",
       "    .dataframe tbody tr th {\n",
       "        vertical-align: top;\n",
       "    }\n",
       "\n",
       "    .dataframe thead th {\n",
       "        text-align: right;\n",
       "    }\n",
       "</style>\n",
       "<table border=\"1\" class=\"dataframe\">\n",
       "  <thead>\n",
       "    <tr style=\"text-align: right;\">\n",
       "      <th></th>\n",
       "      <th>MedInc</th>\n",
       "      <th>HouseAge</th>\n",
       "      <th>AveRooms</th>\n",
       "      <th>AveBedrms</th>\n",
       "      <th>Population</th>\n",
       "      <th>AveOccup</th>\n",
       "      <th>Latitude</th>\n",
       "      <th>Longitude</th>\n",
       "    </tr>\n",
       "  </thead>\n",
       "  <tbody>\n",
       "    <tr>\n",
       "      <th>0</th>\n",
       "      <td>8.3252</td>\n",
       "      <td>41.0</td>\n",
       "      <td>6.984127</td>\n",
       "      <td>1.023810</td>\n",
       "      <td>322.0</td>\n",
       "      <td>2.555556</td>\n",
       "      <td>37.88</td>\n",
       "      <td>-122.23</td>\n",
       "    </tr>\n",
       "    <tr>\n",
       "      <th>1</th>\n",
       "      <td>8.3014</td>\n",
       "      <td>21.0</td>\n",
       "      <td>6.238137</td>\n",
       "      <td>0.971880</td>\n",
       "      <td>2401.0</td>\n",
       "      <td>2.109842</td>\n",
       "      <td>37.86</td>\n",
       "      <td>-122.22</td>\n",
       "    </tr>\n",
       "    <tr>\n",
       "      <th>2</th>\n",
       "      <td>7.2574</td>\n",
       "      <td>52.0</td>\n",
       "      <td>8.288136</td>\n",
       "      <td>1.073446</td>\n",
       "      <td>496.0</td>\n",
       "      <td>2.802260</td>\n",
       "      <td>37.85</td>\n",
       "      <td>-122.24</td>\n",
       "    </tr>\n",
       "    <tr>\n",
       "      <th>3</th>\n",
       "      <td>5.6431</td>\n",
       "      <td>52.0</td>\n",
       "      <td>5.817352</td>\n",
       "      <td>1.073059</td>\n",
       "      <td>558.0</td>\n",
       "      <td>2.547945</td>\n",
       "      <td>37.85</td>\n",
       "      <td>-122.25</td>\n",
       "    </tr>\n",
       "    <tr>\n",
       "      <th>4</th>\n",
       "      <td>3.8462</td>\n",
       "      <td>52.0</td>\n",
       "      <td>6.281853</td>\n",
       "      <td>1.081081</td>\n",
       "      <td>565.0</td>\n",
       "      <td>2.181467</td>\n",
       "      <td>37.85</td>\n",
       "      <td>-122.25</td>\n",
       "    </tr>\n",
       "    <tr>\n",
       "      <th>...</th>\n",
       "      <td>...</td>\n",
       "      <td>...</td>\n",
       "      <td>...</td>\n",
       "      <td>...</td>\n",
       "      <td>...</td>\n",
       "      <td>...</td>\n",
       "      <td>...</td>\n",
       "      <td>...</td>\n",
       "    </tr>\n",
       "    <tr>\n",
       "      <th>20635</th>\n",
       "      <td>1.5603</td>\n",
       "      <td>25.0</td>\n",
       "      <td>5.045455</td>\n",
       "      <td>1.133333</td>\n",
       "      <td>845.0</td>\n",
       "      <td>2.560606</td>\n",
       "      <td>39.48</td>\n",
       "      <td>-121.09</td>\n",
       "    </tr>\n",
       "    <tr>\n",
       "      <th>20636</th>\n",
       "      <td>2.5568</td>\n",
       "      <td>18.0</td>\n",
       "      <td>6.114035</td>\n",
       "      <td>1.315789</td>\n",
       "      <td>356.0</td>\n",
       "      <td>3.122807</td>\n",
       "      <td>39.49</td>\n",
       "      <td>-121.21</td>\n",
       "    </tr>\n",
       "    <tr>\n",
       "      <th>20637</th>\n",
       "      <td>1.7000</td>\n",
       "      <td>17.0</td>\n",
       "      <td>5.205543</td>\n",
       "      <td>1.120092</td>\n",
       "      <td>1007.0</td>\n",
       "      <td>2.325635</td>\n",
       "      <td>39.43</td>\n",
       "      <td>-121.22</td>\n",
       "    </tr>\n",
       "    <tr>\n",
       "      <th>20638</th>\n",
       "      <td>1.8672</td>\n",
       "      <td>18.0</td>\n",
       "      <td>5.329513</td>\n",
       "      <td>1.171920</td>\n",
       "      <td>741.0</td>\n",
       "      <td>2.123209</td>\n",
       "      <td>39.43</td>\n",
       "      <td>-121.32</td>\n",
       "    </tr>\n",
       "    <tr>\n",
       "      <th>20639</th>\n",
       "      <td>2.3886</td>\n",
       "      <td>16.0</td>\n",
       "      <td>5.254717</td>\n",
       "      <td>1.162264</td>\n",
       "      <td>1387.0</td>\n",
       "      <td>2.616981</td>\n",
       "      <td>39.37</td>\n",
       "      <td>-121.24</td>\n",
       "    </tr>\n",
       "  </tbody>\n",
       "</table>\n",
       "<p>20640 rows × 8 columns</p>\n",
       "</div>"
      ],
      "text/plain": [
       "       MedInc  HouseAge  AveRooms  AveBedrms  Population  AveOccup  Latitude  \\\n",
       "0      8.3252      41.0  6.984127   1.023810       322.0  2.555556     37.88   \n",
       "1      8.3014      21.0  6.238137   0.971880      2401.0  2.109842     37.86   \n",
       "2      7.2574      52.0  8.288136   1.073446       496.0  2.802260     37.85   \n",
       "3      5.6431      52.0  5.817352   1.073059       558.0  2.547945     37.85   \n",
       "4      3.8462      52.0  6.281853   1.081081       565.0  2.181467     37.85   \n",
       "...       ...       ...       ...        ...         ...       ...       ...   \n",
       "20635  1.5603      25.0  5.045455   1.133333       845.0  2.560606     39.48   \n",
       "20636  2.5568      18.0  6.114035   1.315789       356.0  3.122807     39.49   \n",
       "20637  1.7000      17.0  5.205543   1.120092      1007.0  2.325635     39.43   \n",
       "20638  1.8672      18.0  5.329513   1.171920       741.0  2.123209     39.43   \n",
       "20639  2.3886      16.0  5.254717   1.162264      1387.0  2.616981     39.37   \n",
       "\n",
       "       Longitude  \n",
       "0        -122.23  \n",
       "1        -122.22  \n",
       "2        -122.24  \n",
       "3        -122.25  \n",
       "4        -122.25  \n",
       "...          ...  \n",
       "20635    -121.09  \n",
       "20636    -121.21  \n",
       "20637    -121.22  \n",
       "20638    -121.32  \n",
       "20639    -121.24  \n",
       "\n",
       "[20640 rows x 8 columns]"
      ]
     },
     "metadata": {},
     "output_type": "display_data"
    },
    {
     "data": {
      "text/plain": [
       "0        4.526\n",
       "1        3.585\n",
       "2        3.521\n",
       "3        3.413\n",
       "4        3.422\n",
       "         ...  \n",
       "20635    0.781\n",
       "20636    0.771\n",
       "20637    0.923\n",
       "20638    0.847\n",
       "20639    0.894\n",
       "Name: MedHouseVal, Length: 20640, dtype: float64"
      ]
     },
     "metadata": {},
     "output_type": "display_data"
    },
    {
     "data": {
      "text/html": [
       "<div>\n",
       "<style scoped>\n",
       "    .dataframe tbody tr th:only-of-type {\n",
       "        vertical-align: middle;\n",
       "    }\n",
       "\n",
       "    .dataframe tbody tr th {\n",
       "        vertical-align: top;\n",
       "    }\n",
       "\n",
       "    .dataframe thead th {\n",
       "        text-align: right;\n",
       "    }\n",
       "</style>\n",
       "<table border=\"1\" class=\"dataframe\">\n",
       "  <thead>\n",
       "    <tr style=\"text-align: right;\">\n",
       "      <th></th>\n",
       "      <th>MedInc</th>\n",
       "      <th>HouseAge</th>\n",
       "      <th>AveRooms</th>\n",
       "      <th>AveBedrms</th>\n",
       "      <th>Population</th>\n",
       "      <th>AveOccup</th>\n",
       "      <th>Latitude</th>\n",
       "      <th>Longitude</th>\n",
       "      <th>MedHouseVal</th>\n",
       "    </tr>\n",
       "  </thead>\n",
       "  <tbody>\n",
       "    <tr>\n",
       "      <th>0</th>\n",
       "      <td>8.3252</td>\n",
       "      <td>41.0</td>\n",
       "      <td>6.984127</td>\n",
       "      <td>1.023810</td>\n",
       "      <td>322.0</td>\n",
       "      <td>2.555556</td>\n",
       "      <td>37.88</td>\n",
       "      <td>-122.23</td>\n",
       "      <td>4.526</td>\n",
       "    </tr>\n",
       "    <tr>\n",
       "      <th>1</th>\n",
       "      <td>8.3014</td>\n",
       "      <td>21.0</td>\n",
       "      <td>6.238137</td>\n",
       "      <td>0.971880</td>\n",
       "      <td>2401.0</td>\n",
       "      <td>2.109842</td>\n",
       "      <td>37.86</td>\n",
       "      <td>-122.22</td>\n",
       "      <td>3.585</td>\n",
       "    </tr>\n",
       "    <tr>\n",
       "      <th>2</th>\n",
       "      <td>7.2574</td>\n",
       "      <td>52.0</td>\n",
       "      <td>8.288136</td>\n",
       "      <td>1.073446</td>\n",
       "      <td>496.0</td>\n",
       "      <td>2.802260</td>\n",
       "      <td>37.85</td>\n",
       "      <td>-122.24</td>\n",
       "      <td>3.521</td>\n",
       "    </tr>\n",
       "    <tr>\n",
       "      <th>3</th>\n",
       "      <td>5.6431</td>\n",
       "      <td>52.0</td>\n",
       "      <td>5.817352</td>\n",
       "      <td>1.073059</td>\n",
       "      <td>558.0</td>\n",
       "      <td>2.547945</td>\n",
       "      <td>37.85</td>\n",
       "      <td>-122.25</td>\n",
       "      <td>3.413</td>\n",
       "    </tr>\n",
       "    <tr>\n",
       "      <th>4</th>\n",
       "      <td>3.8462</td>\n",
       "      <td>52.0</td>\n",
       "      <td>6.281853</td>\n",
       "      <td>1.081081</td>\n",
       "      <td>565.0</td>\n",
       "      <td>2.181467</td>\n",
       "      <td>37.85</td>\n",
       "      <td>-122.25</td>\n",
       "      <td>3.422</td>\n",
       "    </tr>\n",
       "    <tr>\n",
       "      <th>...</th>\n",
       "      <td>...</td>\n",
       "      <td>...</td>\n",
       "      <td>...</td>\n",
       "      <td>...</td>\n",
       "      <td>...</td>\n",
       "      <td>...</td>\n",
       "      <td>...</td>\n",
       "      <td>...</td>\n",
       "      <td>...</td>\n",
       "    </tr>\n",
       "    <tr>\n",
       "      <th>20635</th>\n",
       "      <td>1.5603</td>\n",
       "      <td>25.0</td>\n",
       "      <td>5.045455</td>\n",
       "      <td>1.133333</td>\n",
       "      <td>845.0</td>\n",
       "      <td>2.560606</td>\n",
       "      <td>39.48</td>\n",
       "      <td>-121.09</td>\n",
       "      <td>0.781</td>\n",
       "    </tr>\n",
       "    <tr>\n",
       "      <th>20636</th>\n",
       "      <td>2.5568</td>\n",
       "      <td>18.0</td>\n",
       "      <td>6.114035</td>\n",
       "      <td>1.315789</td>\n",
       "      <td>356.0</td>\n",
       "      <td>3.122807</td>\n",
       "      <td>39.49</td>\n",
       "      <td>-121.21</td>\n",
       "      <td>0.771</td>\n",
       "    </tr>\n",
       "    <tr>\n",
       "      <th>20637</th>\n",
       "      <td>1.7000</td>\n",
       "      <td>17.0</td>\n",
       "      <td>5.205543</td>\n",
       "      <td>1.120092</td>\n",
       "      <td>1007.0</td>\n",
       "      <td>2.325635</td>\n",
       "      <td>39.43</td>\n",
       "      <td>-121.22</td>\n",
       "      <td>0.923</td>\n",
       "    </tr>\n",
       "    <tr>\n",
       "      <th>20638</th>\n",
       "      <td>1.8672</td>\n",
       "      <td>18.0</td>\n",
       "      <td>5.329513</td>\n",
       "      <td>1.171920</td>\n",
       "      <td>741.0</td>\n",
       "      <td>2.123209</td>\n",
       "      <td>39.43</td>\n",
       "      <td>-121.32</td>\n",
       "      <td>0.847</td>\n",
       "    </tr>\n",
       "    <tr>\n",
       "      <th>20639</th>\n",
       "      <td>2.3886</td>\n",
       "      <td>16.0</td>\n",
       "      <td>5.254717</td>\n",
       "      <td>1.162264</td>\n",
       "      <td>1387.0</td>\n",
       "      <td>2.616981</td>\n",
       "      <td>39.37</td>\n",
       "      <td>-121.24</td>\n",
       "      <td>0.894</td>\n",
       "    </tr>\n",
       "  </tbody>\n",
       "</table>\n",
       "<p>20640 rows × 9 columns</p>\n",
       "</div>"
      ],
      "text/plain": [
       "       MedInc  HouseAge  AveRooms  AveBedrms  Population  AveOccup  Latitude  \\\n",
       "0      8.3252      41.0  6.984127   1.023810       322.0  2.555556     37.88   \n",
       "1      8.3014      21.0  6.238137   0.971880      2401.0  2.109842     37.86   \n",
       "2      7.2574      52.0  8.288136   1.073446       496.0  2.802260     37.85   \n",
       "3      5.6431      52.0  5.817352   1.073059       558.0  2.547945     37.85   \n",
       "4      3.8462      52.0  6.281853   1.081081       565.0  2.181467     37.85   \n",
       "...       ...       ...       ...        ...         ...       ...       ...   \n",
       "20635  1.5603      25.0  5.045455   1.133333       845.0  2.560606     39.48   \n",
       "20636  2.5568      18.0  6.114035   1.315789       356.0  3.122807     39.49   \n",
       "20637  1.7000      17.0  5.205543   1.120092      1007.0  2.325635     39.43   \n",
       "20638  1.8672      18.0  5.329513   1.171920       741.0  2.123209     39.43   \n",
       "20639  2.3886      16.0  5.254717   1.162264      1387.0  2.616981     39.37   \n",
       "\n",
       "       Longitude  MedHouseVal  \n",
       "0        -122.23        4.526  \n",
       "1        -122.22        3.585  \n",
       "2        -122.24        3.521  \n",
       "3        -122.25        3.413  \n",
       "4        -122.25        3.422  \n",
       "...          ...          ...  \n",
       "20635    -121.09        0.781  \n",
       "20636    -121.21        0.771  \n",
       "20637    -121.22        0.923  \n",
       "20638    -121.32        0.847  \n",
       "20639    -121.24        0.894  \n",
       "\n",
       "[20640 rows x 9 columns]"
      ]
     },
     "metadata": {},
     "output_type": "display_data"
    }
   ],
   "source": [
    "X = fetch_california_housing(as_frame=True)['data']\n",
    "y = fetch_california_housing(as_frame=True)['target']\n",
    "data = pd.concat([X, y], axis=1)\n",
    "\n",
    "display(X)\n",
    "display(y)\n",
    "display(data)"
   ]
  },
  {
   "cell_type": "markdown",
   "metadata": {
    "id": "Sp-qZnMo1ZmV"
   },
   "source": [
    "### 2. Data Preprocessing\n",
    "\n",
    "1. 결측치 확인\n",
    "\n",
    "2. feature selection"
   ]
  },
  {
   "cell_type": "code",
   "execution_count": 5,
   "metadata": {
    "ExecuteTime": {
     "end_time": "2022-06-03T01:36:22.918719Z",
     "start_time": "2022-06-03T01:36:22.904135Z"
    },
    "id": "KSDi04eC1ZmV"
   },
   "outputs": [
    {
     "name": "stdout",
     "output_type": "stream",
     "text": [
      "<class 'pandas.core.frame.DataFrame'>\n",
      "RangeIndex: 20640 entries, 0 to 20639\n",
      "Data columns (total 9 columns):\n",
      " #   Column       Non-Null Count  Dtype  \n",
      "---  ------       --------------  -----  \n",
      " 0   MedInc       20640 non-null  float64\n",
      " 1   HouseAge     20640 non-null  float64\n",
      " 2   AveRooms     20640 non-null  float64\n",
      " 3   AveBedrms    20640 non-null  float64\n",
      " 4   Population   20640 non-null  float64\n",
      " 5   AveOccup     20640 non-null  float64\n",
      " 6   Latitude     20640 non-null  float64\n",
      " 7   Longitude    20640 non-null  float64\n",
      " 8   MedHouseVal  20640 non-null  float64\n",
      "dtypes: float64(9)\n",
      "memory usage: 1.4 MB\n"
     ]
    }
   ],
   "source": [
    "# 결측치를 확인합니다.\n",
    "data.info()\n",
    "# --> 결측치 X"
   ]
  },
  {
   "cell_type": "code",
   "execution_count": 6,
   "metadata": {
    "ExecuteTime": {
     "end_time": "2022-06-03T01:36:23.232476Z",
     "start_time": "2022-06-03T01:36:23.227519Z"
    },
    "id": "wSKRvV9SpPRo"
   },
   "outputs": [],
   "source": [
    "# 필요없는 column을 제거합니다.\n",
    "# 집값에 반영되지 않는 요소가 없는 것 같아서 모든 컬럼을 사용합니다!"
   ]
  },
  {
   "cell_type": "markdown",
   "metadata": {
    "id": "fY9v7fEC5PQs"
   },
   "source": [
    "### 3. EDA\n",
    "\n",
    "- feature distribution\n",
    "\n",
    "- target distribution\n",
    "\n"
   ]
  },
  {
   "cell_type": "code",
   "execution_count": 7,
   "metadata": {
    "ExecuteTime": {
     "end_time": "2022-06-03T01:36:24.225691Z",
     "start_time": "2022-06-03T01:36:24.207525Z"
    }
   },
   "outputs": [
    {
     "data": {
      "text/html": [
       "<div>\n",
       "<style scoped>\n",
       "    .dataframe tbody tr th:only-of-type {\n",
       "        vertical-align: middle;\n",
       "    }\n",
       "\n",
       "    .dataframe tbody tr th {\n",
       "        vertical-align: top;\n",
       "    }\n",
       "\n",
       "    .dataframe thead th {\n",
       "        text-align: right;\n",
       "    }\n",
       "</style>\n",
       "<table border=\"1\" class=\"dataframe\">\n",
       "  <thead>\n",
       "    <tr style=\"text-align: right;\">\n",
       "      <th></th>\n",
       "      <th>MedInc</th>\n",
       "      <th>HouseAge</th>\n",
       "      <th>AveRooms</th>\n",
       "      <th>AveBedrms</th>\n",
       "      <th>Population</th>\n",
       "      <th>AveOccup</th>\n",
       "      <th>Latitude</th>\n",
       "      <th>Longitude</th>\n",
       "      <th>MedHouseVal</th>\n",
       "    </tr>\n",
       "  </thead>\n",
       "  <tbody>\n",
       "    <tr>\n",
       "      <th>0</th>\n",
       "      <td>8.3252</td>\n",
       "      <td>41.0</td>\n",
       "      <td>6.984127</td>\n",
       "      <td>1.023810</td>\n",
       "      <td>322.0</td>\n",
       "      <td>2.555556</td>\n",
       "      <td>37.88</td>\n",
       "      <td>-122.23</td>\n",
       "      <td>4.526</td>\n",
       "    </tr>\n",
       "    <tr>\n",
       "      <th>1</th>\n",
       "      <td>8.3014</td>\n",
       "      <td>21.0</td>\n",
       "      <td>6.238137</td>\n",
       "      <td>0.971880</td>\n",
       "      <td>2401.0</td>\n",
       "      <td>2.109842</td>\n",
       "      <td>37.86</td>\n",
       "      <td>-122.22</td>\n",
       "      <td>3.585</td>\n",
       "    </tr>\n",
       "    <tr>\n",
       "      <th>2</th>\n",
       "      <td>7.2574</td>\n",
       "      <td>52.0</td>\n",
       "      <td>8.288136</td>\n",
       "      <td>1.073446</td>\n",
       "      <td>496.0</td>\n",
       "      <td>2.802260</td>\n",
       "      <td>37.85</td>\n",
       "      <td>-122.24</td>\n",
       "      <td>3.521</td>\n",
       "    </tr>\n",
       "    <tr>\n",
       "      <th>3</th>\n",
       "      <td>5.6431</td>\n",
       "      <td>52.0</td>\n",
       "      <td>5.817352</td>\n",
       "      <td>1.073059</td>\n",
       "      <td>558.0</td>\n",
       "      <td>2.547945</td>\n",
       "      <td>37.85</td>\n",
       "      <td>-122.25</td>\n",
       "      <td>3.413</td>\n",
       "    </tr>\n",
       "    <tr>\n",
       "      <th>4</th>\n",
       "      <td>3.8462</td>\n",
       "      <td>52.0</td>\n",
       "      <td>6.281853</td>\n",
       "      <td>1.081081</td>\n",
       "      <td>565.0</td>\n",
       "      <td>2.181467</td>\n",
       "      <td>37.85</td>\n",
       "      <td>-122.25</td>\n",
       "      <td>3.422</td>\n",
       "    </tr>\n",
       "  </tbody>\n",
       "</table>\n",
       "</div>"
      ],
      "text/plain": [
       "   MedInc  HouseAge  AveRooms  AveBedrms  Population  AveOccup  Latitude  \\\n",
       "0  8.3252      41.0  6.984127   1.023810       322.0  2.555556     37.88   \n",
       "1  8.3014      21.0  6.238137   0.971880      2401.0  2.109842     37.86   \n",
       "2  7.2574      52.0  8.288136   1.073446       496.0  2.802260     37.85   \n",
       "3  5.6431      52.0  5.817352   1.073059       558.0  2.547945     37.85   \n",
       "4  3.8462      52.0  6.281853   1.081081       565.0  2.181467     37.85   \n",
       "\n",
       "   Longitude  MedHouseVal  \n",
       "0    -122.23        4.526  \n",
       "1    -122.22        3.585  \n",
       "2    -122.24        3.521  \n",
       "3    -122.25        3.413  \n",
       "4    -122.25        3.422  "
      ]
     },
     "execution_count": 7,
     "metadata": {},
     "output_type": "execute_result"
    }
   ],
   "source": [
    "data.head()"
   ]
  },
  {
   "cell_type": "code",
   "execution_count": 8,
   "metadata": {
    "ExecuteTime": {
     "end_time": "2022-06-03T01:36:24.599486Z",
     "start_time": "2022-06-03T01:36:24.595974Z"
    }
   },
   "outputs": [],
   "source": [
    "temp = data.columns.tolist().remove('Population')\n",
    "temp"
   ]
  },
  {
   "cell_type": "code",
   "execution_count": 9,
   "metadata": {
    "ExecuteTime": {
     "end_time": "2022-06-03T01:36:25.184899Z",
     "start_time": "2022-06-03T01:36:25.080165Z"
    },
    "id": "gOcdFN1LptEp"
   },
   "outputs": [
    {
     "data": {
      "text/plain": [
       "<AxesSubplot:>"
      ]
     },
     "execution_count": 9,
     "metadata": {},
     "output_type": "execute_result"
    },
    {
     "data": {
      "image/png": "[encoded data removed]",
      "text/plain": [
       "<Figure size 1080x576 with 1 Axes>"
      ]
     },
     "metadata": {
      "needs_background": "light"
     },
     "output_type": "display_data"
    }
   ],
   "source": [
    "# feature distribution\n",
    "# sns.histplot(data=data, x='MedInc')\n",
    "# sns.histplot(data=data, x='HouseAge')\n",
    "# sns.histplot(data=data, x='AveRooms')\n",
    "# sns.histplot(data=data, x='AveBedrms')\n",
    "# sns.histplot(data=data, x='AveOccup')\n",
    "# sns.histplot(data=data, x='Latitude')\n",
    "# sns.histplot(data=data, x='Longitude')\n",
    "# 이런 경우에는 hisplot으로는 보기 힘드니 boxplot으로 보자\n",
    "plt.figure(figsize=(15, 8))\n",
    "# sns.boxplot(data=data.loc[:, [\"MedInc\", \"HouseAge\", \"AveRooms\", \"AveBedrms\", \"AveOccup\", \"Latitude\", \"Longitude\", \"MedHouseVal\"]])\n",
    "# sns.boxplot(data = data.loc[:, [\"AveRooms\", \"AveBedrms\"]])\n",
    "sns.boxplot(data = data.loc[:, [\"AveOccup\"]])"
   ]
  },
  {
   "cell_type": "code",
   "execution_count": 10,
   "metadata": {
    "ExecuteTime": {
     "end_time": "2022-06-03T01:36:25.834821Z",
     "start_time": "2022-06-03T01:36:25.627051Z"
    },
    "scrolled": false
   },
   "outputs": [
    {
     "data": {
      "text/plain": [
       "<AxesSubplot:>"
      ]
     },
     "execution_count": 10,
     "metadata": {},
     "output_type": "execute_result"
    },
    {
     "data": {
      "image/png": "[encoded data removed]",
      "text/plain": [
       "<Figure size 576x432 with 2 Axes>"
      ]
     },
     "metadata": {
      "needs_background": "light"
     },
     "output_type": "display_data"
    }
   ],
   "source": [
    "plt.figure(figsize=(8, 6))\n",
    "sns.heatmap(data.corr(), annot=True)"
   ]
  },
  {
   "cell_type": "code",
   "execution_count": 11,
   "metadata": {
    "ExecuteTime": {
     "end_time": "2022-06-03T01:36:26.648084Z",
     "start_time": "2022-06-03T01:36:26.548071Z"
    }
   },
   "outputs": [
    {
     "data": {
      "text/plain": [
       "<AxesSubplot:>"
      ]
     },
     "execution_count": 11,
     "metadata": {},
     "output_type": "execute_result"
    },
    {
     "data": {
      "image/png": "[encoded data removed]",
      "text/plain": [
       "<Figure size 720x432 with 1 Axes>"
      ]
     },
     "metadata": {
      "needs_background": "light"
     },
     "output_type": "display_data"
    }
   ],
   "source": [
    "plt.figure(figsize=(10, 6))\n",
    "sns.boxplot(data=data.loc[:, [\"AveRooms\", \"AveBedrms\", \"AveOccup\"]])"
   ]
  },
  {
   "cell_type": "code",
   "execution_count": 12,
   "metadata": {
    "ExecuteTime": {
     "end_time": "2022-06-03T01:36:27.289585Z",
     "start_time": "2022-06-03T01:36:27.177154Z"
    },
    "id": "MDtNmIGLpv8I",
    "scrolled": false
   },
   "outputs": [
    {
     "data": {
      "text/plain": [
       "<AxesSubplot:xlabel='MedHouseVal', ylabel='Count'>"
      ]
     },
     "execution_count": 12,
     "metadata": {},
     "output_type": "execute_result"
    },
    {
     "data": {
      "image/png": "[encoded data removed]",
      "text/plain": [
       "<Figure size 432x288 with 1 Axes>"
      ]
     },
     "metadata": {
      "needs_background": "light"
     },
     "output_type": "display_data"
    }
   ],
   "source": [
    "# target distribution\n",
    "sns.histplot(data=data, x=\"MedHouseVal\")"
   ]
  },
  {
   "cell_type": "code",
   "execution_count": 13,
   "metadata": {
    "ExecuteTime": {
     "end_time": "2022-06-03T01:36:28.418102Z",
     "start_time": "2022-06-03T01:36:27.759905Z"
    },
    "scrolled": false
   },
   "outputs": [
    {
     "data": {
      "text/plain": [
       "<AxesSubplot:xlabel='AveRooms', ylabel='Count'>"
      ]
     },
     "execution_count": 13,
     "metadata": {},
     "output_type": "execute_result"
    },
    {
     "data": {
      "image/png": "[encoded data removed]",
      "text/plain": [
       "<Figure size 720x432 with 1 Axes>"
      ]
     },
     "metadata": {
      "needs_background": "light"
     },
     "output_type": "display_data"
    }
   ],
   "source": [
    "plt.figure(figsize=(10,6))\n",
    "sns.histplot(data=data, x='AveRooms')"
   ]
  },
  {
   "cell_type": "code",
   "execution_count": 14,
   "metadata": {
    "ExecuteTime": {
     "end_time": "2022-06-03T01:36:28.425774Z",
     "start_time": "2022-06-03T01:36:28.419237Z"
    }
   },
   "outputs": [
    {
     "data": {
      "text/html": [
       "<div>\n",
       "<style scoped>\n",
       "    .dataframe tbody tr th:only-of-type {\n",
       "        vertical-align: middle;\n",
       "    }\n",
       "\n",
       "    .dataframe tbody tr th {\n",
       "        vertical-align: top;\n",
       "    }\n",
       "\n",
       "    .dataframe thead th {\n",
       "        text-align: right;\n",
       "    }\n",
       "</style>\n",
       "<table border=\"1\" class=\"dataframe\">\n",
       "  <thead>\n",
       "    <tr style=\"text-align: right;\">\n",
       "      <th></th>\n",
       "      <th>MedInc</th>\n",
       "      <th>HouseAge</th>\n",
       "      <th>AveRooms</th>\n",
       "      <th>AveBedrms</th>\n",
       "      <th>Population</th>\n",
       "      <th>AveOccup</th>\n",
       "      <th>Latitude</th>\n",
       "      <th>Longitude</th>\n",
       "      <th>MedHouseVal</th>\n",
       "    </tr>\n",
       "  </thead>\n",
       "  <tbody>\n",
       "    <tr>\n",
       "      <th>1024</th>\n",
       "      <td>3.1500</td>\n",
       "      <td>16.0</td>\n",
       "      <td>29.852941</td>\n",
       "      <td>5.323529</td>\n",
       "      <td>202.0</td>\n",
       "      <td>1.980392</td>\n",
       "      <td>38.52</td>\n",
       "      <td>-120.00</td>\n",
       "      <td>1.406</td>\n",
       "    </tr>\n",
       "    <tr>\n",
       "      <th>1102</th>\n",
       "      <td>2.4028</td>\n",
       "      <td>17.0</td>\n",
       "      <td>31.777778</td>\n",
       "      <td>9.703704</td>\n",
       "      <td>47.0</td>\n",
       "      <td>1.740741</td>\n",
       "      <td>40.06</td>\n",
       "      <td>-121.54</td>\n",
       "      <td>0.675</td>\n",
       "    </tr>\n",
       "    <tr>\n",
       "      <th>1234</th>\n",
       "      <td>4.4063</td>\n",
       "      <td>13.0</td>\n",
       "      <td>28.757282</td>\n",
       "      <td>5.300971</td>\n",
       "      <td>252.0</td>\n",
       "      <td>2.446602</td>\n",
       "      <td>38.26</td>\n",
       "      <td>-120.33</td>\n",
       "      <td>1.558</td>\n",
       "    </tr>\n",
       "    <tr>\n",
       "      <th>1238</th>\n",
       "      <td>3.3542</td>\n",
       "      <td>10.0</td>\n",
       "      <td>28.112903</td>\n",
       "      <td>5.604839</td>\n",
       "      <td>298.0</td>\n",
       "      <td>2.403226</td>\n",
       "      <td>38.29</td>\n",
       "      <td>-120.27</td>\n",
       "      <td>1.038</td>\n",
       "    </tr>\n",
       "    <tr>\n",
       "      <th>1239</th>\n",
       "      <td>3.0750</td>\n",
       "      <td>13.0</td>\n",
       "      <td>33.989691</td>\n",
       "      <td>6.824742</td>\n",
       "      <td>267.0</td>\n",
       "      <td>2.752577</td>\n",
       "      <td>38.31</td>\n",
       "      <td>-120.27</td>\n",
       "      <td>1.083</td>\n",
       "    </tr>\n",
       "    <tr>\n",
       "      <th>...</th>\n",
       "      <td>...</td>\n",
       "      <td>...</td>\n",
       "      <td>...</td>\n",
       "      <td>...</td>\n",
       "      <td>...</td>\n",
       "      <td>...</td>\n",
       "      <td>...</td>\n",
       "      <td>...</td>\n",
       "      <td>...</td>\n",
       "    </tr>\n",
       "    <tr>\n",
       "      <th>19736</th>\n",
       "      <td>6.1359</td>\n",
       "      <td>14.0</td>\n",
       "      <td>22.823529</td>\n",
       "      <td>6.352941</td>\n",
       "      <td>35.0</td>\n",
       "      <td>2.058824</td>\n",
       "      <td>40.12</td>\n",
       "      <td>-121.78</td>\n",
       "      <td>1.063</td>\n",
       "    </tr>\n",
       "    <tr>\n",
       "      <th>19975</th>\n",
       "      <td>2.1029</td>\n",
       "      <td>11.0</td>\n",
       "      <td>23.994152</td>\n",
       "      <td>5.157895</td>\n",
       "      <td>356.0</td>\n",
       "      <td>2.081871</td>\n",
       "      <td>36.12</td>\n",
       "      <td>-118.54</td>\n",
       "      <td>0.991</td>\n",
       "    </tr>\n",
       "    <tr>\n",
       "      <th>19976</th>\n",
       "      <td>3.1250</td>\n",
       "      <td>10.0</td>\n",
       "      <td>21.095238</td>\n",
       "      <td>5.285714</td>\n",
       "      <td>48.0</td>\n",
       "      <td>2.285714</td>\n",
       "      <td>36.19</td>\n",
       "      <td>-118.37</td>\n",
       "      <td>0.713</td>\n",
       "    </tr>\n",
       "    <tr>\n",
       "      <th>20093</th>\n",
       "      <td>2.0625</td>\n",
       "      <td>37.0</td>\n",
       "      <td>24.669118</td>\n",
       "      <td>4.897059</td>\n",
       "      <td>338.0</td>\n",
       "      <td>2.485294</td>\n",
       "      <td>38.12</td>\n",
       "      <td>-120.12</td>\n",
       "      <td>0.889</td>\n",
       "    </tr>\n",
       "    <tr>\n",
       "      <th>20094</th>\n",
       "      <td>2.1250</td>\n",
       "      <td>26.0</td>\n",
       "      <td>37.063492</td>\n",
       "      <td>7.185185</td>\n",
       "      <td>416.0</td>\n",
       "      <td>2.201058</td>\n",
       "      <td>38.19</td>\n",
       "      <td>-120.03</td>\n",
       "      <td>1.325</td>\n",
       "    </tr>\n",
       "  </tbody>\n",
       "</table>\n",
       "<p>69 rows × 9 columns</p>\n",
       "</div>"
      ],
      "text/plain": [
       "       MedInc  HouseAge   AveRooms  AveBedrms  Population  AveOccup  Latitude  \\\n",
       "1024   3.1500      16.0  29.852941   5.323529       202.0  1.980392     38.52   \n",
       "1102   2.4028      17.0  31.777778   9.703704        47.0  1.740741     40.06   \n",
       "1234   4.4063      13.0  28.757282   5.300971       252.0  2.446602     38.26   \n",
       "1238   3.3542      10.0  28.112903   5.604839       298.0  2.403226     38.29   \n",
       "1239   3.0750      13.0  33.989691   6.824742       267.0  2.752577     38.31   \n",
       "...       ...       ...        ...        ...         ...       ...       ...   \n",
       "19736  6.1359      14.0  22.823529   6.352941        35.0  2.058824     40.12   \n",
       "19975  2.1029      11.0  23.994152   5.157895       356.0  2.081871     36.12   \n",
       "19976  3.1250      10.0  21.095238   5.285714        48.0  2.285714     36.19   \n",
       "20093  2.0625      37.0  24.669118   4.897059       338.0  2.485294     38.12   \n",
       "20094  2.1250      26.0  37.063492   7.185185       416.0  2.201058     38.19   \n",
       "\n",
       "       Longitude  MedHouseVal  \n",
       "1024     -120.00        1.406  \n",
       "1102     -121.54        0.675  \n",
       "1234     -120.33        1.558  \n",
       "1238     -120.27        1.038  \n",
       "1239     -120.27        1.083  \n",
       "...          ...          ...  \n",
       "19736    -121.78        1.063  \n",
       "19975    -118.54        0.991  \n",
       "19976    -118.37        0.713  \n",
       "20093    -120.12        0.889  \n",
       "20094    -120.03        1.325  \n",
       "\n",
       "[69 rows x 9 columns]"
      ]
     },
     "execution_count": 14,
     "metadata": {},
     "output_type": "execute_result"
    }
   ],
   "source": [
    "data.loc[data.AveRooms > 20, :]\n",
    "# 직관적으로 아웃라이어 처리를 어떻게 해야될 지 모르겠으면 \n",
    "# 하나씩 넣어보면서 회귀모델의 성능이 좋은것을 사용하면된다. eg. > 20 / > 50 / > 100"
   ]
  },
  {
   "cell_type": "code",
   "execution_count": 15,
   "metadata": {
    "ExecuteTime": {
     "end_time": "2022-06-03T01:36:29.910990Z",
     "start_time": "2022-06-03T01:36:29.908199Z"
    }
   },
   "outputs": [],
   "source": [
    "# data.loc[data.AveRooms > 100, :] # 1914, 1979row 제거\n",
    "# data.loc[data.AveOccup > 200, :] # 3364, 13034, 16669, 19006 row 제거\n",
    "# AveBedrms, Longitude column 제거"
   ]
  },
  {
   "cell_type": "code",
   "execution_count": 16,
   "metadata": {
    "ExecuteTime": {
     "end_time": "2022-06-03T01:36:31.041698Z",
     "start_time": "2022-06-03T01:36:31.018692Z"
    }
   },
   "outputs": [
    {
     "data": {
      "text/html": [
       "<div>\n",
       "<style scoped>\n",
       "    .dataframe tbody tr th:only-of-type {\n",
       "        vertical-align: middle;\n",
       "    }\n",
       "\n",
       "    .dataframe tbody tr th {\n",
       "        vertical-align: top;\n",
       "    }\n",
       "\n",
       "    .dataframe thead th {\n",
       "        text-align: right;\n",
       "    }\n",
       "</style>\n",
       "<table border=\"1\" class=\"dataframe\">\n",
       "  <thead>\n",
       "    <tr style=\"text-align: right;\">\n",
       "      <th></th>\n",
       "      <th>MedInc</th>\n",
       "      <th>HouseAge</th>\n",
       "      <th>AveRooms</th>\n",
       "      <th>Population</th>\n",
       "      <th>AveOccup</th>\n",
       "      <th>Latitude</th>\n",
       "      <th>MedHouseVal</th>\n",
       "    </tr>\n",
       "  </thead>\n",
       "  <tbody>\n",
       "    <tr>\n",
       "      <th>0</th>\n",
       "      <td>8.3252</td>\n",
       "      <td>41.0</td>\n",
       "      <td>6.984127</td>\n",
       "      <td>322.0</td>\n",
       "      <td>2.555556</td>\n",
       "      <td>37.88</td>\n",
       "      <td>4.526</td>\n",
       "    </tr>\n",
       "    <tr>\n",
       "      <th>1</th>\n",
       "      <td>8.3014</td>\n",
       "      <td>21.0</td>\n",
       "      <td>6.238137</td>\n",
       "      <td>2401.0</td>\n",
       "      <td>2.109842</td>\n",
       "      <td>37.86</td>\n",
       "      <td>3.585</td>\n",
       "    </tr>\n",
       "    <tr>\n",
       "      <th>2</th>\n",
       "      <td>7.2574</td>\n",
       "      <td>52.0</td>\n",
       "      <td>8.288136</td>\n",
       "      <td>496.0</td>\n",
       "      <td>2.802260</td>\n",
       "      <td>37.85</td>\n",
       "      <td>3.521</td>\n",
       "    </tr>\n",
       "    <tr>\n",
       "      <th>3</th>\n",
       "      <td>5.6431</td>\n",
       "      <td>52.0</td>\n",
       "      <td>5.817352</td>\n",
       "      <td>558.0</td>\n",
       "      <td>2.547945</td>\n",
       "      <td>37.85</td>\n",
       "      <td>3.413</td>\n",
       "    </tr>\n",
       "    <tr>\n",
       "      <th>4</th>\n",
       "      <td>3.8462</td>\n",
       "      <td>52.0</td>\n",
       "      <td>6.281853</td>\n",
       "      <td>565.0</td>\n",
       "      <td>2.181467</td>\n",
       "      <td>37.85</td>\n",
       "      <td>3.422</td>\n",
       "    </tr>\n",
       "    <tr>\n",
       "      <th>...</th>\n",
       "      <td>...</td>\n",
       "      <td>...</td>\n",
       "      <td>...</td>\n",
       "      <td>...</td>\n",
       "      <td>...</td>\n",
       "      <td>...</td>\n",
       "      <td>...</td>\n",
       "    </tr>\n",
       "    <tr>\n",
       "      <th>20635</th>\n",
       "      <td>1.5603</td>\n",
       "      <td>25.0</td>\n",
       "      <td>5.045455</td>\n",
       "      <td>845.0</td>\n",
       "      <td>2.560606</td>\n",
       "      <td>39.48</td>\n",
       "      <td>0.781</td>\n",
       "    </tr>\n",
       "    <tr>\n",
       "      <th>20636</th>\n",
       "      <td>2.5568</td>\n",
       "      <td>18.0</td>\n",
       "      <td>6.114035</td>\n",
       "      <td>356.0</td>\n",
       "      <td>3.122807</td>\n",
       "      <td>39.49</td>\n",
       "      <td>0.771</td>\n",
       "    </tr>\n",
       "    <tr>\n",
       "      <th>20637</th>\n",
       "      <td>1.7000</td>\n",
       "      <td>17.0</td>\n",
       "      <td>5.205543</td>\n",
       "      <td>1007.0</td>\n",
       "      <td>2.325635</td>\n",
       "      <td>39.43</td>\n",
       "      <td>0.923</td>\n",
       "    </tr>\n",
       "    <tr>\n",
       "      <th>20638</th>\n",
       "      <td>1.8672</td>\n",
       "      <td>18.0</td>\n",
       "      <td>5.329513</td>\n",
       "      <td>741.0</td>\n",
       "      <td>2.123209</td>\n",
       "      <td>39.43</td>\n",
       "      <td>0.847</td>\n",
       "    </tr>\n",
       "    <tr>\n",
       "      <th>20639</th>\n",
       "      <td>2.3886</td>\n",
       "      <td>16.0</td>\n",
       "      <td>5.254717</td>\n",
       "      <td>1387.0</td>\n",
       "      <td>2.616981</td>\n",
       "      <td>39.37</td>\n",
       "      <td>0.894</td>\n",
       "    </tr>\n",
       "  </tbody>\n",
       "</table>\n",
       "<p>20634 rows × 7 columns</p>\n",
       "</div>"
      ],
      "text/plain": [
       "       MedInc  HouseAge  AveRooms  Population  AveOccup  Latitude  MedHouseVal\n",
       "0      8.3252      41.0  6.984127       322.0  2.555556     37.88        4.526\n",
       "1      8.3014      21.0  6.238137      2401.0  2.109842     37.86        3.585\n",
       "2      7.2574      52.0  8.288136       496.0  2.802260     37.85        3.521\n",
       "3      5.6431      52.0  5.817352       558.0  2.547945     37.85        3.413\n",
       "4      3.8462      52.0  6.281853       565.0  2.181467     37.85        3.422\n",
       "...       ...       ...       ...         ...       ...       ...          ...\n",
       "20635  1.5603      25.0  5.045455       845.0  2.560606     39.48        0.781\n",
       "20636  2.5568      18.0  6.114035       356.0  3.122807     39.49        0.771\n",
       "20637  1.7000      17.0  5.205543      1007.0  2.325635     39.43        0.923\n",
       "20638  1.8672      18.0  5.329513       741.0  2.123209     39.43        0.847\n",
       "20639  2.3886      16.0  5.254717      1387.0  2.616981     39.37        0.894\n",
       "\n",
       "[20634 rows x 7 columns]"
      ]
     },
     "execution_count": 16,
     "metadata": {},
     "output_type": "execute_result"
    }
   ],
   "source": [
    "data = data.drop(index=[1914, 1979, 3364, 13034, 16669, 19006]) # remove outlier\n",
    "data = data.drop(columns=[\"AveBedrms\", \"Longitude\"]) # remove collinearity\n",
    "data"
   ]
  },
  {
   "cell_type": "markdown",
   "metadata": {
    "id": "yNcS1utcpzMY"
   },
   "source": [
    "### 4. Training\n",
    "\n",
    "- train-test split\n",
    "\n",
    "- Standardization\n",
    "\n",
    "- Model training\n",
    "\n",
    "- Hyper-parameter tuning\n",
    "\n",
    "- Evaluation"
   ]
  },
  {
   "cell_type": "code",
   "execution_count": 19,
   "metadata": {
    "ExecuteTime": {
     "end_time": "2022-06-03T01:55:39.214662Z",
     "start_time": "2022-06-03T01:55:39.196763Z"
    },
    "id": "Z3MsuTkf5PQs"
   },
   "outputs": [
    {
     "name": "stdout",
     "output_type": "stream",
     "text": [
      "(12384, 8) (4128, 8) (12384,) (4128,)\n"
     ]
    }
   ],
   "source": [
    "# 학습을 위한 training / test dataset 나누기\n",
    "from sklearn.model_selection import train_test_split\n",
    "\n",
    "#트테트테\n",
    "X_train, X_test, y_train, y_test = train_test_split(X, y, test_size=0.2, random_state=0xC0FFEE)\n",
    "\n",
    "X_train, X_val, y_train, y_val = train_test_split(X_train, y_train, test_size=0.25, random_state=0xC0FFEE)\n",
    "\n",
    "# 6 : 2 : 2 = train : validation : test\n",
    "print(X_train.shape, X_test.shape, y_train.shape, y_test.shape)"
   ]
  },
  {
   "cell_type": "code",
   "execution_count": 21,
   "metadata": {
    "ExecuteTime": {
     "end_time": "2022-06-03T02:04:03.449594Z",
     "start_time": "2022-06-03T02:04:03.436897Z"
    },
    "id": "rimXcGKM1ZmZ"
   },
   "outputs": [],
   "source": [
    "# feature scaling\n",
    "## 원래는 train data를 만들고 거기에 대한 eda를 하는게 맞지만\n",
    "### sklearn data set이므로 간단하게 진행\n",
    "from sklearn.preprocessing import StandardScaler\n",
    "\n",
    "scaler = StandardScaler()\n",
    "X_train = scaler.fit_transform(X_train)\n",
    "X_val = scaler.fit_transform(X_val)\n",
    "X_test = scaler.transform(X_test)"
   ]
  },
  {
   "cell_type": "code",
   "execution_count": 23,
   "metadata": {
    "ExecuteTime": {
     "end_time": "2022-06-03T02:04:26.382930Z",
     "start_time": "2022-06-03T02:04:26.377974Z"
    }
   },
   "outputs": [
    {
     "data": {
      "text/plain": [
       "array([[-1.17601944,  0.10850292, -0.45288606, ..., -0.00868   ,\n",
       "         0.99834209, -1.31457603],\n",
       "       [ 1.18715488,  0.42665141,  0.47835933, ..., -0.0655039 ,\n",
       "         1.07323662, -1.47940183],\n",
       "       [ 1.06546023,  1.38109688,  0.28551945, ..., -0.04575842,\n",
       "         0.96557573, -1.43444934],\n",
       "       ...,\n",
       "       [-0.63090052, -0.84594255, -0.96876995, ...,  0.03905252,\n",
       "        -0.89274496,  0.86312244],\n",
       "       [ 1.20956132,  0.50618853, -0.02789518, ..., -0.02307157,\n",
       "        -0.66338044,  0.66832831],\n",
       "       [-1.32727596,  0.7447999 , -0.44326619, ..., -0.01722098,\n",
       "         1.3915384 , -0.91999305]])"
      ]
     },
     "execution_count": 23,
     "metadata": {},
     "output_type": "execute_result"
    }
   ],
   "source": [
    "# 확인\n",
    "X_train"
   ]
  },
  {
   "cell_type": "code",
   "execution_count": 26,
   "metadata": {
    "ExecuteTime": {
     "end_time": "2022-06-03T02:10:29.754633Z",
     "start_time": "2022-06-03T02:10:28.998502Z"
    },
    "id": "vRbLGZQJ5PQs"
   },
   "outputs": [],
   "source": [
    "# 학습을 위한 라이브러리 세팅\n",
    "\n",
    "from sklearn.linear_model import LinearRegression # 1. Linear Regression\n",
    "from sklearn.linear_model import Lasso            # 2. Lasso\n",
    "from sklearn.linear_model import Ridge            # 3. Ridge\n",
    "from xgboost.sklearn import XGBRegressor          # 4. XGBoost\n",
    "from lightgbm.sklearn import LGBMRegressor        # 5. LightGBM\n",
    "\n",
    "from sklearn.metrics import mean_squared_error"
   ]
  },
  {
   "cell_type": "code",
   "execution_count": 29,
   "metadata": {
    "ExecuteTime": {
     "end_time": "2022-06-03T02:20:51.604682Z",
     "start_time": "2022-06-03T02:20:50.730802Z"
    }
   },
   "outputs": [
    {
     "name": "stdout",
     "output_type": "stream",
     "text": [
      "1. Linear Regression\t, train = 0.5336, val = 0.5122\n",
      "2. Lasso\t\t, train = 1.3490, val = 1.2857\n",
      "3. Ridge\t\t, train = 0.5336, val = 0.5122\n",
      "4. XGBoost\t\t, train = 0.0666, val = 0.5820\n",
      "5. LightGBM\t\t, train = 0.1474, val = 0.4629\n"
     ]
    }
   ],
   "source": [
    "# training\n",
    "\n",
    "reg = LinearRegression()\n",
    "reg2 = Lasso()\n",
    "reg3 = Ridge()\n",
    "reg4 = XGBRegressor()\n",
    "reg5 = LGBMRegressor()\n",
    "\n",
    "reg.fit(X_train, y_train)\n",
    "reg2.fit(X_train, y_train)\n",
    "reg3.fit(X_train, y_train)\n",
    "reg4.fit(X_train, y_train)\n",
    "reg5.fit(X_train, y_train)\n",
    "\n",
    "pred_train = reg.predict(X_train)\n",
    "pred_train2 = reg2.predict(X_train)\n",
    "pred_train3 = reg3.predict(X_train)\n",
    "pred_train4 = reg4.predict(X_train)\n",
    "pred_train5 = reg5.predict(X_train)\n",
    "\n",
    "pred_val = reg.predict(X_val)\n",
    "pred_val2 = reg2.predict(X_val)\n",
    "pred_val3 = reg3.predict(X_val)\n",
    "pred_val4 = reg4.predict(X_val)\n",
    "pred_val5 = reg5.predict(X_val)\n",
    "\n",
    "mse_train = mean_squared_error(y_train, pred_train)\n",
    "mse_val = mean_squared_error(y_val, pred_val)\n",
    "mse_train2 = mean_squared_error(y_train, pred_train2)\n",
    "mse_val2 = mean_squared_error(y_val, pred_val2)\n",
    "mse_train3 = mean_squared_error(y_train, pred_train3)\n",
    "mse_val3 = mean_squared_error(y_val, pred_val3)\n",
    "mse_train4 = mean_squared_error(y_train, pred_train4)\n",
    "mse_val4 = mean_squared_error(y_val, pred_val4)\n",
    "mse_train5 = mean_squared_error(y_train, pred_train5)\n",
    "mse_val5 = mean_squared_error(y_val, pred_val5)\n",
    "\n",
    "print(\"1. Linear Regression\\t, train = %.4f, val = %.4f\" %(mse_train, mse_val))\n",
    "print(\"2. Lasso\\t\\t, train = %.4f, val = %.4f\" %(mse_train2, mse_val2))\n",
    "print(\"3. Ridge\\t\\t, train = %.4f, val = %.4f\" %(mse_train3, mse_val3))\n",
    "print(\"4. XGBoost\\t\\t, train = %.4f, val = %.4f\" %(mse_train4, mse_val4))\n",
    "print(\"5. LightGBM\\t\\t, train = %.4f, val = %.4f\" %(mse_train5, mse_val5))"
   ]
  },
  {
   "cell_type": "code",
   "execution_count": 37,
   "metadata": {
    "ExecuteTime": {
     "end_time": "2022-06-03T03:33:24.537121Z",
     "start_time": "2022-06-03T03:33:20.629877Z"
    },
    "id": "IxLheBgTq9Dz"
   },
   "outputs": [
    {
     "name": "stdout",
     "output_type": "stream",
     "text": [
      "Fitting 5 folds for each of 12 candidates, totalling 60 fits\n",
      "[LightGBM] [Warning] Unknown parameter: learnig_rate\n",
      "[LightGBM] [Warning] Unknown parameter: learnig_rate\n",
      "[LightGBM] [Warning] Unknown parameter: learnig_rate\n",
      "[LightGBM] [Warning] Unknown parameter: learnig_rate\n",
      "[LightGBM] [Warning] Unknown parameter: learnig_rate\n",
      "[LightGBM] [Warning] Unknown parameter: learnig_rate\n",
      "[LightGBM] [Warning] Unknown parameter: learnig_rate\n",
      "[LightGBM] [Warning] Unknown parameter: learnig_rate\n",
      "[LightGBM] [Warning] Unknown parameter: learnig_rate\n",
      "[LightGBM] [Warning] Unknown parameter: learnig_rate\n",
      "[LightGBM] [Warning] Unknown parameter: learnig_rate\n",
      "[LightGBM] [Warning] Unknown parameter: learnig_rate\n",
      "[LightGBM] [Warning] Unknown parameter: learnig_rate\n",
      "[LightGBM] [Warning] Unknown parameter: learnig_rate\n",
      "[LightGBM] [Warning] Unknown parameter: learnig_rate\n",
      "[LightGBM] [Warning] Unknown parameter: learnig_rate\n",
      "[LightGBM] [Warning] Unknown parameter: learnig_rate\n",
      "[LightGBM] [Warning] Unknown parameter: learnig_rate\n",
      "[LightGBM] [Warning] Unknown parameter: learnig_rate\n",
      "[LightGBM] [Warning] Unknown parameter: learnig_rate\n",
      "[LightGBM] [Warning] Unknown parameter: learnig_rate\n",
      "[LightGBM] [Warning] Unknown parameter: learnig_rate\n",
      "[LightGBM] [Warning] Unknown parameter: learnig_rate\n",
      "[LightGBM] [Warning] Unknown parameter: learnig_rate\n",
      "[LightGBM] [Warning] Unknown parameter: learnig_rate\n",
      "[LightGBM] [Warning] Unknown parameter: learnig_rate\n",
      "[LightGBM] [Warning] Unknown parameter: learnig_rate\n",
      "[LightGBM] [Warning] Unknown parameter: learnig_rate\n",
      "[LightGBM] [Warning] Unknown parameter: learnig_rate\n",
      "[LightGBM] [Warning] Unknown parameter: learnig_rate\n",
      "[LightGBM] [Warning] Unknown parameter: learnig_rate\n",
      "[LightGBM] [Warning] Unknown parameter: learnig_rate\n",
      "[LightGBM] [Warning] Unknown parameter: learnig_rate\n",
      "[LightGBM] [Warning] Unknown parameter: learnig_rate\n",
      "[LightGBM] [Warning] Unknown parameter: learnig_rate\n",
      "[LightGBM] [Warning] Unknown parameter: learnig_rate\n",
      "[LightGBM] [Warning] Unknown parameter: learnig_rate\n",
      "[LightGBM] [Warning] Unknown parameter: learnig_rate\n",
      "[LightGBM] [Warning] Unknown parameter: learnig_rate\n",
      "[LightGBM] [Warning] Unknown parameter: learnig_rate\n",
      "[LightGBM] [Warning] Unknown parameter: learnig_rate\n",
      "[LightGBM] [Warning] Unknown parameter: learnig_rate\n",
      "[LightGBM] [Warning] Unknown parameter: learnig_rate\n",
      "[LightGBM] [Warning] Unknown parameter: learnig_rate\n",
      "[LightGBM] [Warning] Unknown parameter: learnig_rate\n",
      "[LightGBM] [Warning] Unknown parameter: learnig_rate\n",
      "[LightGBM] [Warning] Unknown parameter: learnig_rate\n",
      "[LightGBM] [Warning] Unknown parameter: learnig_rate\n",
      "[LightGBM] [Warning] Unknown parameter: learnig_rate\n",
      "[LightGBM] [Warning] Unknown parameter: learnig_rate\n",
      "[LightGBM] [Warning] Unknown parameter: learnig_rate\n",
      "[LightGBM] [Warning] Unknown parameter: learnig_rate\n",
      "[LightGBM] [Warning] Unknown parameter: learnig_rate\n",
      "[LightGBM] [Warning] Unknown parameter: learnig_rate\n",
      "[LightGBM] [Warning] Unknown parameter: learnig_rate\n",
      "[LightGBM] [Warning] Unknown parameter: learnig_rate\n",
      "[LightGBM] [Warning] Unknown parameter: learnig_rate\n",
      "[LightGBM] [Warning] Unknown parameter: learnig_rate\n",
      "[LightGBM] [Warning] Unknown parameter: learnig_rate\n",
      "[LightGBM] [Warning] Unknown parameter: learnig_rate\n",
      "LGBMRegressor(learnig_rate=0.1)\n",
      "{'learnig_rate': 0.1, 'max_depth': -1, 'n_estimators': 100}\n"
     ]
    }
   ],
   "source": [
    "# Hyper-parameter tuning\n",
    "## 1. Human Search\n",
    "## 2. GridSearchCV : 주어진 hp의 조합을 모두 돌려보는 방식.\n",
    "## 3. Bayesian Optimization(hyperopt, optuna, ...) : hyper-parameter를 최적화 하는 베이지안 방식을 사용\n",
    "\n",
    "# GridSearchCV\n",
    "from sklearn.model_selection import GridSearchCV\n",
    "\n",
    "param_grid = {\n",
    "    \"max_depth\" : [3, 5, -1], # 3 \n",
    "    \"learnig_rate\" : [0.1, 0.01], # 2\n",
    "    \"n_estimators\" : [50, 100] # 2\n",
    "}\n",
    "\n",
    "# 3 x 2 x 3 = 18\n",
    "\n",
    "gcv = GridSearchCV(reg5, param_grid, scoring=\"neg_mean_squared_error\", verbose=1) # verbose = 1 or 2\n",
    "gcv.fit(X_train, y_train)\n",
    "# print(gcv.cv_results_)\n",
    "print(gcv.best_estimator_)\n",
    "print(gcv.best_params_)"
   ]
  },
  {
   "cell_type": "markdown",
   "metadata": {
    "id": "R1BB6saVh2RH"
   },
   "source": [
    "### 5. Test(Prediction)"
   ]
  },
  {
   "cell_type": "code",
   "execution_count": null,
   "metadata": {
    "id": "mLmI82GfhO3t"
   },
   "outputs": [],
   "source": [
    "# training set과 같은 전처리!\n",
    "final_model = gcv.best_estimator_\n"
   ]
  },
  {
   "cell_type": "code",
   "execution_count": 30,
   "metadata": {
    "ExecuteTime": {
     "end_time": "2022-06-03T02:25:03.694772Z",
     "start_time": "2022-06-03T02:25:03.666623Z"
    },
    "id": "SEfjoFmsqpCU"
   },
   "outputs": [],
   "source": [
    "# prediction!\n",
    "\n",
    "result = reg.predict(X_test)\n",
    "result2 = reg2.predict(X_test)\n",
    "result3 = reg3.predict(X_test)\n",
    "result4 = reg4.predict(X_test)\n",
    "result5 = reg5.predict(X_test)"
   ]
  },
  {
   "cell_type": "code",
   "execution_count": 32,
   "metadata": {
    "ExecuteTime": {
     "end_time": "2022-06-03T02:26:13.539949Z",
     "start_time": "2022-06-03T02:26:13.531490Z"
    },
    "id": "BLd03jWrhdYX"
   },
   "outputs": [
    {
     "name": "stdout",
     "output_type": "stream",
     "text": [
      "---------- Linear Regression ---------\n",
      "MSE in training: 0.4888\n",
      "---------- Lasso ---------\n",
      "MSE in training: 1.3254\n",
      "---------- Ridge ---------\n",
      "MSE in training: 0.4888\n",
      "---------- XGBoost ---------\n",
      "MSE in training: 0.5504\n",
      "---------- LightGBM ---------\n",
      "MSE in training: 0.4451\n"
     ]
    }
   ],
   "source": [
    "# Summary!\n",
    "print(\"---------- Linear Regression ---------\")\n",
    "print('MSE in training: %.4f' % mean_squared_error(y_test, result))\n",
    "\n",
    "print(\"---------- Lasso ---------\")\n",
    "print('MSE in training: %.4f' % mean_squared_error(y_test, result2))\n",
    "\n",
    "print(\"---------- Ridge ---------\")\n",
    "print('MSE in training: %.4f' % mean_squared_error(y_test, result3))\n",
    "\n",
    "print(\"---------- XGBoost ---------\")\n",
    "print('MSE in training: %.4f' % mean_squared_error(y_test, result4))\n",
    "\n",
    "print(\"---------- LightGBM ---------\")\n",
    "print('MSE in training: %.4f' % mean_squared_error(y_test, result5))"
   ]
  }
 ],
 "metadata": {
  "colab": {
   "collapsed_sections": [],
   "name": "Chapter.04 Regression-06. Mini PJT. 캘리포니아 집값 예측(실습).ipynb",
   "provenance": []
  },
  "kernelspec": {
   "display_name": "Python 3 (ipykernel)",
   "language": "python",
   "name": "python3"
  },
  "language_info": {
   "codemirror_mode": {
    "name": "ipython",
    "version": 3
   },
   "file_extension": ".py",
   "mimetype": "text/x-python",
   "name": "python",
   "nbconvert_exporter": "python",
   "pygments_lexer": "ipython3",
   "version": "3.10.4"
  },
  "toc": {
   "base_numbering": 1,
   "nav_menu": {},
   "number_sections": true,
   "sideBar": true,
   "skip_h1_title": false,
   "title_cell": "Table of Contents",
   "title_sidebar": "Contents",
   "toc_cell": false,
   "toc_position": {},
   "toc_section_display": true,
   "toc_window_display": false
  }
 },
 "nbformat": 4,
 "nbformat_minor": 1
}
