{
 "cells": [
  {
   "cell_type": "markdown",
   "metadata": {},
   "source": [
    "[데이콘 전력 사용량 예측](https://dacon.io/competitions/official/235736/overview/description)"
   ]
  },
  {
   "cell_type": "markdown",
   "metadata": {
    "id": "cG3u05j23jAv"
   },
   "source": [
    "## 1. 라이브러리 및 데이터 불러오기"
   ]
  },
  {
   "cell_type": "code",
   "execution_count": null,
   "metadata": {
    "ExecuteTime": {
     "end_time": "2022-06-02T10:17:47.543002Z",
     "start_time": "2022-06-02T10:17:47.536935Z"
    },
    "colab": {
     "base_uri": "https://localhost:8080/"
    },
    "executionInfo": {
     "elapsed": 20957,
     "status": "ok",
     "timestamp": 1654164927739,
     "user": {
      "displayName": "김용담",
      "userId": "17630601608777393913"
     },
     "user_tz": -540
    },
    "id": "VlMujwkr6StT",
    "outputId": "d0f8a9fc-0d69-4689-a040-0596b443534b"
   },
   "outputs": [],
   "source": [
    "# from google.colab import drive\n",
    "# drive.mount('/content/drive')"
   ]
  },
  {
   "cell_type": "code",
   "execution_count": 38,
   "metadata": {
    "ExecuteTime": {
     "end_time": "2022-06-02T23:49:36.769189Z",
     "start_time": "2022-06-02T23:49:36.326008Z"
    },
    "scrolled": true
   },
   "outputs": [
    {
     "name": "stdout",
     "output_type": "stream",
     "text": [
      "\u001b[33mWARNING: Skipping lightgbm as it is not installed.\u001b[0m\u001b[33m\r\n",
      "\u001b[0m"
     ]
    }
   ],
   "source": []
  },
  {
   "cell_type": "code",
   "execution_count": 1,
   "metadata": {
    "ExecuteTime": {
     "end_time": "2022-06-03T00:21:16.654425Z",
     "start_time": "2022-06-03T00:21:13.231648Z"
    },
    "id": "c8yPT00h3jAy"
   },
   "outputs": [],
   "source": [
    "# 분석에 필요한 라이브러리를 불러옵니다.\n",
    "import pandas as pd\n",
    "import numpy as np\n",
    "import matplotlib.pyplot as plt \n",
    "import seaborn as sns\n",
    "import lightgbm\n",
    "\n",
    "base_path = \"./data/\""
   ]
  },
  {
   "cell_type": "code",
   "execution_count": 2,
   "metadata": {
    "ExecuteTime": {
     "end_time": "2022-06-03T00:21:18.796879Z",
     "start_time": "2022-06-03T00:21:18.686334Z"
    },
    "id": "CEA2XJLI3jAy"
   },
   "outputs": [],
   "source": [
    "train = pd.read_csv(base_path + \"train.csv\", encoding=\"cp949\")\n",
    "test = pd.read_csv(base_path + \"test.csv\", encoding=\"cp949\")\n",
    "submission = pd.read_csv(base_path + \"sample_submission.csv\")"
   ]
  },
  {
   "cell_type": "markdown",
   "metadata": {},
   "source": [
    "### column 별 설명 ( train data )\n",
    "\n",
    "- num : 건물 번호 ( 1 ~ 60 )\n",
    "\n",
    "- date_time : 시간 단위\n",
    "\n",
    "- 전력사용량(KWh) : 시간당 전력사용량 (target) -> Regresstion!\n",
    "\n",
    "- 기온, 풍속, 습도, 강수량, 일조 : 기상 정보 ( 시간 당 )\n",
    "\n",
    "- 비전기냉방설비운영, 태양광보유 : categorical feature (0/1) ( 건물 정보 )"
   ]
  },
  {
   "cell_type": "code",
   "execution_count": 3,
   "metadata": {
    "ExecuteTime": {
     "end_time": "2022-06-03T00:21:19.286646Z",
     "start_time": "2022-06-03T00:21:19.253308Z"
    },
    "id": "X4DBh6zW3jAz"
   },
   "outputs": [
    {
     "data": {
      "text/html": [
       "<div>\n",
       "<style scoped>\n",
       "    .dataframe tbody tr th:only-of-type {\n",
       "        vertical-align: middle;\n",
       "    }\n",
       "\n",
       "    .dataframe tbody tr th {\n",
       "        vertical-align: top;\n",
       "    }\n",
       "\n",
       "    .dataframe thead th {\n",
       "        text-align: right;\n",
       "    }\n",
       "</style>\n",
       "<table border=\"1\" class=\"dataframe\">\n",
       "  <thead>\n",
       "    <tr style=\"text-align: right;\">\n",
       "      <th></th>\n",
       "      <th>num</th>\n",
       "      <th>date_time</th>\n",
       "      <th>전력사용량(kWh)</th>\n",
       "      <th>기온(°C)</th>\n",
       "      <th>풍속(m/s)</th>\n",
       "      <th>습도(%)</th>\n",
       "      <th>강수량(mm)</th>\n",
       "      <th>일조(hr)</th>\n",
       "      <th>비전기냉방설비운영</th>\n",
       "      <th>태양광보유</th>\n",
       "    </tr>\n",
       "  </thead>\n",
       "  <tbody>\n",
       "    <tr>\n",
       "      <th>0</th>\n",
       "      <td>1</td>\n",
       "      <td>2020-06-01 00</td>\n",
       "      <td>8179.056</td>\n",
       "      <td>17.6</td>\n",
       "      <td>2.5</td>\n",
       "      <td>92.0</td>\n",
       "      <td>0.8</td>\n",
       "      <td>0.0</td>\n",
       "      <td>0.0</td>\n",
       "      <td>0.0</td>\n",
       "    </tr>\n",
       "    <tr>\n",
       "      <th>1</th>\n",
       "      <td>1</td>\n",
       "      <td>2020-06-01 01</td>\n",
       "      <td>8135.640</td>\n",
       "      <td>17.7</td>\n",
       "      <td>2.9</td>\n",
       "      <td>91.0</td>\n",
       "      <td>0.3</td>\n",
       "      <td>0.0</td>\n",
       "      <td>0.0</td>\n",
       "      <td>0.0</td>\n",
       "    </tr>\n",
       "    <tr>\n",
       "      <th>2</th>\n",
       "      <td>1</td>\n",
       "      <td>2020-06-01 02</td>\n",
       "      <td>8107.128</td>\n",
       "      <td>17.5</td>\n",
       "      <td>3.2</td>\n",
       "      <td>91.0</td>\n",
       "      <td>0.0</td>\n",
       "      <td>0.0</td>\n",
       "      <td>0.0</td>\n",
       "      <td>0.0</td>\n",
       "    </tr>\n",
       "    <tr>\n",
       "      <th>3</th>\n",
       "      <td>1</td>\n",
       "      <td>2020-06-01 03</td>\n",
       "      <td>8048.808</td>\n",
       "      <td>17.1</td>\n",
       "      <td>3.2</td>\n",
       "      <td>91.0</td>\n",
       "      <td>0.0</td>\n",
       "      <td>0.0</td>\n",
       "      <td>0.0</td>\n",
       "      <td>0.0</td>\n",
       "    </tr>\n",
       "    <tr>\n",
       "      <th>4</th>\n",
       "      <td>1</td>\n",
       "      <td>2020-06-01 04</td>\n",
       "      <td>8043.624</td>\n",
       "      <td>17.0</td>\n",
       "      <td>3.3</td>\n",
       "      <td>92.0</td>\n",
       "      <td>0.0</td>\n",
       "      <td>0.0</td>\n",
       "      <td>0.0</td>\n",
       "      <td>0.0</td>\n",
       "    </tr>\n",
       "    <tr>\n",
       "      <th>...</th>\n",
       "      <td>...</td>\n",
       "      <td>...</td>\n",
       "      <td>...</td>\n",
       "      <td>...</td>\n",
       "      <td>...</td>\n",
       "      <td>...</td>\n",
       "      <td>...</td>\n",
       "      <td>...</td>\n",
       "      <td>...</td>\n",
       "      <td>...</td>\n",
       "    </tr>\n",
       "    <tr>\n",
       "      <th>122395</th>\n",
       "      <td>60</td>\n",
       "      <td>2020-08-24 19</td>\n",
       "      <td>4114.368</td>\n",
       "      <td>27.8</td>\n",
       "      <td>2.3</td>\n",
       "      <td>68.0</td>\n",
       "      <td>0.0</td>\n",
       "      <td>0.7</td>\n",
       "      <td>1.0</td>\n",
       "      <td>1.0</td>\n",
       "    </tr>\n",
       "    <tr>\n",
       "      <th>122396</th>\n",
       "      <td>60</td>\n",
       "      <td>2020-08-24 20</td>\n",
       "      <td>3975.696</td>\n",
       "      <td>27.3</td>\n",
       "      <td>1.2</td>\n",
       "      <td>71.0</td>\n",
       "      <td>0.0</td>\n",
       "      <td>0.0</td>\n",
       "      <td>1.0</td>\n",
       "      <td>1.0</td>\n",
       "    </tr>\n",
       "    <tr>\n",
       "      <th>122397</th>\n",
       "      <td>60</td>\n",
       "      <td>2020-08-24 21</td>\n",
       "      <td>3572.208</td>\n",
       "      <td>27.3</td>\n",
       "      <td>1.8</td>\n",
       "      <td>71.0</td>\n",
       "      <td>0.0</td>\n",
       "      <td>0.0</td>\n",
       "      <td>1.0</td>\n",
       "      <td>1.0</td>\n",
       "    </tr>\n",
       "    <tr>\n",
       "      <th>122398</th>\n",
       "      <td>60</td>\n",
       "      <td>2020-08-24 22</td>\n",
       "      <td>3299.184</td>\n",
       "      <td>27.1</td>\n",
       "      <td>1.8</td>\n",
       "      <td>74.0</td>\n",
       "      <td>0.0</td>\n",
       "      <td>0.0</td>\n",
       "      <td>1.0</td>\n",
       "      <td>1.0</td>\n",
       "    </tr>\n",
       "    <tr>\n",
       "      <th>122399</th>\n",
       "      <td>60</td>\n",
       "      <td>2020-08-24 23</td>\n",
       "      <td>3204.576</td>\n",
       "      <td>27.1</td>\n",
       "      <td>2.6</td>\n",
       "      <td>75.0</td>\n",
       "      <td>0.0</td>\n",
       "      <td>0.0</td>\n",
       "      <td>1.0</td>\n",
       "      <td>1.0</td>\n",
       "    </tr>\n",
       "  </tbody>\n",
       "</table>\n",
       "<p>122400 rows × 10 columns</p>\n",
       "</div>"
      ],
      "text/plain": [
       "        num      date_time  전력사용량(kWh)  기온(°C)  풍속(m/s)  습도(%)  강수량(mm)  \\\n",
       "0         1  2020-06-01 00    8179.056    17.6      2.5   92.0      0.8   \n",
       "1         1  2020-06-01 01    8135.640    17.7      2.9   91.0      0.3   \n",
       "2         1  2020-06-01 02    8107.128    17.5      3.2   91.0      0.0   \n",
       "3         1  2020-06-01 03    8048.808    17.1      3.2   91.0      0.0   \n",
       "4         1  2020-06-01 04    8043.624    17.0      3.3   92.0      0.0   \n",
       "...     ...            ...         ...     ...      ...    ...      ...   \n",
       "122395   60  2020-08-24 19    4114.368    27.8      2.3   68.0      0.0   \n",
       "122396   60  2020-08-24 20    3975.696    27.3      1.2   71.0      0.0   \n",
       "122397   60  2020-08-24 21    3572.208    27.3      1.8   71.0      0.0   \n",
       "122398   60  2020-08-24 22    3299.184    27.1      1.8   74.0      0.0   \n",
       "122399   60  2020-08-24 23    3204.576    27.1      2.6   75.0      0.0   \n",
       "\n",
       "        일조(hr)  비전기냉방설비운영  태양광보유  \n",
       "0          0.0        0.0    0.0  \n",
       "1          0.0        0.0    0.0  \n",
       "2          0.0        0.0    0.0  \n",
       "3          0.0        0.0    0.0  \n",
       "4          0.0        0.0    0.0  \n",
       "...        ...        ...    ...  \n",
       "122395     0.7        1.0    1.0  \n",
       "122396     0.0        1.0    1.0  \n",
       "122397     0.0        1.0    1.0  \n",
       "122398     0.0        1.0    1.0  \n",
       "122399     0.0        1.0    1.0  \n",
       "\n",
       "[122400 rows x 10 columns]"
      ]
     },
     "execution_count": 3,
     "metadata": {},
     "output_type": "execute_result"
    }
   ],
   "source": [
    "#Q. 122400의 의미는?\n",
    "# 2020-06-01 ~ 2020-08-24 (85일), 24시간, 60개 건물\n",
    "# 85 X 60 X 24 = 122400\n",
    "train"
   ]
  },
  {
   "cell_type": "markdown",
   "metadata": {},
   "source": [
    "### column별 설명 (test data)\n",
    "\n",
    "- 기온, 풍속, 습도, 일조(hr, 3시간) : 3시간당 측정한 값.\n",
    "\n",
    "- 강수량(mm, 6시간) : 6시간당 측정한 값.\n",
    "\n",
    "- 비전기냉방설비운영, 태양광보유 : 건물 정보"
   ]
  },
  {
   "cell_type": "code",
   "execution_count": 4,
   "metadata": {
    "ExecuteTime": {
     "end_time": "2022-06-03T00:21:20.024575Z",
     "start_time": "2022-06-03T00:21:20.005550Z"
    },
    "id": "HNhX_STW3jAz"
   },
   "outputs": [
    {
     "name": "stdout",
     "output_type": "stream",
     "text": [
      "<class 'pandas.core.frame.DataFrame'>\n",
      "RangeIndex: 10080 entries, 0 to 10079\n",
      "Data columns (total 9 columns):\n",
      " #   Column        Non-Null Count  Dtype  \n",
      "---  ------        --------------  -----  \n",
      " 0   num           10080 non-null  int64  \n",
      " 1   date_time     10080 non-null  object \n",
      " 2   기온(°C)        3360 non-null   float64\n",
      " 3   풍속(m/s)       3360 non-null   float64\n",
      " 4   습도(%)         3360 non-null   float64\n",
      " 5   강수량(mm, 6시간)  1680 non-null   float64\n",
      " 6   일조(hr, 3시간)   3360 non-null   float64\n",
      " 7   비전기냉방설비운영     2296 non-null   float64\n",
      " 8   태양광보유         1624 non-null   float64\n",
      "dtypes: float64(7), int64(1), object(1)\n",
      "memory usage: 708.9+ KB\n"
     ]
    }
   ],
   "source": [
    "# Q. 10080은?\n",
    "# 10080 = 7 X 24 X 60\n",
    "test.info()"
   ]
  },
  {
   "cell_type": "code",
   "execution_count": 5,
   "metadata": {
    "ExecuteTime": {
     "end_time": "2022-06-03T00:21:20.295228Z",
     "start_time": "2022-06-03T00:21:20.288727Z"
    },
    "id": "VetQPqyI3jAz"
   },
   "outputs": [],
   "source": [
    "# column 이름 변경\n",
    "train.columns = [\"num\", \"date_time\", \"target\", \"temperature\",\n",
    "                \"windspeed\", \"humidity\", \"precipitation\",\n",
    "                \"insolation\", \"nelec_cool_flag\", \"solar_flag\"]\n",
    "test.columns = [\"num\", \"date_time\", \"temperature\",\n",
    "                \"windspeed\", \"humidity\", \"precipitation\",\n",
    "                \"insolation\", \"nelec_cool_flag\", \"solar_flag\"]"
   ]
  },
  {
   "cell_type": "markdown",
   "metadata": {
    "id": "7cPPx-ii3jA0"
   },
   "source": [
    "## 2. 데이터 전처리\n",
    "\n",
    "데이터 전처리할 때, 무조건 해야하는 것. **(No optional)**\n",
    "\n",
    "- 결측치 처리 : 결측치를 채우거나, 지우거나해서 없애야한다.\n",
    "\n",
    "- Categoriacl feature 처리 : object형 column은 무조건 숫자로 변환."
   ]
  },
  {
   "cell_type": "markdown",
   "metadata": {
    "id": "Av9Wnucy3jA0"
   },
   "source": [
    "### 2-1. 결측치 처리"
   ]
  },
  {
   "cell_type": "markdown",
   "metadata": {
    "id": "TZmiuLwS3jA0"
   },
   "source": [
    "#### 건물 정보"
   ]
  },
  {
   "cell_type": "code",
   "execution_count": 6,
   "metadata": {
    "ExecuteTime": {
     "end_time": "2022-06-03T00:21:21.976976Z",
     "start_time": "2022-06-03T00:21:21.940673Z"
    },
    "id": "cHUeXrv13jA1"
   },
   "outputs": [
    {
     "data": {
      "text/html": [
       "<div>\n",
       "<style scoped>\n",
       "    .dataframe tbody tr th:only-of-type {\n",
       "        vertical-align: middle;\n",
       "    }\n",
       "\n",
       "    .dataframe tbody tr th {\n",
       "        vertical-align: top;\n",
       "    }\n",
       "\n",
       "    .dataframe thead th {\n",
       "        text-align: right;\n",
       "    }\n",
       "</style>\n",
       "<table border=\"1\" class=\"dataframe\">\n",
       "  <thead>\n",
       "    <tr style=\"text-align: right;\">\n",
       "      <th></th>\n",
       "      <th>num</th>\n",
       "      <th>nelec_cool_flag</th>\n",
       "      <th>solar_flag</th>\n",
       "    </tr>\n",
       "  </thead>\n",
       "  <tbody>\n",
       "    <tr>\n",
       "      <th>0</th>\n",
       "      <td>1</td>\n",
       "      <td>0.0</td>\n",
       "      <td>0.0</td>\n",
       "    </tr>\n",
       "    <tr>\n",
       "      <th>2040</th>\n",
       "      <td>2</td>\n",
       "      <td>1.0</td>\n",
       "      <td>0.0</td>\n",
       "    </tr>\n",
       "    <tr>\n",
       "      <th>4080</th>\n",
       "      <td>3</td>\n",
       "      <td>1.0</td>\n",
       "      <td>1.0</td>\n",
       "    </tr>\n",
       "    <tr>\n",
       "      <th>6120</th>\n",
       "      <td>4</td>\n",
       "      <td>1.0</td>\n",
       "      <td>1.0</td>\n",
       "    </tr>\n",
       "    <tr>\n",
       "      <th>8160</th>\n",
       "      <td>5</td>\n",
       "      <td>1.0</td>\n",
       "      <td>0.0</td>\n",
       "    </tr>\n",
       "    <tr>\n",
       "      <th>10200</th>\n",
       "      <td>6</td>\n",
       "      <td>0.0</td>\n",
       "      <td>0.0</td>\n",
       "    </tr>\n",
       "    <tr>\n",
       "      <th>12240</th>\n",
       "      <td>7</td>\n",
       "      <td>1.0</td>\n",
       "      <td>0.0</td>\n",
       "    </tr>\n",
       "    <tr>\n",
       "      <th>14280</th>\n",
       "      <td>8</td>\n",
       "      <td>1.0</td>\n",
       "      <td>1.0</td>\n",
       "    </tr>\n",
       "    <tr>\n",
       "      <th>16320</th>\n",
       "      <td>9</td>\n",
       "      <td>0.0</td>\n",
       "      <td>1.0</td>\n",
       "    </tr>\n",
       "    <tr>\n",
       "      <th>18360</th>\n",
       "      <td>10</td>\n",
       "      <td>1.0</td>\n",
       "      <td>0.0</td>\n",
       "    </tr>\n",
       "    <tr>\n",
       "      <th>20400</th>\n",
       "      <td>11</td>\n",
       "      <td>0.0</td>\n",
       "      <td>0.0</td>\n",
       "    </tr>\n",
       "    <tr>\n",
       "      <th>22440</th>\n",
       "      <td>12</td>\n",
       "      <td>1.0</td>\n",
       "      <td>1.0</td>\n",
       "    </tr>\n",
       "    <tr>\n",
       "      <th>24480</th>\n",
       "      <td>13</td>\n",
       "      <td>1.0</td>\n",
       "      <td>0.0</td>\n",
       "    </tr>\n",
       "    <tr>\n",
       "      <th>26520</th>\n",
       "      <td>14</td>\n",
       "      <td>1.0</td>\n",
       "      <td>1.0</td>\n",
       "    </tr>\n",
       "    <tr>\n",
       "      <th>28560</th>\n",
       "      <td>15</td>\n",
       "      <td>1.0</td>\n",
       "      <td>0.0</td>\n",
       "    </tr>\n",
       "    <tr>\n",
       "      <th>30600</th>\n",
       "      <td>16</td>\n",
       "      <td>1.0</td>\n",
       "      <td>1.0</td>\n",
       "    </tr>\n",
       "    <tr>\n",
       "      <th>32640</th>\n",
       "      <td>17</td>\n",
       "      <td>1.0</td>\n",
       "      <td>0.0</td>\n",
       "    </tr>\n",
       "    <tr>\n",
       "      <th>34680</th>\n",
       "      <td>18</td>\n",
       "      <td>0.0</td>\n",
       "      <td>0.0</td>\n",
       "    </tr>\n",
       "    <tr>\n",
       "      <th>36720</th>\n",
       "      <td>19</td>\n",
       "      <td>0.0</td>\n",
       "      <td>0.0</td>\n",
       "    </tr>\n",
       "    <tr>\n",
       "      <th>38760</th>\n",
       "      <td>20</td>\n",
       "      <td>0.0</td>\n",
       "      <td>0.0</td>\n",
       "    </tr>\n",
       "    <tr>\n",
       "      <th>40800</th>\n",
       "      <td>21</td>\n",
       "      <td>0.0</td>\n",
       "      <td>1.0</td>\n",
       "    </tr>\n",
       "    <tr>\n",
       "      <th>42840</th>\n",
       "      <td>22</td>\n",
       "      <td>1.0</td>\n",
       "      <td>0.0</td>\n",
       "    </tr>\n",
       "    <tr>\n",
       "      <th>44880</th>\n",
       "      <td>23</td>\n",
       "      <td>0.0</td>\n",
       "      <td>1.0</td>\n",
       "    </tr>\n",
       "    <tr>\n",
       "      <th>46920</th>\n",
       "      <td>24</td>\n",
       "      <td>1.0</td>\n",
       "      <td>1.0</td>\n",
       "    </tr>\n",
       "    <tr>\n",
       "      <th>48960</th>\n",
       "      <td>25</td>\n",
       "      <td>1.0</td>\n",
       "      <td>0.0</td>\n",
       "    </tr>\n",
       "    <tr>\n",
       "      <th>51000</th>\n",
       "      <td>26</td>\n",
       "      <td>0.0</td>\n",
       "      <td>1.0</td>\n",
       "    </tr>\n",
       "    <tr>\n",
       "      <th>53040</th>\n",
       "      <td>27</td>\n",
       "      <td>1.0</td>\n",
       "      <td>1.0</td>\n",
       "    </tr>\n",
       "    <tr>\n",
       "      <th>55080</th>\n",
       "      <td>28</td>\n",
       "      <td>1.0</td>\n",
       "      <td>0.0</td>\n",
       "    </tr>\n",
       "    <tr>\n",
       "      <th>57120</th>\n",
       "      <td>29</td>\n",
       "      <td>0.0</td>\n",
       "      <td>0.0</td>\n",
       "    </tr>\n",
       "    <tr>\n",
       "      <th>59160</th>\n",
       "      <td>30</td>\n",
       "      <td>1.0</td>\n",
       "      <td>1.0</td>\n",
       "    </tr>\n",
       "    <tr>\n",
       "      <th>61200</th>\n",
       "      <td>31</td>\n",
       "      <td>1.0</td>\n",
       "      <td>0.0</td>\n",
       "    </tr>\n",
       "    <tr>\n",
       "      <th>63240</th>\n",
       "      <td>32</td>\n",
       "      <td>0.0</td>\n",
       "      <td>0.0</td>\n",
       "    </tr>\n",
       "    <tr>\n",
       "      <th>65280</th>\n",
       "      <td>33</td>\n",
       "      <td>1.0</td>\n",
       "      <td>0.0</td>\n",
       "    </tr>\n",
       "    <tr>\n",
       "      <th>67320</th>\n",
       "      <td>34</td>\n",
       "      <td>1.0</td>\n",
       "      <td>1.0</td>\n",
       "    </tr>\n",
       "    <tr>\n",
       "      <th>69360</th>\n",
       "      <td>35</td>\n",
       "      <td>1.0</td>\n",
       "      <td>0.0</td>\n",
       "    </tr>\n",
       "    <tr>\n",
       "      <th>71400</th>\n",
       "      <td>36</td>\n",
       "      <td>0.0</td>\n",
       "      <td>1.0</td>\n",
       "    </tr>\n",
       "    <tr>\n",
       "      <th>73440</th>\n",
       "      <td>37</td>\n",
       "      <td>1.0</td>\n",
       "      <td>1.0</td>\n",
       "    </tr>\n",
       "    <tr>\n",
       "      <th>75480</th>\n",
       "      <td>38</td>\n",
       "      <td>1.0</td>\n",
       "      <td>1.0</td>\n",
       "    </tr>\n",
       "    <tr>\n",
       "      <th>77520</th>\n",
       "      <td>39</td>\n",
       "      <td>1.0</td>\n",
       "      <td>1.0</td>\n",
       "    </tr>\n",
       "    <tr>\n",
       "      <th>79560</th>\n",
       "      <td>40</td>\n",
       "      <td>1.0</td>\n",
       "      <td>1.0</td>\n",
       "    </tr>\n",
       "    <tr>\n",
       "      <th>81600</th>\n",
       "      <td>41</td>\n",
       "      <td>1.0</td>\n",
       "      <td>0.0</td>\n",
       "    </tr>\n",
       "    <tr>\n",
       "      <th>83640</th>\n",
       "      <td>42</td>\n",
       "      <td>1.0</td>\n",
       "      <td>1.0</td>\n",
       "    </tr>\n",
       "    <tr>\n",
       "      <th>85680</th>\n",
       "      <td>43</td>\n",
       "      <td>1.0</td>\n",
       "      <td>1.0</td>\n",
       "    </tr>\n",
       "    <tr>\n",
       "      <th>87720</th>\n",
       "      <td>44</td>\n",
       "      <td>1.0</td>\n",
       "      <td>1.0</td>\n",
       "    </tr>\n",
       "    <tr>\n",
       "      <th>89760</th>\n",
       "      <td>45</td>\n",
       "      <td>0.0</td>\n",
       "      <td>1.0</td>\n",
       "    </tr>\n",
       "    <tr>\n",
       "      <th>91800</th>\n",
       "      <td>46</td>\n",
       "      <td>1.0</td>\n",
       "      <td>0.0</td>\n",
       "    </tr>\n",
       "    <tr>\n",
       "      <th>93840</th>\n",
       "      <td>47</td>\n",
       "      <td>1.0</td>\n",
       "      <td>1.0</td>\n",
       "    </tr>\n",
       "    <tr>\n",
       "      <th>95880</th>\n",
       "      <td>48</td>\n",
       "      <td>0.0</td>\n",
       "      <td>0.0</td>\n",
       "    </tr>\n",
       "    <tr>\n",
       "      <th>97920</th>\n",
       "      <td>49</td>\n",
       "      <td>0.0</td>\n",
       "      <td>0.0</td>\n",
       "    </tr>\n",
       "    <tr>\n",
       "      <th>99960</th>\n",
       "      <td>50</td>\n",
       "      <td>0.0</td>\n",
       "      <td>0.0</td>\n",
       "    </tr>\n",
       "    <tr>\n",
       "      <th>102000</th>\n",
       "      <td>51</td>\n",
       "      <td>0.0</td>\n",
       "      <td>1.0</td>\n",
       "    </tr>\n",
       "    <tr>\n",
       "      <th>104040</th>\n",
       "      <td>52</td>\n",
       "      <td>1.0</td>\n",
       "      <td>1.0</td>\n",
       "    </tr>\n",
       "    <tr>\n",
       "      <th>106080</th>\n",
       "      <td>53</td>\n",
       "      <td>1.0</td>\n",
       "      <td>0.0</td>\n",
       "    </tr>\n",
       "    <tr>\n",
       "      <th>108120</th>\n",
       "      <td>54</td>\n",
       "      <td>1.0</td>\n",
       "      <td>0.0</td>\n",
       "    </tr>\n",
       "    <tr>\n",
       "      <th>110160</th>\n",
       "      <td>55</td>\n",
       "      <td>1.0</td>\n",
       "      <td>1.0</td>\n",
       "    </tr>\n",
       "    <tr>\n",
       "      <th>112200</th>\n",
       "      <td>56</td>\n",
       "      <td>0.0</td>\n",
       "      <td>1.0</td>\n",
       "    </tr>\n",
       "    <tr>\n",
       "      <th>114240</th>\n",
       "      <td>57</td>\n",
       "      <td>1.0</td>\n",
       "      <td>0.0</td>\n",
       "    </tr>\n",
       "    <tr>\n",
       "      <th>116280</th>\n",
       "      <td>58</td>\n",
       "      <td>1.0</td>\n",
       "      <td>0.0</td>\n",
       "    </tr>\n",
       "    <tr>\n",
       "      <th>118320</th>\n",
       "      <td>59</td>\n",
       "      <td>1.0</td>\n",
       "      <td>0.0</td>\n",
       "    </tr>\n",
       "    <tr>\n",
       "      <th>120360</th>\n",
       "      <td>60</td>\n",
       "      <td>1.0</td>\n",
       "      <td>1.0</td>\n",
       "    </tr>\n",
       "  </tbody>\n",
       "</table>\n",
       "</div>"
      ],
      "text/plain": [
       "        num  nelec_cool_flag  solar_flag\n",
       "0         1              0.0         0.0\n",
       "2040      2              1.0         0.0\n",
       "4080      3              1.0         1.0\n",
       "6120      4              1.0         1.0\n",
       "8160      5              1.0         0.0\n",
       "10200     6              0.0         0.0\n",
       "12240     7              1.0         0.0\n",
       "14280     8              1.0         1.0\n",
       "16320     9              0.0         1.0\n",
       "18360    10              1.0         0.0\n",
       "20400    11              0.0         0.0\n",
       "22440    12              1.0         1.0\n",
       "24480    13              1.0         0.0\n",
       "26520    14              1.0         1.0\n",
       "28560    15              1.0         0.0\n",
       "30600    16              1.0         1.0\n",
       "32640    17              1.0         0.0\n",
       "34680    18              0.0         0.0\n",
       "36720    19              0.0         0.0\n",
       "38760    20              0.0         0.0\n",
       "40800    21              0.0         1.0\n",
       "42840    22              1.0         0.0\n",
       "44880    23              0.0         1.0\n",
       "46920    24              1.0         1.0\n",
       "48960    25              1.0         0.0\n",
       "51000    26              0.0         1.0\n",
       "53040    27              1.0         1.0\n",
       "55080    28              1.0         0.0\n",
       "57120    29              0.0         0.0\n",
       "59160    30              1.0         1.0\n",
       "61200    31              1.0         0.0\n",
       "63240    32              0.0         0.0\n",
       "65280    33              1.0         0.0\n",
       "67320    34              1.0         1.0\n",
       "69360    35              1.0         0.0\n",
       "71400    36              0.0         1.0\n",
       "73440    37              1.0         1.0\n",
       "75480    38              1.0         1.0\n",
       "77520    39              1.0         1.0\n",
       "79560    40              1.0         1.0\n",
       "81600    41              1.0         0.0\n",
       "83640    42              1.0         1.0\n",
       "85680    43              1.0         1.0\n",
       "87720    44              1.0         1.0\n",
       "89760    45              0.0         1.0\n",
       "91800    46              1.0         0.0\n",
       "93840    47              1.0         1.0\n",
       "95880    48              0.0         0.0\n",
       "97920    49              0.0         0.0\n",
       "99960    50              0.0         0.0\n",
       "102000   51              0.0         1.0\n",
       "104040   52              1.0         1.0\n",
       "106080   53              1.0         0.0\n",
       "108120   54              1.0         0.0\n",
       "110160   55              1.0         1.0\n",
       "112200   56              0.0         1.0\n",
       "114240   57              1.0         0.0\n",
       "116280   58              1.0         0.0\n",
       "118320   59              1.0         0.0\n",
       "120360   60              1.0         1.0"
      ]
     },
     "execution_count": 6,
     "metadata": {},
     "output_type": "execute_result"
    }
   ],
   "source": [
    "#건물별로 '비전기냉방설비운영'과 '태양광보유'를 판단해 test set의 결측치를 보간해줍니다\n",
    "train[[\"num\", \"nelec_cool_flag\", \"solar_flag\"]].drop_duplicates()\n",
    "# 건물별로 정보가 똑같다."
   ]
  },
  {
   "cell_type": "markdown",
   "metadata": {
    "id": "4fVQH6s23jA1"
   },
   "source": [
    "### 좀 더 스마트한 방법으로 채워보기! "
   ]
  },
  {
   "cell_type": "code",
   "execution_count": 7,
   "metadata": {
    "ExecuteTime": {
     "end_time": "2022-06-03T00:21:22.710793Z",
     "start_time": "2022-06-03T00:21:22.677260Z"
    },
    "id": "NsLMNw4c3jA1"
   },
   "outputs": [
    {
     "data": {
      "text/html": [
       "<div>\n",
       "<style scoped>\n",
       "    .dataframe tbody tr th:only-of-type {\n",
       "        vertical-align: middle;\n",
       "    }\n",
       "\n",
       "    .dataframe tbody tr th {\n",
       "        vertical-align: top;\n",
       "    }\n",
       "\n",
       "    .dataframe thead th {\n",
       "        text-align: right;\n",
       "    }\n",
       "</style>\n",
       "<table border=\"1\" class=\"dataframe\">\n",
       "  <thead>\n",
       "    <tr style=\"text-align: right;\">\n",
       "      <th></th>\n",
       "      <th>num</th>\n",
       "      <th>nelec_cool_flag</th>\n",
       "      <th>solar_flag</th>\n",
       "    </tr>\n",
       "  </thead>\n",
       "  <tbody>\n",
       "    <tr>\n",
       "      <th>0</th>\n",
       "      <td>1</td>\n",
       "      <td>0.0</td>\n",
       "      <td>0.0</td>\n",
       "    </tr>\n",
       "    <tr>\n",
       "      <th>2040</th>\n",
       "      <td>2</td>\n",
       "      <td>1.0</td>\n",
       "      <td>0.0</td>\n",
       "    </tr>\n",
       "    <tr>\n",
       "      <th>4080</th>\n",
       "      <td>3</td>\n",
       "      <td>1.0</td>\n",
       "      <td>1.0</td>\n",
       "    </tr>\n",
       "    <tr>\n",
       "      <th>6120</th>\n",
       "      <td>4</td>\n",
       "      <td>1.0</td>\n",
       "      <td>1.0</td>\n",
       "    </tr>\n",
       "    <tr>\n",
       "      <th>8160</th>\n",
       "      <td>5</td>\n",
       "      <td>1.0</td>\n",
       "      <td>0.0</td>\n",
       "    </tr>\n",
       "    <tr>\n",
       "      <th>10200</th>\n",
       "      <td>6</td>\n",
       "      <td>0.0</td>\n",
       "      <td>0.0</td>\n",
       "    </tr>\n",
       "    <tr>\n",
       "      <th>12240</th>\n",
       "      <td>7</td>\n",
       "      <td>1.0</td>\n",
       "      <td>0.0</td>\n",
       "    </tr>\n",
       "    <tr>\n",
       "      <th>14280</th>\n",
       "      <td>8</td>\n",
       "      <td>1.0</td>\n",
       "      <td>1.0</td>\n",
       "    </tr>\n",
       "    <tr>\n",
       "      <th>16320</th>\n",
       "      <td>9</td>\n",
       "      <td>0.0</td>\n",
       "      <td>1.0</td>\n",
       "    </tr>\n",
       "    <tr>\n",
       "      <th>18360</th>\n",
       "      <td>10</td>\n",
       "      <td>1.0</td>\n",
       "      <td>0.0</td>\n",
       "    </tr>\n",
       "    <tr>\n",
       "      <th>20400</th>\n",
       "      <td>11</td>\n",
       "      <td>0.0</td>\n",
       "      <td>0.0</td>\n",
       "    </tr>\n",
       "    <tr>\n",
       "      <th>22440</th>\n",
       "      <td>12</td>\n",
       "      <td>1.0</td>\n",
       "      <td>1.0</td>\n",
       "    </tr>\n",
       "    <tr>\n",
       "      <th>24480</th>\n",
       "      <td>13</td>\n",
       "      <td>1.0</td>\n",
       "      <td>0.0</td>\n",
       "    </tr>\n",
       "    <tr>\n",
       "      <th>26520</th>\n",
       "      <td>14</td>\n",
       "      <td>1.0</td>\n",
       "      <td>1.0</td>\n",
       "    </tr>\n",
       "    <tr>\n",
       "      <th>28560</th>\n",
       "      <td>15</td>\n",
       "      <td>1.0</td>\n",
       "      <td>0.0</td>\n",
       "    </tr>\n",
       "    <tr>\n",
       "      <th>30600</th>\n",
       "      <td>16</td>\n",
       "      <td>1.0</td>\n",
       "      <td>1.0</td>\n",
       "    </tr>\n",
       "    <tr>\n",
       "      <th>32640</th>\n",
       "      <td>17</td>\n",
       "      <td>1.0</td>\n",
       "      <td>0.0</td>\n",
       "    </tr>\n",
       "    <tr>\n",
       "      <th>34680</th>\n",
       "      <td>18</td>\n",
       "      <td>0.0</td>\n",
       "      <td>0.0</td>\n",
       "    </tr>\n",
       "    <tr>\n",
       "      <th>36720</th>\n",
       "      <td>19</td>\n",
       "      <td>0.0</td>\n",
       "      <td>0.0</td>\n",
       "    </tr>\n",
       "    <tr>\n",
       "      <th>38760</th>\n",
       "      <td>20</td>\n",
       "      <td>0.0</td>\n",
       "      <td>0.0</td>\n",
       "    </tr>\n",
       "    <tr>\n",
       "      <th>40800</th>\n",
       "      <td>21</td>\n",
       "      <td>0.0</td>\n",
       "      <td>1.0</td>\n",
       "    </tr>\n",
       "    <tr>\n",
       "      <th>42840</th>\n",
       "      <td>22</td>\n",
       "      <td>1.0</td>\n",
       "      <td>0.0</td>\n",
       "    </tr>\n",
       "    <tr>\n",
       "      <th>44880</th>\n",
       "      <td>23</td>\n",
       "      <td>0.0</td>\n",
       "      <td>1.0</td>\n",
       "    </tr>\n",
       "    <tr>\n",
       "      <th>46920</th>\n",
       "      <td>24</td>\n",
       "      <td>1.0</td>\n",
       "      <td>1.0</td>\n",
       "    </tr>\n",
       "    <tr>\n",
       "      <th>48960</th>\n",
       "      <td>25</td>\n",
       "      <td>1.0</td>\n",
       "      <td>0.0</td>\n",
       "    </tr>\n",
       "    <tr>\n",
       "      <th>51000</th>\n",
       "      <td>26</td>\n",
       "      <td>0.0</td>\n",
       "      <td>1.0</td>\n",
       "    </tr>\n",
       "    <tr>\n",
       "      <th>53040</th>\n",
       "      <td>27</td>\n",
       "      <td>1.0</td>\n",
       "      <td>1.0</td>\n",
       "    </tr>\n",
       "    <tr>\n",
       "      <th>55080</th>\n",
       "      <td>28</td>\n",
       "      <td>1.0</td>\n",
       "      <td>0.0</td>\n",
       "    </tr>\n",
       "    <tr>\n",
       "      <th>57120</th>\n",
       "      <td>29</td>\n",
       "      <td>0.0</td>\n",
       "      <td>0.0</td>\n",
       "    </tr>\n",
       "    <tr>\n",
       "      <th>59160</th>\n",
       "      <td>30</td>\n",
       "      <td>1.0</td>\n",
       "      <td>1.0</td>\n",
       "    </tr>\n",
       "    <tr>\n",
       "      <th>61200</th>\n",
       "      <td>31</td>\n",
       "      <td>1.0</td>\n",
       "      <td>0.0</td>\n",
       "    </tr>\n",
       "    <tr>\n",
       "      <th>63240</th>\n",
       "      <td>32</td>\n",
       "      <td>0.0</td>\n",
       "      <td>0.0</td>\n",
       "    </tr>\n",
       "    <tr>\n",
       "      <th>65280</th>\n",
       "      <td>33</td>\n",
       "      <td>1.0</td>\n",
       "      <td>0.0</td>\n",
       "    </tr>\n",
       "    <tr>\n",
       "      <th>67320</th>\n",
       "      <td>34</td>\n",
       "      <td>1.0</td>\n",
       "      <td>1.0</td>\n",
       "    </tr>\n",
       "    <tr>\n",
       "      <th>69360</th>\n",
       "      <td>35</td>\n",
       "      <td>1.0</td>\n",
       "      <td>0.0</td>\n",
       "    </tr>\n",
       "    <tr>\n",
       "      <th>71400</th>\n",
       "      <td>36</td>\n",
       "      <td>0.0</td>\n",
       "      <td>1.0</td>\n",
       "    </tr>\n",
       "    <tr>\n",
       "      <th>73440</th>\n",
       "      <td>37</td>\n",
       "      <td>1.0</td>\n",
       "      <td>1.0</td>\n",
       "    </tr>\n",
       "    <tr>\n",
       "      <th>75480</th>\n",
       "      <td>38</td>\n",
       "      <td>1.0</td>\n",
       "      <td>1.0</td>\n",
       "    </tr>\n",
       "    <tr>\n",
       "      <th>77520</th>\n",
       "      <td>39</td>\n",
       "      <td>1.0</td>\n",
       "      <td>1.0</td>\n",
       "    </tr>\n",
       "    <tr>\n",
       "      <th>79560</th>\n",
       "      <td>40</td>\n",
       "      <td>1.0</td>\n",
       "      <td>1.0</td>\n",
       "    </tr>\n",
       "    <tr>\n",
       "      <th>81600</th>\n",
       "      <td>41</td>\n",
       "      <td>1.0</td>\n",
       "      <td>0.0</td>\n",
       "    </tr>\n",
       "    <tr>\n",
       "      <th>83640</th>\n",
       "      <td>42</td>\n",
       "      <td>1.0</td>\n",
       "      <td>1.0</td>\n",
       "    </tr>\n",
       "    <tr>\n",
       "      <th>85680</th>\n",
       "      <td>43</td>\n",
       "      <td>1.0</td>\n",
       "      <td>1.0</td>\n",
       "    </tr>\n",
       "    <tr>\n",
       "      <th>87720</th>\n",
       "      <td>44</td>\n",
       "      <td>1.0</td>\n",
       "      <td>1.0</td>\n",
       "    </tr>\n",
       "    <tr>\n",
       "      <th>89760</th>\n",
       "      <td>45</td>\n",
       "      <td>0.0</td>\n",
       "      <td>1.0</td>\n",
       "    </tr>\n",
       "    <tr>\n",
       "      <th>91800</th>\n",
       "      <td>46</td>\n",
       "      <td>1.0</td>\n",
       "      <td>0.0</td>\n",
       "    </tr>\n",
       "    <tr>\n",
       "      <th>93840</th>\n",
       "      <td>47</td>\n",
       "      <td>1.0</td>\n",
       "      <td>1.0</td>\n",
       "    </tr>\n",
       "    <tr>\n",
       "      <th>95880</th>\n",
       "      <td>48</td>\n",
       "      <td>0.0</td>\n",
       "      <td>0.0</td>\n",
       "    </tr>\n",
       "    <tr>\n",
       "      <th>97920</th>\n",
       "      <td>49</td>\n",
       "      <td>0.0</td>\n",
       "      <td>0.0</td>\n",
       "    </tr>\n",
       "    <tr>\n",
       "      <th>99960</th>\n",
       "      <td>50</td>\n",
       "      <td>0.0</td>\n",
       "      <td>0.0</td>\n",
       "    </tr>\n",
       "    <tr>\n",
       "      <th>102000</th>\n",
       "      <td>51</td>\n",
       "      <td>0.0</td>\n",
       "      <td>1.0</td>\n",
       "    </tr>\n",
       "    <tr>\n",
       "      <th>104040</th>\n",
       "      <td>52</td>\n",
       "      <td>1.0</td>\n",
       "      <td>1.0</td>\n",
       "    </tr>\n",
       "    <tr>\n",
       "      <th>106080</th>\n",
       "      <td>53</td>\n",
       "      <td>1.0</td>\n",
       "      <td>0.0</td>\n",
       "    </tr>\n",
       "    <tr>\n",
       "      <th>108120</th>\n",
       "      <td>54</td>\n",
       "      <td>1.0</td>\n",
       "      <td>0.0</td>\n",
       "    </tr>\n",
       "    <tr>\n",
       "      <th>110160</th>\n",
       "      <td>55</td>\n",
       "      <td>1.0</td>\n",
       "      <td>1.0</td>\n",
       "    </tr>\n",
       "    <tr>\n",
       "      <th>112200</th>\n",
       "      <td>56</td>\n",
       "      <td>0.0</td>\n",
       "      <td>1.0</td>\n",
       "    </tr>\n",
       "    <tr>\n",
       "      <th>114240</th>\n",
       "      <td>57</td>\n",
       "      <td>1.0</td>\n",
       "      <td>0.0</td>\n",
       "    </tr>\n",
       "    <tr>\n",
       "      <th>116280</th>\n",
       "      <td>58</td>\n",
       "      <td>1.0</td>\n",
       "      <td>0.0</td>\n",
       "    </tr>\n",
       "    <tr>\n",
       "      <th>118320</th>\n",
       "      <td>59</td>\n",
       "      <td>1.0</td>\n",
       "      <td>0.0</td>\n",
       "    </tr>\n",
       "    <tr>\n",
       "      <th>120360</th>\n",
       "      <td>60</td>\n",
       "      <td>1.0</td>\n",
       "      <td>1.0</td>\n",
       "    </tr>\n",
       "  </tbody>\n",
       "</table>\n",
       "</div>"
      ],
      "text/plain": [
       "        num  nelec_cool_flag  solar_flag\n",
       "0         1              0.0         0.0\n",
       "2040      2              1.0         0.0\n",
       "4080      3              1.0         1.0\n",
       "6120      4              1.0         1.0\n",
       "8160      5              1.0         0.0\n",
       "10200     6              0.0         0.0\n",
       "12240     7              1.0         0.0\n",
       "14280     8              1.0         1.0\n",
       "16320     9              0.0         1.0\n",
       "18360    10              1.0         0.0\n",
       "20400    11              0.0         0.0\n",
       "22440    12              1.0         1.0\n",
       "24480    13              1.0         0.0\n",
       "26520    14              1.0         1.0\n",
       "28560    15              1.0         0.0\n",
       "30600    16              1.0         1.0\n",
       "32640    17              1.0         0.0\n",
       "34680    18              0.0         0.0\n",
       "36720    19              0.0         0.0\n",
       "38760    20              0.0         0.0\n",
       "40800    21              0.0         1.0\n",
       "42840    22              1.0         0.0\n",
       "44880    23              0.0         1.0\n",
       "46920    24              1.0         1.0\n",
       "48960    25              1.0         0.0\n",
       "51000    26              0.0         1.0\n",
       "53040    27              1.0         1.0\n",
       "55080    28              1.0         0.0\n",
       "57120    29              0.0         0.0\n",
       "59160    30              1.0         1.0\n",
       "61200    31              1.0         0.0\n",
       "63240    32              0.0         0.0\n",
       "65280    33              1.0         0.0\n",
       "67320    34              1.0         1.0\n",
       "69360    35              1.0         0.0\n",
       "71400    36              0.0         1.0\n",
       "73440    37              1.0         1.0\n",
       "75480    38              1.0         1.0\n",
       "77520    39              1.0         1.0\n",
       "79560    40              1.0         1.0\n",
       "81600    41              1.0         0.0\n",
       "83640    42              1.0         1.0\n",
       "85680    43              1.0         1.0\n",
       "87720    44              1.0         1.0\n",
       "89760    45              0.0         1.0\n",
       "91800    46              1.0         0.0\n",
       "93840    47              1.0         1.0\n",
       "95880    48              0.0         0.0\n",
       "97920    49              0.0         0.0\n",
       "99960    50              0.0         0.0\n",
       "102000   51              0.0         1.0\n",
       "104040   52              1.0         1.0\n",
       "106080   53              1.0         0.0\n",
       "108120   54              1.0         0.0\n",
       "110160   55              1.0         1.0\n",
       "112200   56              0.0         1.0\n",
       "114240   57              1.0         0.0\n",
       "116280   58              1.0         0.0\n",
       "118320   59              1.0         0.0\n",
       "120360   60              1.0         1.0"
      ]
     },
     "execution_count": 7,
     "metadata": {},
     "output_type": "execute_result"
    }
   ],
   "source": [
    "building_info = train[[\"num\", \"nelec_cool_flag\", \"solar_flag\"]].drop_duplicates()\n",
    "building_info\n"
   ]
  },
  {
   "cell_type": "code",
   "execution_count": 8,
   "metadata": {
    "ExecuteTime": {
     "end_time": "2022-06-03T00:21:23.132724Z",
     "start_time": "2022-06-03T00:21:23.107388Z"
    },
    "id": "7Z4oP5rL3jA1",
    "scrolled": true
   },
   "outputs": [
    {
     "name": "stdout",
     "output_type": "stream",
     "text": [
      "<class 'pandas.core.frame.DataFrame'>\n",
      "Int64Index: 10080 entries, 0 to 10079\n",
      "Data columns (total 9 columns):\n",
      " #   Column           Non-Null Count  Dtype  \n",
      "---  ------           --------------  -----  \n",
      " 0   num              10080 non-null  int64  \n",
      " 1   date_time        10080 non-null  object \n",
      " 2   temperature      3360 non-null   float64\n",
      " 3   windspeed        3360 non-null   float64\n",
      " 4   humidity         3360 non-null   float64\n",
      " 5   precipitation    1680 non-null   float64\n",
      " 6   insolation       3360 non-null   float64\n",
      " 7   nelec_cool_flag  10080 non-null  float64\n",
      " 8   solar_flag       10080 non-null  float64\n",
      "dtypes: float64(7), int64(1), object(1)\n",
      "memory usage: 787.5+ KB\n"
     ]
    }
   ],
   "source": [
    "# JOIN?\n",
    "# test\n",
    "# pd.merge(test, building_info, on=[\"num\"])\n",
    "\n",
    "test = test.drop(columns=[\"nelec_cool_flag\", \"solar_flag\"])\n",
    "test = pd.merge(test, building_info, on=[\"num\"])\n",
    "test.info()"
   ]
  },
  {
   "cell_type": "markdown",
   "metadata": {},
   "source": [
    "## 기상정보(강수량, 일조량, 풍속, 기온, 습도)"
   ]
  },
  {
   "cell_type": "markdown",
   "metadata": {
    "id": "Xe332zgO3jA1"
   },
   "source": [
    "#### 일조량 (insolation)"
   ]
  },
  {
   "cell_type": "code",
   "execution_count": 9,
   "metadata": {
    "ExecuteTime": {
     "end_time": "2022-06-03T00:21:24.236850Z",
     "start_time": "2022-06-03T00:21:24.218310Z"
    },
    "id": "qsSw--lo3jA2",
    "scrolled": true
   },
   "outputs": [
    {
     "data": {
      "text/plain": [
       "0        27.800000\n",
       "1        27.806027\n",
       "2        27.639360\n",
       "3        27.300000\n",
       "4        26.787947\n",
       "           ...    \n",
       "10075    28.679729\n",
       "10076    28.313063\n",
       "10077    27.900000\n",
       "10078          NaN\n",
       "10079          NaN\n",
       "Name: temperature, Length: 10080, dtype: float64"
      ]
     },
     "execution_count": 9,
     "metadata": {},
     "output_type": "execute_result"
    }
   ],
   "source": [
    "# 가장 최근에 기록된 정보로 채워줍니다.\n",
    "test.temperature.interpolate(method=\"pad\")\n",
    "test.temperature.interpolate(method=\"linear\") # linear interpolation (선형 보간법)\n",
    "test.temperature.interpolate(method=\"quadratic\")"
   ]
  },
  {
   "cell_type": "code",
   "execution_count": 10,
   "metadata": {
    "ExecuteTime": {
     "end_time": "2022-06-03T00:21:24.770087Z",
     "start_time": "2022-06-03T00:21:24.758537Z"
    },
    "id": "3S-kbz6R3jA2"
   },
   "outputs": [
    {
     "data": {
      "text/plain": [
       "0.0    1872\n",
       "0.1     120\n",
       "3.0     102\n",
       "0.6      83\n",
       "0.2      74\n",
       "0.9      71\n",
       "0.5      63\n",
       "1.0      62\n",
       "1.2      60\n",
       "0.3      57\n",
       "1.6      55\n",
       "2.7      54\n",
       "1.8      53\n",
       "0.4      49\n",
       "1.1      49\n",
       "2.8      46\n",
       "2.4      45\n",
       "1.4      42\n",
       "1.3      40\n",
       "2.2      40\n",
       "0.7      39\n",
       "0.8      37\n",
       "2.0      36\n",
       "2.9      35\n",
       "2.1      29\n",
       "1.5      29\n",
       "2.6      26\n",
       "1.9      26\n",
       "1.7      25\n",
       "2.3      24\n",
       "2.5      17\n",
       "Name: insolation, dtype: int64"
      ]
     },
     "execution_count": 10,
     "metadata": {},
     "output_type": "execute_result"
    }
   ],
   "source": [
    "test.insolation.value_counts()"
   ]
  },
  {
   "cell_type": "code",
   "execution_count": 11,
   "metadata": {
    "ExecuteTime": {
     "end_time": "2022-06-03T00:21:25.313434Z",
     "start_time": "2022-06-03T00:21:25.268103Z"
    },
    "id": "q9XznwmV3jA2",
    "scrolled": true
   },
   "outputs": [
    {
     "name": "stdout",
     "output_type": "stream",
     "text": [
      "<class 'pandas.core.frame.DataFrame'>\n",
      "RangeIndex: 122400 entries, 0 to 122399\n",
      "Data columns (total 11 columns):\n",
      " #   Column           Non-Null Count   Dtype  \n",
      "---  ------           --------------   -----  \n",
      " 0   num              122400 non-null  int64  \n",
      " 1   date_time        122400 non-null  object \n",
      " 2   target           122400 non-null  float64\n",
      " 3   temperature      40800 non-null   float64\n",
      " 4   windspeed        40800 non-null   float64\n",
      " 5   humidity         40800 non-null   float64\n",
      " 6   precipitation    122400 non-null  float64\n",
      " 7   insolation       40800 non-null   float64\n",
      " 8   nelec_cool_flag  122400 non-null  float64\n",
      " 9   solar_flag       122400 non-null  float64\n",
      " 10  precipitaiton    0 non-null       float64\n",
      "dtypes: float64(9), int64(1), object(1)\n",
      "memory usage: 10.3+ MB\n"
     ]
    }
   ],
   "source": [
    "dummy = train.copy() # 실험용 train data를 하나 복사합니다.\n",
    "# 스펀지 만들기\n",
    "# Q. dummy 를 test data처럼 빈 칸을 뚫습니다. \n",
    "## (풍속, 기온, 일조량, 습도는 3칸마다 데이터가 있고, 강수량은 6칸마다 데이터가 있습니다.)\n",
    "### make_train_nan 함수를 이용해서 dummy dataframe을 스펀지로 만듭니다.\n",
    "def make_train_nan(data, columns, n):\n",
    "    # data : 스펀지를 만들 원본 dataframe\n",
    "    # columns : 스펀지를 만들 대상 column\n",
    "    # n : 몇번째마다 값을 둘 것인가 ( 3 or 6 )\n",
    "#  1.   mask = [i % n != 0 for i in range(len(data))]\n",
    "#       data.loc[mask, columns] = np.nan\n",
    "    data.loc[data.index % n != 0, columns] = np.nan\n",
    "    \n",
    "\n",
    "make_train_nan(dummy, [\"humidity\", \"temperature\", \"insolation\", \"windspeed\"], 3)\n",
    "make_train_nan(dummy, [\"precipitaiton\"], 6)\n",
    "dummy.info()"
   ]
  },
  {
   "cell_type": "code",
   "execution_count": 12,
   "metadata": {
    "ExecuteTime": {
     "end_time": "2022-06-03T00:21:26.000994Z",
     "start_time": "2022-06-03T00:21:25.943200Z"
    },
    "id": "sUpjRxFP3jA2"
   },
   "outputs": [
    {
     "data": {
      "text/plain": [
       "{'pad': 21.611516339869283,\n",
       " 'linear': 5.530951978939724,\n",
       " 'quadratic': 5.433766159300832}"
      ]
     },
     "execution_count": 12,
     "metadata": {},
     "output_type": "execute_result"
    }
   ],
   "source": [
    "from sklearn.metrics import mean_squared_error\n",
    "from sklearn.metrics import mean_absolute_error\n",
    "\n",
    "def compare_interpolation_methods(train, dummy, column, methods, metric):\n",
    "    # train, dummy : 비교 대상\n",
    "    # column : 비교 대상에 해당하는 column\n",
    "    # methods : interpolation methods (\"pad\", \"linear\", \"quadratic\")\n",
    "    # metric : 비교를 하는 기준 (MAE, MSE)\n",
    "    error_dict = {}\n",
    "    temp = dummy[column]\n",
    "    \n",
    "    for method in methods:\n",
    "        if method == \"quadratic\":\n",
    "            temp = dummy[column].interpolate(method=method).interpolate(\"linear\") # 마지막에 비어있는 NaN codnrl.\n",
    "            error_dict[method] = metric(train[column], temp) # error를 계산\n",
    "        else:\n",
    "            temp = dummy[column].interpolate(method=method) # 특정 column을 주어진 방식으로 interpolate\n",
    "            error_dict[method] = metric(train[column], temp) # error를 계산\n",
    "    \n",
    "    return error_dict\n",
    "\n",
    "compare_interpolation_methods(train, dummy, \"humidity\", [\"pad\", \"linear\", \"quadratic\"], mean_squared_error)"
   ]
  },
  {
   "cell_type": "code",
   "execution_count": 13,
   "metadata": {
    "ExecuteTime": {
     "end_time": "2022-06-03T00:21:27.178616Z",
     "start_time": "2022-06-03T00:21:27.052985Z"
    },
    "id": "f5tSo50R3jA2"
   },
   "outputs": [
    {
     "data": {
      "text/html": [
       "<div>\n",
       "<style scoped>\n",
       "    .dataframe tbody tr th:only-of-type {\n",
       "        vertical-align: middle;\n",
       "    }\n",
       "\n",
       "    .dataframe tbody tr th {\n",
       "        vertical-align: top;\n",
       "    }\n",
       "\n",
       "    .dataframe thead th {\n",
       "        text-align: right;\n",
       "    }\n",
       "</style>\n",
       "<table border=\"1\" class=\"dataframe\">\n",
       "  <thead>\n",
       "    <tr style=\"text-align: right;\">\n",
       "      <th></th>\n",
       "      <th>humidity</th>\n",
       "      <th>windspeed</th>\n",
       "      <th>temperature</th>\n",
       "      <th>insolation</th>\n",
       "      <th>precipitation</th>\n",
       "    </tr>\n",
       "  </thead>\n",
       "  <tbody>\n",
       "    <tr>\n",
       "      <th>pad</th>\n",
       "      <td>2.544775</td>\n",
       "      <td>0.443193</td>\n",
       "      <td>0.552264</td>\n",
       "      <td>0.073680</td>\n",
       "      <td>0.0</td>\n",
       "    </tr>\n",
       "    <tr>\n",
       "      <th>linear</th>\n",
       "      <td>1.297897</td>\n",
       "      <td>0.346830</td>\n",
       "      <td>0.219766</td>\n",
       "      <td>0.048181</td>\n",
       "      <td>0.0</td>\n",
       "    </tr>\n",
       "    <tr>\n",
       "      <th>quadratic</th>\n",
       "      <td>1.291286</td>\n",
       "      <td>0.367535</td>\n",
       "      <td>0.209853</td>\n",
       "      <td>0.056955</td>\n",
       "      <td>0.0</td>\n",
       "    </tr>\n",
       "  </tbody>\n",
       "</table>\n",
       "</div>"
      ],
      "text/plain": [
       "           humidity  windspeed  temperature  insolation  precipitation\n",
       "pad        2.544775   0.443193     0.552264    0.073680            0.0\n",
       "linear     1.297897   0.346830     0.219766    0.048181            0.0\n",
       "quadratic  1.291286   0.367535     0.209853    0.056955            0.0"
      ]
     },
     "execution_count": 13,
     "metadata": {},
     "output_type": "execute_result"
    }
   ],
   "source": [
    "from sklearn.metrics import mean_squared_error\n",
    "from sklearn.metrics import mean_absolute_error\n",
    "\n",
    "# 1. interpolation 기법별로 에러(틀린 정도)를 계산합니다.\n",
    "all_error_dict = {}\n",
    "metric = mean_absolute_error\n",
    "\n",
    "for column in [\"humidity\", \"windspeed\", \"temperature\", \"insolation\", \"precipitation\"]:\n",
    "    methods = [\"pad\", \"linear\", \"quadratic\"]\n",
    "    error_dict = compare_interpolation_methods(train, dummy, column, methods, metric)\n",
    "    all_error_dict[column] = error_dict\n",
    "    \n",
    "# 2. 계산 결과를 그래프로 그립니다.\n",
    "all_error_df = pd.DataFrame(all_error_dict)\n",
    "all_error_df"
   ]
  },
  {
   "cell_type": "code",
   "execution_count": 14,
   "metadata": {
    "ExecuteTime": {
     "end_time": "2022-06-03T00:21:27.936801Z",
     "start_time": "2022-06-03T00:21:27.730979Z"
    },
    "id": "Cro0gf0n3jA2"
   },
   "outputs": [
    {
     "data": {
      "image/png": "[encoded data removed]",
      "text/plain": [
       "<Figure size 1296x360 with 5 Axes>"
      ]
     },
     "metadata": {
      "needs_background": "light"
     },
     "output_type": "display_data"
    }
   ],
   "source": [
    "fig, axes = plt.subplots(1, 5, figsize = (18, 5))\n",
    "for i in range(len(all_error_df.columns)):\n",
    "    sns.lineplot(ax=axes[i], data=all_error_df.iloc[:, i].transpose(), sort=False)"
   ]
  },
  {
   "cell_type": "code",
   "execution_count": 16,
   "metadata": {
    "ExecuteTime": {
     "end_time": "2022-06-03T00:21:41.898251Z",
     "start_time": "2022-06-03T00:21:41.873917Z"
    },
    "id": "QPsEcxSP3jA3"
   },
   "outputs": [],
   "source": [
    "# 테스트 데이터에 결측치를 채워봅니다!\n",
    "test.temperature = test.temperature.interpolate(method=\"quadratic\")\n",
    "# 마지막 NaN을 채우기 위해서 linear interpolation을 적용해줍니다.\n",
    "test.temperature = test.temperature.interpolate(method=\"linear\")\n",
    "\n",
    "test.windspeed =  test.windspeed.interpolate(method=\"linear\")\n",
    "\n",
    "test.humidity = test.humidity.interpolate(method=\"quadratic\")\n",
    "# 마지막 NaN을 채우기 위해서 linear interpolation을 적용해줍니다.\n",
    "test.humidity = test.humidity.interpolate(method=\"linear\")\n",
    "\n",
    "test.precipitation = test.precipitation.interpolate(method=\"linear\")\n",
    "                                             \n",
    "test.insolation = test.insolation.interpolate(method=\"linear\")"
   ]
  },
  {
   "cell_type": "code",
   "execution_count": 17,
   "metadata": {
    "ExecuteTime": {
     "end_time": "2022-06-03T00:29:00.682971Z",
     "start_time": "2022-06-03T00:29:00.660674Z"
    }
   },
   "outputs": [
    {
     "name": "stdout",
     "output_type": "stream",
     "text": [
      "<class 'pandas.core.frame.DataFrame'>\n",
      "Int64Index: 10080 entries, 0 to 10079\n",
      "Data columns (total 9 columns):\n",
      " #   Column           Non-Null Count  Dtype  \n",
      "---  ------           --------------  -----  \n",
      " 0   num              10080 non-null  int64  \n",
      " 1   date_time        10080 non-null  object \n",
      " 2   temperature      10080 non-null  float64\n",
      " 3   windspeed        10080 non-null  float64\n",
      " 4   humidity         10080 non-null  float64\n",
      " 5   precipitation    10080 non-null  float64\n",
      " 6   insolation       10080 non-null  float64\n",
      " 7   nelec_cool_flag  10080 non-null  float64\n",
      " 8   solar_flag       10080 non-null  float64\n",
      "dtypes: float64(7), int64(1), object(1)\n",
      "memory usage: 787.5+ KB\n"
     ]
    }
   ],
   "source": [
    "test.info()"
   ]
  },
  {
   "cell_type": "code",
   "execution_count": null,
   "metadata": {
    "id": "FZfLuo6T3jA3"
   },
   "outputs": [],
   "source": [
    "#요일 변수를 추가해봅니다.\n",
    "def weekday(x):\n"
   ]
  },
  {
   "cell_type": "markdown",
   "metadata": {
    "id": "LoBdh69w3jA3"
   },
   "source": [
    "+ test 결측치를 채워봅니다.\n",
    "+ test 데이터의 변수는 예보 데이터이며, 예보 데이터는 train 데이터의 기간에 생성된 것이기에 활용 가능합니다.\n",
    "\n",
    "1) 평균으로 채우기\n",
    "\n",
    "\n",
    "2) 최빈값으로 채우기\n",
    "\n",
    "\n",
    "3) 근처(앞, 뒤)에 있는 값으로 채우기\n",
    "\n",
    "\n",
    "4) interpolation"
   ]
  },
  {
   "cell_type": "markdown",
   "metadata": {
    "heading_collapsed": true,
    "id": "eDQzHGk53jA3"
   },
   "source": [
    "### 2-2. 상관관계 분석"
   ]
  },
  {
   "cell_type": "code",
   "execution_count": null,
   "metadata": {
    "hidden": true,
    "id": "XtQVdJqX3jA3"
   },
   "outputs": [],
   "source": [
    "# 피처간 비슷한 변수들이 있는지 확인하기 위해 상관관계 분석을 수행합니다.\n"
   ]
  },
  {
   "cell_type": "code",
   "execution_count": null,
   "metadata": {
    "hidden": true,
    "id": "eZ0IrmYs3jA3"
   },
   "outputs": [],
   "source": [
    "# heatmap\n"
   ]
  },
  {
   "cell_type": "code",
   "execution_count": null,
   "metadata": {
    "hidden": true,
    "id": "KaQKGvA43jA3"
   },
   "outputs": [],
   "source": [
    "# 피처간 비슷한 변수들이 있는지 확인하기 위해 상관관계 분석을 수행합니다.\n",
    "corr = []\n",
    "for num in range(1,61):\n",
    "    df = train[train.num==num]\n",
    "    num_corr = df.corr()['target']\n",
    "    num_corr = num_corr.drop(['num','nelec_cool_flag','solar_flag','target'])\n",
    "    corr.append(num_corr)\n",
    "corr_df = pd.concat(corr, axis=1).T\n",
    "corr_df.index = list(range(1,61))\n",
    "\n",
    "# 시각화\n",
    "f, ax = plt.subplots(figsize=(20,8))\n",
    "plt.title(\"Correlation between features and target\", fontsize=15)\n",
    "sns.heatmap(corr_df.T, cmap=sns.diverging_palette(240,10,as_cmap=True), ax=ax)\n",
    "plt.xlabel('Building(num)')\n",
    "plt.show()"
   ]
  },
  {
   "cell_type": "markdown",
   "metadata": {
    "heading_collapsed": true,
    "id": "OvdHmLXM3jA3"
   },
   "source": [
    "### 2-3. 이상치 검출\n",
    "\n",
    "1) IQR(Inter-Quantile Range)\n",
    "\n",
    "\n",
    "2) Outlier Detection method (e.g. Isolation Forest)"
   ]
  },
  {
   "cell_type": "markdown",
   "metadata": {
    "heading_collapsed": true,
    "id": "XLE3dpXZ3jA3"
   },
   "source": [
    "### IQR "
   ]
  },
  {
   "cell_type": "code",
   "execution_count": null,
   "metadata": {
    "hidden": true,
    "id": "2V-lwxwK3jA3"
   },
   "outputs": [],
   "source": [
    "# 데이터 중에 전체 데이터의 패턴을 벗어나는 데이터가 있는지 확인합니다.\n",
    "def get_outlier(data, column, weight=1.5):\n",
    "    \n",
    "\n",
    "    \n",
    "    \n",
    "    print(\"IQR은 %.2f이다.\" % IQR)\n",
    "    print(f\"lower_bound는 {lower_bound:.2f}이다.\") # f-string\n",
    "    print(\"upper_bound는 {:.2f}이다.\".format(upper_bound))\n",
    "    \n",
    "\n",
    "    return outlier_idx"
   ]
  },
  {
   "cell_type": "code",
   "execution_count": null,
   "metadata": {
    "hidden": true,
    "id": "dVDIoKed3jA3"
   },
   "outputs": [],
   "source": [
    "selected_col = input(\"Which column ? \")\n",
    "outlier_idx = get_outlier(train, selected_col)\n",
    "train.loc[outlier_idx, :]"
   ]
  },
  {
   "cell_type": "code",
   "execution_count": null,
   "metadata": {
    "hidden": true,
    "id": "eQrIkq7U3jA3"
   },
   "outputs": [],
   "source": [
    "# outlier detection\n",
    "# anomaly detection\n",
    "\n",
    "train.drop(outlier_idx)"
   ]
  },
  {
   "cell_type": "markdown",
   "metadata": {
    "heading_collapsed": true,
    "id": "2ZwMT54j3jA4"
   },
   "source": [
    "### Isolation Forest (ML Model)"
   ]
  },
  {
   "cell_type": "code",
   "execution_count": null,
   "metadata": {
    "hidden": true,
    "id": "_Otlm9GL3jA4"
   },
   "outputs": [],
   "source": [
    "from sklearn.ensemble import IsolationForest\n",
    "\n",
    "X = train.drop(columns=[\"num\", \"date_time\", \"target\"])\n",
    "\n",
    "model = "
   ]
  },
  {
   "cell_type": "code",
   "execution_count": null,
   "metadata": {
    "hidden": true,
    "id": "FTb-xSMK3jA4"
   },
   "outputs": [],
   "source": [
    "# IsolationForest로 판단한 outlier들을 제거합니다\n"
   ]
  },
  {
   "cell_type": "markdown",
   "metadata": {
    "id": "8131eYcz3jA4"
   },
   "source": [
    "## 3. 예측 모델 구현"
   ]
  },
  {
   "cell_type": "code",
   "execution_count": 18,
   "metadata": {
    "ExecuteTime": {
     "end_time": "2022-06-03T00:32:24.165824Z",
     "start_time": "2022-06-03T00:32:24.161053Z"
    }
   },
   "outputs": [],
   "source": [
    "# 전력사용량 예측을 위해 회귀 모델을 불러옵니다\n",
    "from lightgbm.sklearn import LGBMRegressor"
   ]
  },
  {
   "cell_type": "code",
   "execution_count": 19,
   "metadata": {
    "ExecuteTime": {
     "end_time": "2022-06-03T00:32:24.962227Z",
     "start_time": "2022-06-03T00:32:24.951801Z"
    }
   },
   "outputs": [],
   "source": [
    "# 학습에 필요한 데이터셋을 만듭니다\n",
    "X = train.drop(columns=[\"num\", \"date_time\", \"target\"])\n",
    "y = train.target"
   ]
  },
  {
   "cell_type": "code",
   "execution_count": 20,
   "metadata": {
    "ExecuteTime": {
     "end_time": "2022-06-03T00:32:31.474508Z",
     "start_time": "2022-06-03T00:32:25.880824Z"
    }
   },
   "outputs": [
    {
     "name": "stdout",
     "output_type": "stream",
     "text": [
      "K? : 5\n",
      "CV Results :  1236.5024970200136\n"
     ]
    }
   ],
   "source": [
    "# 학습 및 모델 검증을 위해 KFold Cross Validation 기법을 사용합니다.\n",
    "from sklearn.model_selection import KFold\n",
    "\n",
    "K = int(input(\"K? : \"))\n",
    "print_mode = False\n",
    "\n",
    "cv = KFold(n_splits=K, shuffle=True, random_state=42)\n",
    "reg = LGBMRegressor()\n",
    "\n",
    "# 모델별 fold\n",
    "folds = []\n",
    "scores = []\n",
    "\n",
    "# K-fold 생성.\n",
    "for train_idx, valid_idx in cv.split(X, y):\n",
    "    folds.append((train_idx, valid_idx))\n",
    "\n",
    "# fold별 학습 및 검증\n",
    "for i in range(K):\n",
    "    if print_mode:\n",
    "        print(f\"{i+1}th folds in {K} folds.\")\n",
    "    \n",
    "    train_idx, valid_idx = folds[i] # unpacking\n",
    "    \n",
    "    X_train = X.iloc[train_idx, :]\n",
    "    X_val = X.iloc[valid_idx, :]\n",
    "    y_train = y[train_idx]\n",
    "    y_val = y[valid_idx]\n",
    "\n",
    "    reg.fit(X_train, y_train)\n",
    "    pred = reg.predict(X_val)\n",
    "    score = mean_absolute_error(y_val, pred)\n",
    "    scores.append(score)\n",
    "    \n",
    "print(\"CV Results : \", np.mean(scores))"
   ]
  },
  {
   "cell_type": "code",
   "execution_count": 21,
   "metadata": {
    "ExecuteTime": {
     "end_time": "2022-06-03T00:32:35.256988Z",
     "start_time": "2022-06-03T00:32:35.134824Z"
    }
   },
   "outputs": [
    {
     "data": {
      "text/plain": [
       "1220.5033527094051"
      ]
     },
     "execution_count": 21,
     "metadata": {},
     "output_type": "execute_result"
    }
   ],
   "source": [
    "# training\n",
    "# reg = LGBMRegressor()\n",
    "# reg.fit(X, y)\n",
    "pred = reg.predict(X)\n",
    "mean_absolute_error(y, pred)"
   ]
  },
  {
   "cell_type": "code",
   "execution_count": 22,
   "metadata": {
    "ExecuteTime": {
     "end_time": "2022-06-03T00:32:35.996087Z",
     "start_time": "2022-06-03T00:32:35.961532Z"
    }
   },
   "outputs": [],
   "source": [
    "# submission 파일 생성\n",
    "X_test = test.drop(columns=[\"num\", \"date_time\"])\n",
    "output = reg.predict(X_test)"
   ]
  },
  {
   "cell_type": "code",
   "execution_count": 23,
   "metadata": {
    "ExecuteTime": {
     "end_time": "2022-06-03T00:32:36.706291Z",
     "start_time": "2022-06-03T00:32:36.665114Z"
    }
   },
   "outputs": [],
   "source": [
    "submission[\"answer\"] = output\n",
    "submission.to_csv(\"submission.csv\", index=False)"
   ]
  }
 ],
 "metadata": {
  "colab": {
   "name": "전력사용량 예측(실습).ipynb",
   "provenance": []
  },
  "kernelspec": {
   "display_name": "Python 3 (ipykernel)",
   "language": "python",
   "name": "python3"
  },
  "language_info": {
   "codemirror_mode": {
    "name": "ipython",
    "version": 3
   },
   "file_extension": ".py",
   "mimetype": "text/x-python",
   "name": "python",
   "nbconvert_exporter": "python",
   "pygments_lexer": "ipython3",
   "version": "3.10.4"
  },
  "toc": {
   "base_numbering": 1,
   "nav_menu": {},
   "number_sections": true,
   "sideBar": true,
   "skip_h1_title": false,
   "title_cell": "Table of Contents",
   "title_sidebar": "Contents",
   "toc_cell": false,
   "toc_position": {},
   "toc_section_display": true,
   "toc_window_display": false
  }
 },
 "nbformat": 4,
 "nbformat_minor": 1
}
