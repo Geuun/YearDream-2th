{
 "cells": [
  {
   "cell_type": "code",
   "execution_count": 1,
   "id": "81ea8682",
   "metadata": {},
   "outputs": [
    {
     "name": "stdout",
     "output_type": "stream",
     "text": [
      "Requirement already satisfied: numpy in /Users/krc/miniforge3/envs/jupyter/lib/python3.8/site-packages (1.22.3)\n",
      "Requirement already satisfied: pandas in /Users/krc/miniforge3/envs/jupyter/lib/python3.8/site-packages (1.4.2)\n",
      "Requirement already satisfied: pytz>=2020.1 in /Users/krc/miniforge3/envs/jupyter/lib/python3.8/site-packages (from pandas) (2022.1)\n",
      "Requirement already satisfied: numpy>=1.20.0 in /Users/krc/miniforge3/envs/jupyter/lib/python3.8/site-packages (from pandas) (1.22.3)\n",
      "Requirement already satisfied: python-dateutil>=2.8.1 in /Users/krc/miniforge3/envs/jupyter/lib/python3.8/site-packages (from pandas) (2.8.2)\n",
      "Requirement already satisfied: six>=1.5 in /Users/krc/miniforge3/envs/jupyter/lib/python3.8/site-packages (from python-dateutil>=2.8.1->pandas) (1.16.0)\n",
      "Requirement already satisfied: matplotlib in /Users/krc/miniforge3/envs/jupyter/lib/python3.8/site-packages (3.5.2)\n",
      "Requirement already satisfied: fonttools>=4.22.0 in /Users/krc/miniforge3/envs/jupyter/lib/python3.8/site-packages (from matplotlib) (4.33.3)\n",
      "Requirement already satisfied: cycler>=0.10 in /Users/krc/miniforge3/envs/jupyter/lib/python3.8/site-packages (from matplotlib) (0.11.0)\n",
      "Requirement already satisfied: packaging>=20.0 in /Users/krc/miniforge3/envs/jupyter/lib/python3.8/site-packages (from matplotlib) (21.3)\n",
      "Requirement already satisfied: pillow>=6.2.0 in /Users/krc/miniforge3/envs/jupyter/lib/python3.8/site-packages (from matplotlib) (9.1.0)\n",
      "Requirement already satisfied: kiwisolver>=1.0.1 in /Users/krc/miniforge3/envs/jupyter/lib/python3.8/site-packages (from matplotlib) (1.4.2)\n",
      "Requirement already satisfied: pyparsing>=2.2.1 in /Users/krc/miniforge3/envs/jupyter/lib/python3.8/site-packages (from matplotlib) (3.0.8)\n",
      "Requirement already satisfied: python-dateutil>=2.7 in /Users/krc/miniforge3/envs/jupyter/lib/python3.8/site-packages (from matplotlib) (2.8.2)\n",
      "Requirement already satisfied: numpy>=1.17 in /Users/krc/miniforge3/envs/jupyter/lib/python3.8/site-packages (from matplotlib) (1.22.3)\n",
      "Requirement already satisfied: six>=1.5 in /Users/krc/miniforge3/envs/jupyter/lib/python3.8/site-packages (from python-dateutil>=2.7->matplotlib) (1.16.0)\n",
      "Requirement already satisfied: seaborn in /Users/krc/miniforge3/envs/jupyter/lib/python3.8/site-packages (0.11.2)\n",
      "Requirement already satisfied: numpy>=1.15 in /Users/krc/miniforge3/envs/jupyter/lib/python3.8/site-packages (from seaborn) (1.22.3)\n",
      "Requirement already satisfied: pandas>=0.23 in /Users/krc/miniforge3/envs/jupyter/lib/python3.8/site-packages (from seaborn) (1.4.2)\n",
      "Requirement already satisfied: matplotlib>=2.2 in /Users/krc/miniforge3/envs/jupyter/lib/python3.8/site-packages (from seaborn) (3.5.2)\n",
      "Requirement already satisfied: scipy>=1.0 in /Users/krc/miniforge3/envs/jupyter/lib/python3.8/site-packages (from seaborn) (1.8.0)\n",
      "Requirement already satisfied: cycler>=0.10 in /Users/krc/miniforge3/envs/jupyter/lib/python3.8/site-packages (from matplotlib>=2.2->seaborn) (0.11.0)\n",
      "Requirement already satisfied: pyparsing>=2.2.1 in /Users/krc/miniforge3/envs/jupyter/lib/python3.8/site-packages (from matplotlib>=2.2->seaborn) (3.0.8)\n",
      "Requirement already satisfied: python-dateutil>=2.7 in /Users/krc/miniforge3/envs/jupyter/lib/python3.8/site-packages (from matplotlib>=2.2->seaborn) (2.8.2)\n",
      "Requirement already satisfied: kiwisolver>=1.0.1 in /Users/krc/miniforge3/envs/jupyter/lib/python3.8/site-packages (from matplotlib>=2.2->seaborn) (1.4.2)\n",
      "Requirement already satisfied: packaging>=20.0 in /Users/krc/miniforge3/envs/jupyter/lib/python3.8/site-packages (from matplotlib>=2.2->seaborn) (21.3)\n",
      "Requirement already satisfied: fonttools>=4.22.0 in /Users/krc/miniforge3/envs/jupyter/lib/python3.8/site-packages (from matplotlib>=2.2->seaborn) (4.33.3)\n",
      "Requirement already satisfied: pillow>=6.2.0 in /Users/krc/miniforge3/envs/jupyter/lib/python3.8/site-packages (from matplotlib>=2.2->seaborn) (9.1.0)\n",
      "Requirement already satisfied: pytz>=2020.1 in /Users/krc/miniforge3/envs/jupyter/lib/python3.8/site-packages (from pandas>=0.23->seaborn) (2022.1)\n",
      "Requirement already satisfied: six>=1.5 in /Users/krc/miniforge3/envs/jupyter/lib/python3.8/site-packages (from python-dateutil>=2.7->matplotlib>=2.2->seaborn) (1.16.0)\n",
      "Requirement already satisfied: xlrd in /Users/krc/miniforge3/envs/jupyter/lib/python3.8/site-packages (2.0.1)\n",
      "Requirement already satisfied: openpyxl in /Users/krc/miniforge3/envs/jupyter/lib/python3.8/site-packages (3.0.9)\n",
      "Requirement already satisfied: et-xmlfile in /Users/krc/miniforge3/envs/jupyter/lib/python3.8/site-packages (from openpyxl) (1.1.0)\n"
     ]
    }
   ],
   "source": [
    "# 라이브러리 설치\n",
    "# 로컬에 설치되어 있다면 / 환경에 따라 skip\n",
    "!pip install numpy\n",
    "!pip install pandas\n",
    "!pip install matplotlib\n",
    "!pip install seaborn\n",
    "!pip install xlrd\n",
    "!pip install openpyxl\n"
   ]
  },
  {
   "cell_type": "code",
   "execution_count": null,
   "id": "7799f1fa",
   "metadata": {},
   "outputs": [
    {
     "name": "stdout",
     "output_type": "stream",
     "text": [
      "Password:"
     ]
    }
   ],
   "source": [
    "# matplotlib 한글폰트 깨지지 않게 '나눔 폰트' 설치\n",
    "\n",
    "!sudo apt-get install -y fonts-nanum\n",
    "!sudo fc-cache -fv\n",
    "!rm -/.cache/matplotlib -rf\n",
    "\n",
    "# 실행 후 반드시 '런타임 다시 시작'"
   ]
  },
  {
   "cell_type": "raw",
   "id": "c766a4f2",
   "metadata": {},
   "source": [
    "# [이어드림] 데이터 분석 프로젝트\n",
    "\n",
    "\n",
    "## Mini EDA Team Project\n",
    "\n",
    "- EDA 주제 : FastCampus Database 를 가지고 EDA 를 진행해보자.\n",
    "- FastCampus의 데이터 사이언티스트라면 FastCampus는 어떤 수익구조를 가지고있고,\n",
    "- 앞으로 FastCampus는 어떤 스탠스를 가져야 수익을 더 늘릴 수 있을까?"
   ]
  },
  {
   "cell_type": "code",
   "execution_count": null,
   "id": "276de1aa",
   "metadata": {},
   "outputs": [],
   "source": [
    "# 라이브러리 불러오기\n",
    "\n",
    "import numpy as np\n",
    "import pandas as pd\n",
    "import matplotlib as mpl\n",
    "import matplotlib.pylab as plb\n",
    "import matplotlib.pyplot as plt\n",
    "import seaborn as sns\n",
    "\n",
    "# jupyter notebook 내 그래프를 바로 그리기 위한 설정\n",
    "%matplotlib inline\n",
    "\n",
    "# unicode minus를 사용하지 않기 위한 설정 (minus 깨짐현상 방지)\n",
    "plt.rcParams['axes.unicode_minus'] = False\n",
    "\n",
    "# seaborn 폰트설정\n",
    "sns.set(font=\"Nanum Gothic\")"
   ]
  },
  {
   "cell_type": "code",
   "execution_count": null,
   "id": "2a983e0f",
   "metadata": {},
   "outputs": [],
   "source": [
    "# xlsx파일을 보다 빠르게 불러오기 위해 csv 로 바꾸는 작업\n",
    "# 주어진 파일이 csv라면 skip\n",
    "\n",
    "#xlsx = pd.read_excel(\"/Volumes/Geun(ssd)/Geun/이어드림/이어드림/DataBase/파이널프로젝트_RAW_210329_210926.xlsx\")\n",
    "#xlsx.to_csv(\"/Volumes/Geun(ssd)/Geun/이어드림/이어드림/DataBase/파이널프로젝트_RAW_210329_210926.csv\")"
   ]
  },
  {
   "cell_type": "code",
   "execution_count": null,
   "id": "ca1789b2",
   "metadata": {
    "scrolled": false
   },
   "outputs": [],
   "source": [
    "# raw data를 DataFrame으로 가져오기\n",
    "\n",
    "data = pd.read_csv('/Volumes/Geun(ssd)/Geun/이어드림/이어드림/DataBase/MiniProject_EDA_FastCampus/final.csv')\n",
    "data.head()"
   ]
  },
  {
   "cell_type": "markdown",
   "id": "e7315209",
   "metadata": {},
   "source": [
    "## - 데이터 살펴보기"
   ]
  },
  {
   "cell_type": "code",
   "execution_count": null,
   "id": "75be7ca0",
   "metadata": {
    "scrolled": false
   },
   "outputs": [],
   "source": [
    "# 데이터 살펴보기\n",
    "print(data.shape)"
   ]
  },
  {
   "cell_type": "code",
   "execution_count": null,
   "id": "a542bb1d",
   "metadata": {
    "scrolled": true
   },
   "outputs": [],
   "source": [
    "data.info()"
   ]
  },
  {
   "cell_type": "code",
   "execution_count": null,
   "id": "489aad52",
   "metadata": {},
   "outputs": [],
   "source": [
    "data.isnull().sum()"
   ]
  },
  {
   "cell_type": "markdown",
   "id": "781bc32f",
   "metadata": {},
   "source": [
    "## - cloum의 뜻 생각해보기\n",
    "\n",
    "1. id\n",
    "2. customer_id : 고객 id\n",
    "3. course_id : 과정 id\n",
    "4. type : 결제\n",
    "5. state : 결제 상태 ( 완료 / 취소 / 환불 / ... etc )\n",
    "6. course_title : 과정의 이름\n",
    "7. format : 해당 과정의 format ( 올인원 / RED / B2B / B2C / B2G / ... etc )\n",
    "8. completed_at : 결제 시각\n",
    "9. transaction_amount : 강의 원래 가격\n",
    "10. coupon_title : 적용한 쿠폰이름\n",
    "11. coupon_discount_amount : 쿠폰으로 할인받은 금액\n",
    "12. sale_price : 할인 제외 최종금액\n",
    "13. tax_free_amount : 부가세 제외 금액\n",
    "14. pg : 결제대행사 ( KAKAO / INICIS / NAVER )\n",
    "15. method : 결제 방식 ( 체크카드 / 신용카드 / 계좌이체 )\n",
    "16. subcategory_title : 수업과정의 서브카테고리\n",
    "17. marketing_start_at :해당 마케팅(프로모션)이 시작된 시점"
   ]
  },
  {
   "cell_type": "markdown",
   "id": "c34f36be",
   "metadata": {},
   "source": [
    "FastCampus 입장에서 수익 구조를 늘리기 위한 EDA를 진행해보자  \n",
    "우선 주어진 raw data의 기간이 210329 - 210926 이므로,  \n",
    "월별(3, 4, 5, 6, 7, 8, 9) 매출을 확인해보자."
   ]
  },
  {
   "cell_type": "code",
   "execution_count": null,
   "id": "4385ef27",
   "metadata": {},
   "outputs": [],
   "source": [
    "# 매출에 관련된 컬럼을 모아서 하나의 dataframe으로 만들자\n",
    "\n",
    "df_revenue = data[['completed_at', 'transaction_amount', 'coupon_discount_amount',\n",
    "                 'sale_price', 'tax_free_amount']]\n",
    "df_revenue.info()"
   ]
  },
  {
   "cell_type": "code",
   "execution_count": null,
   "id": "ed758345",
   "metadata": {},
   "outputs": [],
   "source": [
    "# 3월의 Revenue == df_revenue_3\n",
    "\n",
    "df_revenue.completed_at.str.contains('2021-03')\n",
    "df_revenue_3 = df_revenue[df_revenue.completed_at.str.contains('2021-03')]\n",
    "df_revenue_3"
   ]
  },
  {
   "cell_type": "markdown",
   "id": "946d0f62",
   "metadata": {},
   "source": [
    "매출은 세금을 공제하지 않은 금액을 얘기하므로 주어진 컬럼에서는 sale_price이다."
   ]
  },
  {
   "cell_type": "code",
   "execution_count": null,
   "id": "9c7346b9",
   "metadata": {},
   "outputs": [],
   "source": [
    "print(df_revenue_3['sale_price'].sum())"
   ]
  },
  {
   "cell_type": "markdown",
   "id": "dd618e87",
   "metadata": {},
   "source": [
    "3월의 매출금액은 ```706886600.0``` 이다.  \n",
    "같은 방식으로 9월까지 월 매출금액을 구해보자."
   ]
  },
  {
   "cell_type": "code",
   "execution_count": null,
   "id": "934529fa",
   "metadata": {},
   "outputs": [],
   "source": [
    "# 4월\n",
    "df_revenue_4 = df_revenue[df_revenue.completed_at.str.contains('2021-04')]\n",
    "df_revenue_4\n",
    "print(df_revenue_4['sale_price'].sum())"
   ]
  },
  {
   "cell_type": "code",
   "execution_count": null,
   "id": "8dd6b17f",
   "metadata": {},
   "outputs": [],
   "source": [
    "# 5월\n",
    "df_revenue_5 = df_revenue[df_revenue.completed_at.str.contains('2021-05')]\n",
    "df_revenue_5\n",
    "print(df_revenue_5['sale_price'].sum())"
   ]
  },
  {
   "cell_type": "code",
   "execution_count": null,
   "id": "6f7a9820",
   "metadata": {},
   "outputs": [],
   "source": [
    "# 6월\n",
    "df_revenue_6 = df_revenue[df_revenue.completed_at.str.contains('2021-06')]\n",
    "df_revenue_6\n",
    "print(df_revenue_6['sale_price'].sum())"
   ]
  },
  {
   "cell_type": "code",
   "execution_count": null,
   "id": "233d60a5",
   "metadata": {},
   "outputs": [],
   "source": [
    "# 7월\n",
    "df_revenue_7 = df_revenue[df_revenue.completed_at.str.contains('2021-07')]\n",
    "df_revenue_7\n",
    "print(df_revenue_7['sale_price'].sum())"
   ]
  },
  {
   "cell_type": "code",
   "execution_count": null,
   "id": "b043d692",
   "metadata": {},
   "outputs": [],
   "source": [
    "# 8월\n",
    "df_revenue_8 = df_revenue[df_revenue.completed_at.str.contains('2021-08')]\n",
    "df_revenue_8\n",
    "print(df_revenue_8['sale_price'].sum())"
   ]
  },
  {
   "cell_type": "code",
   "execution_count": null,
   "id": "7e945ada",
   "metadata": {},
   "outputs": [],
   "source": [
    "# 9월\n",
    "df_revenue_9 = df_revenue[df_revenue.completed_at.str.contains('2021-09')]\n",
    "df_revenue_9\n",
    "print(df_revenue_9['sale_price'].sum())"
   ]
  },
  {
   "cell_type": "markdown",
   "id": "a715e3ed",
   "metadata": {},
   "source": [
    "|기간|월 총 매출|\n",
    "|:---:|:---:|\n",
    "|3/28-3/31|706886600.0|\n",
    "|4/1-4/30|3119246429.0|\n",
    "|5/1-5/31|2875703088.0|\n",
    "|6/1-6/30|2948945900.0|\n",
    "|7/1-7/31|2969232690.0|\n",
    "|8/1-8/31|2388545410.0|\n",
    "|9/1-9/25|1790717000.0|\n",
    "월별 매출 데이터로 데이터 프레임을 만들어보자.(위 표를 참고)"
   ]
  },
  {
   "cell_type": "code",
   "execution_count": null,
   "id": "09d7c48d",
   "metadata": {},
   "outputs": [],
   "source": [
    "revenue_month = pd.DataFrame([[706886600],\n",
    "                              [3119246429],\n",
    "                              [2875703088],\n",
    "                              [2948945900],\n",
    "                              [2969232690],\n",
    "                              [2388545410],\n",
    "                              [1790717000]],\n",
    "                             columns = ['Revenue_month'],\n",
    "                            index = [3, 4, 5, 6, 7, 8, 9])\n",
    "revenue_month"
   ]
  },
  {
   "cell_type": "code",
   "execution_count": null,
   "id": "e2069ea5",
   "metadata": {
    "scrolled": true
   },
   "outputs": [],
   "source": [
    "# Seaborn으로 시각화 해보기\n",
    "\n",
    "sns.lineplot(data=revenue_month)\n",
    "plt.show()"
   ]
  },
  {
   "cell_type": "markdown",
   "id": "2f6c2a35",
   "metadata": {},
   "source": [
    "# 강의별로 수요를 정리해서 어느 강좌가 FastCampus에서 인기가 있는지 조사해보자."
   ]
  },
  {
   "cell_type": "code",
   "execution_count": null,
   "id": "a4634ea2",
   "metadata": {},
   "outputs": [],
   "source": [
    "df[data['course_title'].isnull()]"
   ]
  },
  {
   "cell_type": "code",
   "execution_count": null,
   "id": "8adca14a",
   "metadata": {},
   "outputs": [],
   "source": [
    "data.groupby('course_title')"
   ]
  }
 ],
 "metadata": {
  "kernelspec": {
   "display_name": "Python 3 (ipykernel)",
   "language": "python",
   "name": "python3"
  },
  "language_info": {
   "codemirror_mode": {
    "name": "ipython",
    "version": 3
   },
   "file_extension": ".py",
   "mimetype": "text/x-python",
   "name": "python",
   "nbconvert_exporter": "python",
   "pygments_lexer": "ipython3",
   "version": "3.8.13"
  }
 },
 "nbformat": 4,
 "nbformat_minor": 5
}
